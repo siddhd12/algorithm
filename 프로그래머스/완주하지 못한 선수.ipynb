{
 "cells": [
  {
   "cell_type": "code",
   "execution_count": 1,
   "id": "c3271034",
   "metadata": {},
   "outputs": [
    {
     "name": "stdout",
     "output_type": "stream",
     "text": [
      "leo\n",
      "vinko\n",
      "mislav\n"
     ]
    }
   ],
   "source": [
    "# [프로그래머스]  완주하지 못한 선수\n",
    "def solution(participant, completion):\n",
    "    participant.sort() # 참가자 오름차순 정렬\n",
    "    completion.sort() # 완주자 오름차순 정렬\n",
    "    \n",
    "    for i in range(len(completion)):\n",
    "        # 참가자보다 적은 완주자를 for문을 돌려 남은 선수를 찾음\n",
    "        if participant[i]!=completion[i]: # 정렬한 리스트들이 서로 같지 않다면\n",
    "            return participant[i] # 완주하지 못한 선수 반환\n",
    "    \n",
    "    return participant[-1] # for문을 다 돌리고 남은 마지막 참가자 반환\n",
    "    \n",
    "# 처음엔 2중 for문을 돌려 전체를 비교해 남은 참가자들을 확인\n",
    "# 1, 2 번째 print()는 진행이 되나 같은 이름이 존재하는 3번째 print문을 확인했고\n",
    "# list문의 method들을 확인하다 sort를 발견하게 되었고 2중 for문 없이 문제 해결\n",
    "\n",
    "print(solution([\"leo\",\"kiki\",\"eden\"],[\"eden\",\"kiki\"]))\n",
    "print(solution([\"marina\", \"josipa\", \"nikola\", \"vinko\", \"filipa\"],[\"josipa\", \"filipa\", \"marina\", \"nikola\"]))\n",
    "print(solution([\"mislav\", \"stanko\", \"mislav\", \"ana\"],[\"stanko\", \"ana\", \"mislav\"]))\n",
    "\n"
   ]
  }
 ],
 "metadata": {
  "kernelspec": {
   "display_name": "Python 3 (ipykernel)",
   "language": "python",
   "name": "python3"
  },
  "language_info": {
   "codemirror_mode": {
    "name": "ipython",
    "version": 3
   },
   "file_extension": ".py",
   "mimetype": "text/x-python",
   "name": "python",
   "nbconvert_exporter": "python",
   "pygments_lexer": "ipython3",
   "version": "3.10.9"
  }
 },
 "nbformat": 4,
 "nbformat_minor": 5
}
