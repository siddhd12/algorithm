{
 "cells": [
  {
   "cell_type": "code",
   "execution_count": 2,
   "id": "7cb06533",
   "metadata": {},
   "outputs": [
    {
     "name": "stdout",
     "output_type": "stream",
     "text": [
      "c\n",
      "we\n",
      "t\n"
     ]
    }
   ],
   "source": [
    "# [프로그래머스] 가운데 글자 가져오기\n",
    "def solution(s):\n",
    "    if len(s) % 2 != 0: # 문자열 s의 길이가 홀수라면\n",
    "        return s[len(s) // 2] # 전체의 길이를 반으로 나눈 몫 반환\n",
    "    else: # 문자열 s의 길이가 짝수라면\n",
    "        return s[len(s) // 2-1 :len(s) // 2+1]\n",
    "    # 전체의 길이를 반으로 나눈 몫보다 작은 값과 반으로 나눈 값을 출력\n",
    "    \n",
    "# 문제를 푸는 데 있어 인덱스와 슬라이싱에 관해 이해를 해야 함\n",
    "    \n",
    "print(solution(\"abcde\"))\n",
    "print(solution(\"qwer\"))\n",
    "print(solution(\"camtono\"))"
   ]
  }
 ],
 "metadata": {
  "kernelspec": {
   "display_name": "Python 3 (ipykernel)",
   "language": "python",
   "name": "python3"
  },
  "language_info": {
   "codemirror_mode": {
    "name": "ipython",
    "version": 3
   },
   "file_extension": ".py",
   "mimetype": "text/x-python",
   "name": "python",
   "nbconvert_exporter": "python",
   "pygments_lexer": "ipython3",
   "version": "3.10.9"
  }
 },
 "nbformat": 4,
 "nbformat_minor": 5
}
