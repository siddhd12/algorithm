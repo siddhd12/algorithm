{
 "cells": [
  {
   "cell_type": "code",
   "execution_count": 15,
   "id": "202e3494",
   "metadata": {},
   "outputs": [
    {
     "name": "stdout",
     "output_type": "stream",
     "text": [
      "BC\n",
      "a\n",
      "e F d\n"
     ]
    }
   ],
   "source": [
    "# [프로그래머스] 시저 암호\n",
    "def solution(s,n):\n",
    "    low = 'abcdefghijklmnopqrstuvwxyz' # 소문자 나열\n",
    "    upp = 'ABCDEFGHIJKLMNOPQRSTUVWXYZ' # 대문자 나열\n",
    "    answer=\"\" # 정답을 담을 문자열\n",
    "    \n",
    "    for i in s: \n",
    "        if i in low: # 입력받은 문자열 s가 소문자 low 에 존재한다면\n",
    "            caesar = low.find(i) + n # find함수를 통해 위치를 찾고 n만큼 이동\n",
    "            answer += low[caesar % 26] # 나머지를 통해 26넘는 값도 처음으로 돌아갈 수 있게 설정\n",
    "        elif i in upp: # 입력받은 문자열 s가 대문자 upp에 존재한다면\n",
    "            caesar = upp.find(i) + n \n",
    "            answer +=upp[caesar % 26]\n",
    "        else:\n",
    "            answer +=\" \" # 공백을 추가\n",
    "    return answer # 정답 반환\n",
    "\n",
    "# 소문자와 대문자가 공존해 따로 처리해 주어야 한다고 생각함\n",
    "# find()와 index()의 사용법을 확실히 인지해야 함\n",
    "# answer 문자열을 담을 때 index()를 통해 담으려 했으나 z에서 a로 넘어가는 에러를 범해\n",
    "# 나머지를 사용해야 한다고 생각 -> 앞으로 리스트를 공부할 때 중요한 원리\n",
    "\n",
    "print(solution(\"AB\",1))\n",
    "print(solution(\"z\",1))\n",
    "print(solution(\"a B z\",4))\n"
   ]
  },
  {
   "cell_type": "code",
   "execution_count": null,
   "id": "cd8263d9",
   "metadata": {},
   "outputs": [],
   "source": []
  }
 ],
 "metadata": {
  "kernelspec": {
   "display_name": "Python 3 (ipykernel)",
   "language": "python",
   "name": "python3"
  },
  "language_info": {
   "codemirror_mode": {
    "name": "ipython",
    "version": 3
   },
   "file_extension": ".py",
   "mimetype": "text/x-python",
   "name": "python",
   "nbconvert_exporter": "python",
   "pygments_lexer": "ipython3",
   "version": "3.10.9"
  }
 },
 "nbformat": 4,
 "nbformat_minor": 5
}
