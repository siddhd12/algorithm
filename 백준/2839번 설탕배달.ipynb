{
 "cells": [
  {
   "cell_type": "markdown",
   "metadata": {},
   "source": [
    "상근이는 요즘 설탕공장에서 설탕을 배달하고 있다. 상근이는 지금 사탕가게에 설탕을 정확하게 N킬로그램을 배달해야 한다. 설탕공장에서 만드는 설탕은 봉지에 담겨져 있다. 봉지는 3킬로그램 봉지와 5킬로그램 봉지가 있다.\n",
    "\n",
    "상근이는 귀찮기 때문에, 최대한 적은 봉지를 들고 가려고 한다. 예를 들어, 18킬로그램 설탕을 배달해야 할 때, 3킬로그램 봉지 6개를 가져가도 되지만, 5킬로그램 3개와 3킬로그램 1개를 배달하면, 더 적은 개수의 봉지를 배달할 수 있다.\n",
    "\n",
    "상근이가 설탕을 정확하게 N킬로그램 배달해야 할 때, 봉지 몇 개를 가져가면 되는지 그 수를 구하는 프로그램을 작성하시오."
   ]
  },
  {
   "cell_type": "code",
   "execution_count": 107,
   "metadata": {},
   "outputs": [],
   "source": [
    "# 테스트용\n",
    "n=11\n",
    "result=[]\n",
    "for k in kg:\n",
    "    if n%k==0:\n",
    "        # print(n,k,n%k,n//k)\n",
    "        result.append(n//k)\n",
    "    # elif n%k!=0:\n",
    "    #     print(n,k,n%k,n//k)\n",
    "    #     n=n%k\n",
    "for k in kg:\n",
    "    if n%k!=0:\n",
    "        # print(n,k,n%k,n//k)\n",
    "        temp=+n//k\n",
    "        n=n%k\n",
    "        # print(n)\n",
    "    else:\n",
    "        temp+=n//k\n",
    "result.append(temp)\n",
    "\n",
    "\n"
   ]
  },
  {
   "cell_type": "code",
   "execution_count": 105,
   "metadata": {},
   "outputs": [
    {
     "name": "stdout",
     "output_type": "stream",
     "text": [
      "1000\n"
     ]
    }
   ],
   "source": [
    "## 제출용\n",
    "n=int(input())\n",
    "result=[]\n",
    "for x in range(1001):\n",
    "    for y in range(2001):\n",
    "        if x*5+y*3==n:\n",
    "            result.append(x+y)\n",
    "if len(result)==0:\n",
    "    print('-1')\n",
    "else:\n",
    "    print(min(result))"
   ]
  },
  {
   "cell_type": "code",
   "execution_count": 106,
   "metadata": {},
   "outputs": [],
   "source": [
    "# 느낀점: 생각보다 쉬웠다..그냥 갯수를 x,y로 두고 0개 포함해서 제일 작은수를 나오게끔 하는법 이게 내가 정한결과다 n=5000이니까 5는 1000개 3은 2000개정도 가 라인안에 들어갈거같았기에 범위를 제한함.."
   ]
  }
 ],
 "metadata": {
  "kernelspec": {
   "display_name": "Python 3",
   "language": "python",
   "name": "python3"
  },
  "language_info": {
   "codemirror_mode": {
    "name": "ipython",
    "version": 3
   },
   "file_extension": ".py",
   "mimetype": "text/x-python",
   "name": "python",
   "nbconvert_exporter": "python",
   "pygments_lexer": "ipython3",
   "version": "3.12.0"
  }
 },
 "nbformat": 4,
 "nbformat_minor": 2
}
