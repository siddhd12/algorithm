{
 "cells": [
  {
   "cell_type": "code",
   "execution_count": null,
   "metadata": {},
   "outputs": [],
   "source": [
    "# 문제 해석\n",
    "# 알파벳 문자열을 받고 그 문자열에서 가장 많은 알파벳 하나를 출력 하는 것\n",
    "# 그렇지만 다수의 알파벳이 복수로 있다면 ?를 출력한다.\n",
    "# 예시) Mississipi 입력-> \"?\" 출력 -> 다수의 복수개 알파벳으로 인해 ?를 출력\n",
    "# 예시) zZa 입력 -> z만 복수 -> Z 가 출력\n",
    "######\n",
    "#  예상 코딩\n",
    "#  문자열 입력 받음 -> 소문자로 전부 변경, 각 카운트 복수개일 경우 ? ,한 개일경우\n",
    "# 해당되는 알파벳 출력"
   ]
  },
  {
   "cell_type": "code",
   "execution_count": 131,
   "metadata": {},
   "outputs": [
    {
     "name": "stdout",
     "output_type": "stream",
     "text": [
      "A\n"
     ]
    }
   ],
   "source": [
    "text=input() # aaaabbbcc\n",
    "down=text.upper() # 대문자로 변경한거\n",
    "filter_text=\"\".join(set(down))\n",
    "dic_list={}\n",
    "num=0\n",
    "# print(filter_text)\n",
    "for i in range(len(filter_text)): # 값 :갯수로 딕셔너리에 저장하기 위한 것\n",
    "    # print(filter_text[i])\n",
    "    value =down.count(filter_text[i])\n",
    "    key = filter_text[i]\n",
    "    # print(key,value)\n",
    "    dic_list[key] = value\n",
    "# for key,value in dic_list.items(): # key,value를 다같이 뽑아내려면 dic.items()을써야함!!\n",
    "#     print(key,value)\n",
    "# max_value를 찾고 max_value인 값이 2개 이상이면 \"?\"를출력\n",
    "# print(\"max는\",max(dic_list.values()))\n",
    "for key,value in dic_list.items():\n",
    "    if value==max(dic_list.values()):\n",
    "        num+=1\n",
    "        result=key\n",
    "if num>1: # max가 중복 인경우, ?출력\n",
    "    print(\"?\")\n",
    "    # print(\"중복갯수\",num)\n",
    "else:\n",
    "    print(result)\n",
    "    \n",
    "\n",
    "# 다른방법의 방법... 하지만 옭지 않은 식인거같아 위의식으로 변경\n",
    "# 아니면 가장 max_value를 출력\n",
    "\n",
    "# for i in range(len(filter_text)):\n",
    "#     if down.count(filter_text[i])>=2: # down 안에 count =가 2이상이면 num_list에 값추가\n",
    "#         num_list.append(down.count(filter_text[i])) # count 값이 2이상이면 추가 \n",
    "#         result=filter_text[i]\n",
    "# # print(num_list)\n",
    "# for i in range(len(num_list)):\n",
    "#     if num_list.count(i)==2: # 똑같은 값이 2개면 ? 출력\n",
    "#         print(\"?\")\n",
    "#         num=1 # 똑같은 값이 아닌경우,깃발 플레그\n",
    "# if num is not 1 and down==max(num_list):\n",
    "#     print()\n",
    "\n",
    "# if num==1:\n",
    "\n",
    "        \n",
    "# print(result)"
   ]
  },
  {
   "cell_type": "code",
   "execution_count": 113,
   "metadata": {},
   "outputs": [
    {
     "data": {
      "text/plain": [
       "{'C': 3, 'A': 4, 'B': 2}"
      ]
     },
     "execution_count": 113,
     "metadata": {},
     "output_type": "execute_result"
    }
   ],
   "source": [
    "dic_list"
   ]
  },
  {
   "cell_type": "code",
   "execution_count": 116,
   "metadata": {},
   "outputs": [
    {
     "name": "stdout",
     "output_type": "stream",
     "text": [
      "C\n",
      "dict_values([3, 4, 2])\n",
      "A\n",
      "dict_values([3, 4, 2])\n",
      "B\n",
      "dict_values([3, 4, 2])\n"
     ]
    }
   ],
   "source": [
    "for i in dic_list:\n"
   ]
  },
  {
   "cell_type": "code",
   "execution_count": 93,
   "metadata": {},
   "outputs": [
    {
     "data": {
      "text/plain": [
       "'CAB'"
      ]
     },
     "execution_count": 93,
     "metadata": {},
     "output_type": "execute_result"
    }
   ],
   "source": [
    "filter_text"
   ]
  },
  {
   "cell_type": "code",
   "execution_count": null,
   "metadata": {},
   "outputs": [],
   "source": []
  }
 ],
 "metadata": {
  "kernelspec": {
   "display_name": "ml",
   "language": "python",
   "name": "python3"
  },
  "language_info": {
   "codemirror_mode": {
    "name": "ipython",
    "version": 3
   },
   "file_extension": ".py",
   "mimetype": "text/x-python",
   "name": "python",
   "nbconvert_exporter": "python",
   "pygments_lexer": "ipython3",
   "version": "3.10.11"
  },
  "orig_nbformat": 4
 },
 "nbformat": 4,
 "nbformat_minor": 2
}
