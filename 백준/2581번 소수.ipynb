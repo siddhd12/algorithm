{
 "cells": [
  {
   "cell_type": "markdown",
   "metadata": {},
   "source": [
    "자연수 M과 N이 주어질 때 M이상 N이하의 자연수 중 소수인 것을 모두 골라 이들 소수의 합과 최솟값을 찾는 프로그램을 작성하시오.\n",
    "\n",
    "예를 들어 M=60, N=100인 경우 60이상 100이하의 자연수 중 소수는 61, 67, 71, 73, 79, 83, 89, 97 총 8개가 있으므로, 이들 소수의 합은 620이고, 최솟값은 61이 된다."
   ]
  },
  {
   "cell_type": "code",
   "execution_count": null,
   "metadata": {},
   "outputs": [],
   "source": [
    "#### 예상코드\n",
    "# 아무래도 이 곳에서 소수판별의 어쩌구 채 알고리즘을 사용해야할거같다.\n",
    "# N,M을 받고 그 사이의 소수를 구한다. 생각보다 어려우면서 쉽다..?\n",
    "# 시간 복잡도를 신경 써야할듯 판별은 제곱근으로 했지만 사이의 소수를찾는건 시간이 오래걸리지않을까?\n"
   ]
  },
  {
   "cell_type": "code",
   "execution_count": 13,
   "metadata": {},
   "outputs": [
    {
     "name": "stdout",
     "output_type": "stream",
     "text": [
      "620\n",
      "61\n"
     ]
    }
   ],
   "source": [
    "n=int(input())\n",
    "m=int(int(input()))\n",
    "\n",
    "import math\n",
    "def prime_check(value):\n",
    "    prime_number=False\n",
    "    if value==1: # 1인경우\n",
    "        prime_number=False\n",
    "        return prime_number\n",
    "    prime_check_num=int(math.sqrt(value))\n",
    "    if prime_check_num==1: # 제곱근이 1인경우 반복문이 돌아가지 않으니 넣음\n",
    "        prime_number=True\n",
    "        return prime_number\n",
    "    for i in range(2,prime_check_num+1):\n",
    "        if value % i==0: # 나누어지면 약수가 있으니 소수가 아니다\n",
    "            prime_number=False\n",
    "            break\n",
    "        else:\n",
    "            prime_number=True\n",
    "    return prime_number\n",
    "\n",
    "prime=[]\n",
    "for i in range(n,m+1):\n",
    "    if prime_check(i)==True:\n",
    "        prime.append(i)\n",
    "if len(prime)==0:\n",
    "    print('-1')\n",
    "else:\n",
    "    print(sum(prime))\n",
    "    print(min(prime))"
   ]
  },
  {
   "cell_type": "code",
   "execution_count": 14,
   "metadata": {},
   "outputs": [],
   "source": [
    "# 느낀점: 그냥 제곱근 방식을 이용함.. 근데 맞음.. 생각보다 너무 쉬웠다... 1978번을 풀면 그냥 바로 풀수 있는 문제"
   ]
  },
  {
   "cell_type": "code",
   "execution_count": null,
   "metadata": {},
   "outputs": [],
   "source": []
  }
 ],
 "metadata": {
  "kernelspec": {
   "display_name": "Python 3",
   "language": "python",
   "name": "python3"
  },
  "language_info": {
   "codemirror_mode": {
    "name": "ipython",
    "version": 3
   },
   "file_extension": ".py",
   "mimetype": "text/x-python",
   "name": "python",
   "nbconvert_exporter": "python",
   "pygments_lexer": "ipython3",
   "version": "3.12.0"
  }
 },
 "nbformat": 4,
 "nbformat_minor": 2
}
