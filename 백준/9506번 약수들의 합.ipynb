{
 "cells": [
  {
   "cell_type": "markdown",
   "metadata": {},
   "source": [
    "어떤 숫자 n이 자신을 제외한 모든 약수들의 합과 같으면, 그 수를 완전수라고 한다.\n",
    "\n",
    "예를 들어 6은 6 = 1 + 2 + 3 으로 완전수이다.\n",
    "\n",
    "n이 완전수인지 아닌지 판단해주는 프로그램을 작성하라."
   ]
  },
  {
   "cell_type": "code",
   "execution_count": 33,
   "metadata": {},
   "outputs": [
    {
     "name": "stdout",
     "output_type": "stream",
     "text": [
      "6 = + 1  + 2  + 3 \n",
      "12 is NOT perfect.\n",
      "28 = + 1  + 2  + 4  + 7  + 14 \n"
     ]
    }
   ],
   "source": [
    "#초기코드\n",
    "number=1\n",
    "while number!=-1:\n",
    "    try:\n",
    "        number=int(input())\n",
    "        div=[]\n",
    "        for i in range(1,number): # 본인을 제외하기에 -1\n",
    "            if number % i == 0:\n",
    "                div.append(i)\n",
    "        if sum(div)==number:\n",
    "            print(f'{number} =', end=\"\")\n",
    "            for i in div:\n",
    "                print(end=\" + \")\n",
    "                print(i, end=\" \")\n",
    "            print('')\n",
    "        else:\n",
    "            if number==-1:\n",
    "                break\n",
    "            print(f'{number} is NOT perfect.')\n",
    "            \n",
    "    except:\n",
    "        break"
   ]
  },
  {
   "cell_type": "code",
   "execution_count": 42,
   "metadata": {},
   "outputs": [
    {
     "name": "stdout",
     "output_type": "stream",
     "text": [
      "6 = 1 + 2 + 3\n",
      "12 is NOT perfect.\n",
      "28 = 1 + 2 + 4 + 7 + 14\n"
     ]
    }
   ],
   "source": [
    "#제출용\n",
    "while True:\n",
    "    try:\n",
    "        number=int(input())\n",
    "        if number==-1:\n",
    "            break\n",
    "        div=[]\n",
    "        for i in range(1,number): # 본인을 제외하기에 -1\n",
    "            if number % i == 0:\n",
    "                div.append(i)\n",
    "        if sum(div)==number:\n",
    "            print(f'{number} = ', end=\"\")\n",
    "            print(' + '.join(map(str, div)))\n",
    "        else:\n",
    "            print(f'{number} is NOT perfect.')    \n",
    "    except:\n",
    "        break"
   ]
  },
  {
   "cell_type": "code",
   "execution_count": null,
   "metadata": {},
   "outputs": [],
   "source": [
    "# .join(map(str, div))) 에대한 해석 -> 새롭게 알아냄\n",
    "# map은 파이썬의 내장 함수중 하나 주어진 함수를 반복 가능한 객체\n",
    "# (예: 리스트,튜플등) 모든 요소에 적용하여 새로운 값을 반환\n",
    "# map(함수, 반복 가능한객체)\n",
    "# 위에 것을 예시로 들면 div리스트를 str로 변경 해줌\n",
    "# '구분자'.join(문자열들)은 문자열을 결합 하는데 사용되는 파이썬의 문자열 메서드\n",
    "# 이 메서드를 이용해 특정한 문자열을 사용해 다른 문자열을 이어 붙이기가 가능함 \n",
    "# 문자열들 이란 반복 가능한 (iterable)객체 면 된다..그래서 1, 2, 3 int 형인 것을 map으로 str 형으로 변경\n",
    "# 그 후 '구분자'.join(리스트)를 이용해 값을 이어붙인다..\n",
    "\n",
    "# 느낀점: join을 좀더 신경 쓰도록 하자, 그리고 while문에 대해 더 공부가 필요할 거 같다 ... "
   ]
  }
 ],
 "metadata": {
  "kernelspec": {
   "display_name": "Python 3",
   "language": "python",
   "name": "python3"
  },
  "language_info": {
   "codemirror_mode": {
    "name": "ipython",
    "version": 3
   },
   "file_extension": ".py",
   "mimetype": "text/x-python",
   "name": "python",
   "nbconvert_exporter": "python",
   "pygments_lexer": "ipython3",
   "version": "3.12.0"
  }
 },
 "nbformat": 4,
 "nbformat_minor": 2
}
