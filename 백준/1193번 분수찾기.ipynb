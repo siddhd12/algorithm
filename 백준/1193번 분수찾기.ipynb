{
 "cells": [
  {
   "cell_type": "markdown",
   "metadata": {},
   "source": [
    "이와 같이 나열된 분수들을 1/1 → 1/2 → 2/1 → 3/1 → 2/2 → … 과 같은 지그재그 순서로 차례대로 1번, 2번, 3번, 4번, 5번, … 분수라고 하자.\n",
    "\n",
    "X가 주어졌을 때, X번째 분수를 구하는 프로그램을 작성하시오\n"
   ]
  },
  {
   "cell_type": "code",
   "execution_count": null,
   "metadata": {},
   "outputs": [],
   "source": [
    "# ### 예상코딩\n",
    "# 1 -1\n",
    "\n",
    "# 1/2,2/1 -2,3\n",
    "\n",
    "# 3/1,2/2,1/3 - 4,5,6\n",
    "\n",
    "# 식으로 1 2 3 4 , 4 3 2 1 식으로 줄어들거나 늘어나면서 계산됨 이것을 숫자로 넣고 해주면 됨...! 아마도?"
   ]
  },
  {
   "cell_type": "code",
   "execution_count": 40,
   "metadata": {},
   "outputs": [
    {
     "name": "stdout",
     "output_type": "stream",
     "text": [
      "2844/1629\n"
     ]
    }
   ],
   "source": [
    "find_number = int(input()) # 찾을넘버\n",
    "\n",
    "\n",
    "result_number=0\n",
    "value=1 # 초기값\n",
    "\n",
    "while find_number < result_number:\n",
    "    if value %2==0:\n",
    "        for i in range(1,value+1):\n",
    "            result_number+=1\n",
    "            # print(f'값{i}/{(value+1)-i}','찾은번호',result_number,'찾을번호',find_number)\n",
    "            if result_number==find_number:\n",
    "                # print(f'값{i}/{(value+1)-i}','찾은번호',result_number,'찾을번호',find_number)\n",
    "                print(f'{i}/{(value+1)-i}')\n",
    "                break\n",
    "        value+=1\n",
    "    else:\n",
    "        for i in range(1,value+1):\n",
    "            result_number+=1\n",
    "            # print(f'{(value+1)-i}/{i}','찾은번호',result_number,'찾을번호',find_number)\n",
    "            if result_number==find_number:\n",
    "                # print(f'{(value+1)-i}/{i}','찾은번호',result_number,'찾을번호',find_number)\n",
    "                print(f'{(value+1)-i}/{i}')\n",
    "                break\n",
    "        value+=1\n",
    "\n",
    "    \n"
   ]
  },
  {
   "cell_type": "code",
   "execution_count": null,
   "metadata": {},
   "outputs": [],
   "source": [
    "# 위에건 초기용이다 시간 초과로 실패해서 반복문을 최대한 제거하여 조건문으로만 달았다.."
   ]
  },
  {
   "cell_type": "code",
   "execution_count": 137,
   "metadata": {},
   "outputs": [
    {
     "name": "stdout",
     "output_type": "stream",
     "text": [
      "1/7\n"
     ]
    }
   ],
   "source": [
    "find_num=28\n",
    "max_num=1\n",
    "line=1\n",
    "result_num=0\n",
    "flag=True\n",
    "while flag==True:\n",
    "        max_num=sum(range(line+1))\n",
    "        if find_num>max_num:\n",
    "                line+=1\n",
    "                max_num=sum(range(line+1))\n",
    "                # print(max_num)\n",
    "        else:\n",
    "            # print('dd')\n",
    "            result_num=max_num-line\n",
    "            result_num=find_num-result_num\n",
    "            # break\n",
    "            if line %2==0: #짝수\n",
    "                   print(f\"{result_num}/{line-result_num+1}\")\n",
    "                   break\n",
    "            else: # 홀수\n",
    "                print(f'{line-result_num+1}/{result_num}')\n",
    "                break\n"
   ]
  },
  {
   "cell_type": "code",
   "execution_count": null,
   "metadata": {},
   "outputs": [],
   "source": [
    "\n"
   ]
  },
  {
   "cell_type": "code",
   "execution_count": null,
   "metadata": {},
   "outputs": [],
   "source": [
    "# 느낀점: 남의 예상코드를 잠깐 훓어봄, 사실 내가 했어도 됐었던거같다...코드는 안봤다는거에 만족하고 line의 힌트만 확인했다..\n",
    "# 는 실버  5문제답지않았다 사실상 힌트를 봤는데 힌트처럼 풀지 않은 느낌이랄까? 더 쉽게 작성할수 있지만 남들이 코드를 보고 이해할수 있게 작성했다..\n"
   ]
  }
 ],
 "metadata": {
  "kernelspec": {
   "display_name": "Python 3",
   "language": "python",
   "name": "python3"
  },
  "language_info": {
   "codemirror_mode": {
    "name": "ipython",
    "version": 3
   },
   "file_extension": ".py",
   "mimetype": "text/x-python",
   "name": "python",
   "nbconvert_exporter": "python",
   "pygments_lexer": "ipython3",
   "version": "3.12.0"
  }
 },
 "nbformat": 4,
 "nbformat_minor": 2
}
