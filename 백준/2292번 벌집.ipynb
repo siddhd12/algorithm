{
 "cells": [
  {
   "cell_type": "markdown",
   "metadata": {},
   "source": [
    "위의 그림과 같이 육각형으로 이루어진 벌집이 있다. 그림에서 보는 바와 같이 중앙의 방 1부터 시작해서 이웃하는 방에 돌아가면서 1씩 증가하는 번호를 주소로 매길 수 있다. 숫자 N이 주어졌을 때, 벌집의 중앙 1에서 N번 방까지 최소 개수의 방을 지나서 갈 때 몇 개의 방을 지나가는지(시작과 끝을 포함하여)를 계산하는 프로그램을 작성하시오. 예를 들면, 13까지는 3개, 58까지는 5개를 지난다."
   ]
  },
  {
   "cell_type": "code",
   "execution_count": null,
   "metadata": {},
   "outputs": [],
   "source": [
    "###예상 코드 \n",
    "# 6의 배수로 칸이 나눠지지 않을까라는게 내생각\n",
    "# 1 은 1칸\n",
    "# 2~7까지 1+6 까지 2칸\n",
    "# 8~19 7+12칸 3칸\n",
    "# 20~37 19+18 4칸\n",
    "# 38~61   37+24 5칸\n",
    "# ㅡㅡㅡㅡㅡㅡㅡㅡㅡㅡㅡㅡㅡㅡㅡㅡ\n",
    "# 8~19 \n",
    "# 홀수는 칸 그대로 짝수는 +1칸임\n",
    "\n",
    "# 만약에 38을 찾는다 "
   ]
  },
  {
   "cell_type": "code",
   "execution_count": 43,
   "metadata": {},
   "outputs": [
    {
     "name": "stdout",
     "output_type": "stream",
     "text": [
      "1\n"
     ]
    }
   ],
   "source": [
    "num=int(input())\n",
    "result=True\n",
    "step=6\n",
    "bee_house=1\n",
    "bee_stair=1\n",
    "while result==True:\n",
    "    if num>bee_house:\n",
    "        bee_house=bee_house+(step*bee_stair)\n",
    "        # print(bee_stair,bee_house)\n",
    "        bee_stair+=1\n",
    "    else:\n",
    "        result=False\n",
    "# print('입력값',num)\n",
    "# print(bee_house)\n",
    "print(bee_stair)"
   ]
  },
  {
   "cell_type": "code",
   "execution_count": 36,
   "metadata": {},
   "outputs": [
    {
     "data": {
      "text/plain": [
       "13"
      ]
     },
     "execution_count": 36,
     "metadata": {},
     "output_type": "execute_result"
    }
   ],
   "source": [
    "# 느낀점 머리 잘 돌아감"
   ]
  },
  {
   "cell_type": "code",
   "execution_count": 46,
   "metadata": {},
   "outputs": [
    {
     "name": "stdout",
     "output_type": "stream",
     "text": [
      "5\n"
     ]
    }
   ],
   "source": [
    "# 함수 만들어서 함\n",
    "num=int(input())\n",
    "\n",
    "def honey_bee(num):\n",
    "    result=True\n",
    "    step=6\n",
    "    bee_house=1\n",
    "    bee_stair=1\n",
    "    while result==True:\n",
    "        if num>bee_house:\n",
    "            bee_house=bee_house+(step*bee_stair)\n",
    "            bee_stair+=1\n",
    "        else:\n",
    "            result=False\n",
    "    return bee_stair\n",
    "print(honey_bee(num))"
   ]
  },
  {
   "cell_type": "code",
   "execution_count": null,
   "metadata": {},
   "outputs": [],
   "source": []
  }
 ],
 "metadata": {
  "kernelspec": {
   "display_name": "Python 3",
   "language": "python",
   "name": "python3"
  },
  "language_info": {
   "codemirror_mode": {
    "name": "ipython",
    "version": 3
   },
   "file_extension": ".py",
   "mimetype": "text/x-python",
   "name": "python",
   "nbconvert_exporter": "python",
   "pygments_lexer": "ipython3",
   "version": "3.12.0"
  }
 },
 "nbformat": 4,
 "nbformat_minor": 2
}
