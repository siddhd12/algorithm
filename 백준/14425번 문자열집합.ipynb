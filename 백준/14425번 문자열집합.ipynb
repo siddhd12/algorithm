{
 "cells": [
  {
   "cell_type": "markdown",
   "metadata": {},
   "source": [
    "총 N개의 문자열로 이루어진 집합 S가 주어진다.\n",
    "\n",
    "입력으로 주어지는 M개의 문자열 중에서 집합 S에 포함되어 있는 것이 총 몇 개인지 구하는 프로그램을 작성하시오."
   ]
  },
  {
   "cell_type": "code",
   "execution_count": 1,
   "metadata": {},
   "outputs": [],
   "source": [
    "#### 예상코드\n",
    "# 문제를 이해하는것부터가 힘듬...\n",
    "# 일단  이해한걸론 n m을 받고 한번에 입력을 받음 그렇게 예로 5 11하면 5번 반복하게한다음 어떠한 리스트에 넣고\n",
    "# 그리스트에포함되어있는지 11개를 또다시 받은다음에 이차저차 하는거같음...\n",
    "# 이것을 2초안으로 해야함 "
   ]
  },
  {
   "cell_type": "code",
   "execution_count": 4,
   "metadata": {},
   "outputs": [],
   "source": [
    "import sys\n",
    "n,m=map(int,input().split(' '))\n",
    "zip_s=[]\n",
    "qa_list=[]\n",
    "for i in range(n+m):\n",
    "    if i<n:\n",
    "        zip_s.append(sys.stdin.readline())\n",
    "    else:\n",
    "        qa_list.append(sys.stdin.readline())\n",
    "index_va_zip_s={value:index for index,value in enumerate(zip_s)}\n",
    "result=0\n",
    "for i in qa_list:\n",
    "    try:\n",
    "        if index_va_zip_s[i] is not None:\n",
    "            result+=1\n",
    "    except:\n",
    "        continue\n",
    "print(result)"
   ]
  },
  {
   "cell_type": "code",
   "execution_count": 14,
   "metadata": {},
   "outputs": [],
   "source": [
    "# 느낀점: 자꾸틀렸는데 이유는 n,m을 위에행에다가 써놓고 넣지를 않았음...ㅋㅋㅋ그리고 if i<4 이런식으로 하드코딩해놔서 집합s와 구분을 못하고 무조건 4에 끊어지게함...너무 쉬워서 가볍게봄..."
   ]
  }
 ],
 "metadata": {
  "kernelspec": {
   "display_name": "Python 3",
   "language": "python",
   "name": "python3"
  },
  "language_info": {
   "codemirror_mode": {
    "name": "ipython",
    "version": 3
   },
   "file_extension": ".py",
   "mimetype": "text/x-python",
   "name": "python",
   "nbconvert_exporter": "python",
   "pygments_lexer": "ipython3",
   "version": "3.12.0"
  }
 },
 "nbformat": 4,
 "nbformat_minor": 2
}
