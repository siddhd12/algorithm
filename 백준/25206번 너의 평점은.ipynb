{
 "cells": [
  {
   "cell_type": "markdown",
   "metadata": {},
   "source": [
    "인하대학교 컴퓨터공학과를 졸업하기 위해서는, 전공평점이 3.3 이상이거나 졸업고사를 통과해야 한다. 그런데 아뿔싸, 치훈이는 깜빡하고 졸업고사를 응시하지 않았다는 사실을 깨달았다!\n",
    "\n",
    "치훈이의 전공평점을 계산해주는 프로그램을 작성해보자.\n",
    "\n",
    "전공평점은 전공과목별 (학점 × 과목평점)의 합을 학점의 총합으로 나눈 값이다.\n",
    "\n",
    "인하대학교 컴퓨터공학과의 등급에 따른 과목평점은 다음 표와 같다."
   ]
  },
  {
   "cell_type": "markdown",
   "metadata": {},
   "source": [
    "입력\n",
    "20줄에 걸쳐 치훈이가 수강한 전공과목의 과목명, 학점, 등급이 공백으로 구분되어 주어진다.\n",
    "\n",
    "출력\n",
    "치훈이의 전공평점을 출력한다.\n",
    "\n",
    "정답과의 절대오차 또는 상대오차가 \n",
    "\\(10^{-4}\\) 이하이면 정답으로 인정한다.\n",
    "\n",
    "제한\n",
    "1 ≤ 과목명의 길이 ≤ 50\n",
    "과목명은 알파벳 대소문자 또는 숫자로만 이루어져 있으며, 띄어쓰기 없이 주어진다. 입력으로 주어지는 모든 과목명은 서로 다르다.\n",
    "학점은 1.0,2.0,3.0,4.0중 하나이다.\n",
    "등급은 A+,A0,B+,B0,C+,C0,D+,D0,F,P중 하나이다.\n",
    "적어도 한 과목은 등급이 P가 아님이 보장된다."
   ]
  },
  {
   "cell_type": "code",
   "execution_count": 39,
   "metadata": {},
   "outputs": [],
   "source": [
    "def hakjun_cal(number): #과목,학점,등급 입력하면 학점을 계산해준다.\n",
    "    all=[]\n",
    "    result=0.0\n",
    "    for i in range(int(number)):\n",
    "        text=input().split(' ')\n",
    "        all.append(text)\n",
    "    for obj in all:\n",
    "        result+=float(obj[1])\n",
    "        # print(obj[1])\n",
    "        if 'F' or 'P' in obj:\n",
    "            number-=1\n",
    "            continue\n",
    "    # print(result/number)\n",
    "\n",
    "\n",
    "\n",
    "    return result/number"
   ]
  },
  {
   "cell_type": "code",
   "execution_count": 40,
   "metadata": {},
   "outputs": [
    {
     "ename": "ZeroDivisionError",
     "evalue": "float division by zero",
     "output_type": "error",
     "traceback": [
      "\u001b[1;31m---------------------------------------------------------------------------\u001b[0m",
      "\u001b[1;31mZeroDivisionError\u001b[0m                         Traceback (most recent call last)",
      "\u001b[1;32mc:\\developcoding\\beakjoon\\25206번 너의 평점은.ipynb Cell 4\u001b[0m line \u001b[0;36m1\n\u001b[1;32m----> <a href='vscode-notebook-cell:/c%3A/developcoding/beakjoon/25206%EB%B2%88%20%EB%84%88%EC%9D%98%20%ED%8F%89%EC%A0%90%EC%9D%80.ipynb#W5sZmlsZQ%3D%3D?line=0'>1</a>\u001b[0m hakjun_cal(\u001b[39m2\u001b[39;49m)\n",
      "\u001b[1;32mc:\\developcoding\\beakjoon\\25206번 너의 평점은.ipynb Cell 4\u001b[0m line \u001b[0;36m1\n\u001b[0;32m     <a href='vscode-notebook-cell:/c%3A/developcoding/beakjoon/25206%EB%B2%88%20%EB%84%88%EC%9D%98%20%ED%8F%89%EC%A0%90%EC%9D%80.ipynb#W5sZmlsZQ%3D%3D?line=11'>12</a>\u001b[0m         \u001b[39mcontinue\u001b[39;00m\n\u001b[0;32m     <a href='vscode-notebook-cell:/c%3A/developcoding/beakjoon/25206%EB%B2%88%20%EB%84%88%EC%9D%98%20%ED%8F%89%EC%A0%90%EC%9D%80.ipynb#W5sZmlsZQ%3D%3D?line=12'>13</a>\u001b[0m \u001b[39m# print(result/number)\u001b[39;00m\n\u001b[1;32m---> <a href='vscode-notebook-cell:/c%3A/developcoding/beakjoon/25206%EB%B2%88%20%EB%84%88%EC%9D%98%20%ED%8F%89%EC%A0%90%EC%9D%80.ipynb#W5sZmlsZQ%3D%3D?line=16'>17</a>\u001b[0m \u001b[39mreturn\u001b[39;00m result\u001b[39m/\u001b[39;49mnumber\n",
      "\u001b[1;31mZeroDivisionError\u001b[0m: float division by zero"
     ]
    }
   ],
   "source": [
    "hakjun_cal(2)"
   ]
  },
  {
   "cell_type": "code",
   "execution_count": null,
   "metadata": {},
   "outputs": [
    {
     "name": "stdout",
     "output_type": "stream",
     "text": [
      "P\n",
      "3.0526315789473686\n"
     ]
    }
   ],
   "source": [
    "number=20\n",
    "all=[]\n",
    "result=0.0\n",
    "for i in range(int(number)):\n",
    "    text=input().split(' ')\n",
    "    all.append(text)\n",
    "for obj in all:\n",
    "    if obj[2]=='A+':\n",
    "        result+=int(obj[1])*4.5\n",
    "    elif obj[2]=='A0':\n",
    "        result+=int(obj[1])*4.0\n",
    "    elif obj[2]=='B+':\n",
    "        result+=int(obj[1])*3.5\n",
    "    elif obj[2]=='B0':\n",
    "        result+=int(obj[1])*3.0\n",
    "    elif obj[2]=='C+':\n",
    "        result+=int(obj[1])*2.5\n",
    "    elif obj[2]=='C0':\n",
    "        result+=int(obj[1])*2.0\n",
    "    elif obj[2]=='D+':\n",
    "        result+=int(obj[1])*1.5\n",
    "    elif obj[2]=='D0':\n",
    "        result+=int(obj[1])*1.0\n",
    "    elif obj[2]=='F':\n",
    "        result+=int(obj[1])*0.0\n",
    "    elif  obj[2]=='P':\n",
    "        print(obj[2])\n",
    "        number-=1\n",
    "        # print(number)\n",
    "        continue\n",
    "\n",
    "print(result/number)"
   ]
  },
  {
   "cell_type": "code",
   "execution_count": 62,
   "metadata": {},
   "outputs": [
    {
     "data": {
      "text/plain": [
       "58.0"
      ]
     },
     "execution_count": 62,
     "metadata": {},
     "output_type": "execute_result"
    }
   ],
   "source": [
    "3.0+3.0+3.0+3.0+3.0+3.0+3.0+3.0+3.0+3.0+3.0+4.0+3.0+3.0+3.0+3.0+3.0+3.0+3.0"
   ]
  },
  {
   "cell_type": "code",
   "execution_count": 64,
   "metadata": {},
   "outputs": [
    {
     "data": {
      "text/plain": [
       "2.9"
      ]
     },
     "execution_count": 64,
     "metadata": {},
     "output_type": "execute_result"
    }
   ],
   "source": [
    "58.0/20"
   ]
  },
  {
   "cell_type": "code",
   "execution_count": null,
   "metadata": {},
   "outputs": [],
   "source": []
  }
 ],
 "metadata": {
  "kernelspec": {
   "display_name": "Python 3",
   "language": "python",
   "name": "python3"
  },
  "language_info": {
   "codemirror_mode": {
    "name": "ipython",
    "version": 3
   },
   "file_extension": ".py",
   "mimetype": "text/x-python",
   "name": "python",
   "nbconvert_exporter": "python",
   "pygments_lexer": "ipython3",
   "version": "3.12.0"
  }
 },
 "nbformat": 4,
 "nbformat_minor": 2
}
