{
 "cells": [
  {
   "cell_type": "markdown",
   "metadata": {},
   "source": [
    "오늘도 서준이는 점근적 표기 수업 조교를 하고 있다. 아빠가 수업한 내용을 학생들이 잘 이해했는지 문제를 통해서 확인해보자.\n",
    "\n",
    "알고리즘의 소요 시간을 나타내는 O-표기법(빅-오)을 다음과 같이 정의하자.\n",
    "\n",
    "O(g(n)) = {f(n) | 모든 n ≥ n0에 대하여 f(n) ≤ c × g(n)인 양의 상수 c와 n0가 존재한다}\n",
    "\n",
    "이 정의는 실제 O-표기법(https://en.wikipedia.org/wiki/Big_O_notation)과 다를 수 있다.\n",
    "\n",
    "함수 f(n) = a1n + a0, 양의 정수 c, n0가 주어질 경우 O(n) 정의를 만족하는지 알아보자."
   ]
  },
  {
   "cell_type": "code",
   "execution_count": null,
   "metadata": {},
   "outputs": [],
   "source": [
    "#### 예상코드\n",
    "# f(n) = a1*n + a0 을 입력으로 인식하게 끔 만들고  c와 n0이 주어질 경우 0(n)에 맞게끔 조건문 타면 될듯??"
   ]
  },
  {
   "cell_type": "code",
   "execution_count": 1,
   "metadata": {},
   "outputs": [],
   "source": [
    "a1,a0=map(int,input().split(' '))\n",
    "c = int(input())\n",
    "n = int(input())\n",
    "\n",
    "if (a1*n+a0)<=(n*c) and c>=a1:\n",
    "    print('1')\n",
    "else:\n",
    "    print('0')"
   ]
  },
  {
   "cell_type": "code",
   "execution_count": null,
   "metadata": {},
   "outputs": [],
   "source": [
    "#느낀점: 빡세다 빡세\n",
    "# 조건에 a1과 a0은 음수가 될수있다는걸 알았다 하지만 난 그냥 절대값 되는거니까 난 그냥 되는줄알았제\n",
    "# 하지만 그냥 값은 100을 넘지않는 정수인것만을 원했던것... a1 과 a0은 음수가 될수 있다는것...\n",
    "#그렇다면 a1 또는 a0을 바꿔야하는데 바꿀만한건 a1이랑 c이다 \n",
    "#  (a1*n+a0)<=(n*c)\n",
    "# a0<=n*c-a1*n -> a0<=(c-a1)*n 이 되고 c-a1>=0이여야 한다 즉, c>=a1되야 그래야 a0<=(c-a1)n도 된다\n",
    "# 두개다 성립하게되는c>=a1이 필요하다 이말이다...\n",
    "# 난 코딩을 했는데 수학공부를했다 이말이다..."
   ]
  }
 ],
 "metadata": {
  "kernelspec": {
   "display_name": "Python 3",
   "language": "python",
   "name": "python3"
  },
  "language_info": {
   "codemirror_mode": {
    "name": "ipython",
    "version": 3
   },
   "file_extension": ".py",
   "mimetype": "text/x-python",
   "name": "python",
   "nbconvert_exporter": "python",
   "pygments_lexer": "ipython3",
   "version": "3.12.0"
  }
 },
 "nbformat": 4,
 "nbformat_minor": 2
}
