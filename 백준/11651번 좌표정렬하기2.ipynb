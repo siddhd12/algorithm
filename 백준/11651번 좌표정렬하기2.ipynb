{
 "cells": [
  {
   "cell_type": "markdown",
   "metadata": {},
   "source": [
    "2차원 평면 위의 점 N개가 주어진다. 좌표를 y좌표가 증가하는 순으로, y좌표가 같으면 x좌표가 증가하는 순서로 정렬한 다음 출력하는 프로그램을 작성하시오."
   ]
  },
  {
   "cell_type": "code",
   "execution_count": 1,
   "metadata": {},
   "outputs": [],
   "source": [
    "#### 예상코드\n",
    "# 좌표정렬하기 1번과 비슷하게 하면될거같다."
   ]
  },
  {
   "cell_type": "code",
   "execution_count": 29,
   "metadata": {},
   "outputs": [
    {
     "name": "stdout",
     "output_type": "stream",
     "text": [
      "1 1\n",
      "2 1\n",
      "3 1\n"
     ]
    }
   ],
   "source": [
    "#제출용\n",
    "num=int(input())\n",
    "str_list=[]\n",
    "for i in range(num):\n",
    "    str_num=list(map(int,input().split(' ')))\n",
    "    str_list.append(str_num)\n",
    "str_list=sorted(str_list,key= lambda x:(x[1],[x[0]])) # 이부분이 여기에 핵심이다 str_list 에서 x를 뽑고 x[1]기준으로 먼저하고 x[0]으로 오름차순 하겠다라는 의미..\n",
    "for num in range(len(str_list)):\n",
    "    print(str_list[num][0],str_list[num][1])"
   ]
  },
  {
   "cell_type": "code",
   "execution_count": null,
   "metadata": {},
   "outputs": [],
   "source": [
    "# 틀렸다기보단 시간초과가나옴\n",
    "import sys\n",
    "num=int(sys.stdin.readline())\n",
    "str_list=[]\n",
    "for i in range(num):\n",
    "    str_num=list(map(int,sys.stdin.readline().split(' ')))\n",
    "    str_list.append(str_num)\n",
    "str_list=sorted(str_list)\n",
    "y_list=[]\n",
    "for i in range(len(str_list)):\n",
    "    y_list.append(str_list[i][1])\n",
    "y_list=set(y_list)\n",
    "y_list=sorted(y_list)     \n",
    "for i in y_list:\n",
    "    # print(i)\n",
    "    for num in range(len(str_list)):\n",
    "        if i ==str_list[num][1]:\n",
    "            print(str_list[num][0],str_list[num][1])"
   ]
  },
  {
   "cell_type": "code",
   "execution_count": 30,
   "metadata": {},
   "outputs": [],
   "source": [
    "# 느낀점: 라이브러리에서 lambda를 이용해 조건을 걸어서 뽑는 부분 매우 아름답다고 느낌...lambda를 자주 사용해버릇해야할거같다.."
   ]
  },
  {
   "cell_type": "code",
   "execution_count": null,
   "metadata": {},
   "outputs": [],
   "source": []
  }
 ],
 "metadata": {
  "kernelspec": {
   "display_name": "Python 3",
   "language": "python",
   "name": "python3"
  },
  "language_info": {
   "codemirror_mode": {
    "name": "ipython",
    "version": 3
   },
   "file_extension": ".py",
   "mimetype": "text/x-python",
   "name": "python",
   "nbconvert_exporter": "python",
   "pygments_lexer": "ipython3",
   "version": "3.12.0"
  }
 },
 "nbformat": 4,
 "nbformat_minor": 2
}
