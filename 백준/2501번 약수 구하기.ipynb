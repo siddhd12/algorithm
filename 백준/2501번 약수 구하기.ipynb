{
 "cells": [
  {
   "cell_type": "markdown",
   "metadata": {},
   "source": [
    "어떤 자연수 p와 q가 있을 때, 만일 p를 q로 나누었을 때 나머지가 0이면 q는 p의 약수이다. \n",
    "\n",
    "6을 예로 들면\n",
    "\n",
    "6 ÷ 1 = 6 … 0\n",
    "6 ÷ 2 = 3 … 0\n",
    "6 ÷ 3 = 2 … 0\n",
    "6 ÷ 4 = 1 … 2\n",
    "6 ÷ 5 = 1 … 1\n",
    "6 ÷ 6 = 1 … 0\n",
    "그래서 6의 약수는 1, 2, 3, 6, 총 네 개이다.\n",
    "\n",
    "두 개의 자연수 N과 K가 주어졌을 때, N의 약수들 중 K번째로 작은 수를 출력하는 프로그램을 작성하시오"
   ]
  },
  {
   "cell_type": "code",
   "execution_count": 33,
   "metadata": {},
   "outputs": [
    {
     "name": "stdout",
     "output_type": "stream",
     "text": [
      "1\n"
     ]
    }
   ],
   "source": [
    "number,k=map(int,input().split(\" \"))\n",
    "div=[]\n",
    "for i in range(1,number+1):\n",
    "    if number % i == 0:\n",
    "        div.append(i)\n",
    "try:\n",
    "    print(div[k-1])\n",
    "except:\n",
    "    print('0')"
   ]
  }
 ],
 "metadata": {
  "kernelspec": {
   "display_name": "Python 3",
   "language": "python",
   "name": "python3"
  },
  "language_info": {
   "codemirror_mode": {
    "name": "ipython",
    "version": 3
   },
   "file_extension": ".py",
   "mimetype": "text/x-python",
   "name": "python",
   "nbconvert_exporter": "python",
   "pygments_lexer": "ipython3",
   "version": "3.12.0"
  }
 },
 "nbformat": 4,
 "nbformat_minor": 2
}
