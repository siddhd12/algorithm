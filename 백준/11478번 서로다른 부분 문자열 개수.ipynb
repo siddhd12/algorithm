{
 "cells": [
  {
   "cell_type": "markdown",
   "metadata": {},
   "source": [
    "문자열 S가 주어졌을 때, S의 서로 다른 부분 문자열의 개수를 구하는 프로그램을 작성하시오.\n",
    "\n",
    "부분 문자열은 S에서 연속된 일부분을 말하며, 길이가 1보다 크거나 같아야 한다.\n",
    "\n",
    "예를 들어, ababc의 부분 문자열은 a, b, a, b, c, ab, ba, ab, bc, aba, bab, abc, abab, babc, ababc가 있고, 서로 다른것의 개수는 12개이다."
   ]
  },
  {
   "cell_type": "code",
   "execution_count": null,
   "metadata": {},
   "outputs": [],
   "source": [
    "#### 예상코드\n",
    "# 문자열로 받고 리스트로 읽으면서 햇갈렸다 문제가 서로다른 문자열이라고 해서 물론 내문제인듯 다른사람은 잘이해한듯... 계속보니 이해함\n",
    "# 리스트로 슬라이싱하면서 짜르면될듯"
   ]
  },
  {
   "cell_type": "code",
   "execution_count": 77,
   "metadata": {},
   "outputs": [
    {
     "name": "stdout",
     "output_type": "stream",
     "text": [
      "7\n"
     ]
    }
   ],
   "source": [
    "word=input()\n",
    "set_list=set()\n",
    "for i in range(1,len(word)+1):\n",
    "    for j in range(len(word)-i+i):\n",
    "        set_list.add(word[j:i+j])\n",
    "print(len(set_list))"
   ]
  },
  {
   "cell_type": "code",
   "execution_count": 79,
   "metadata": {},
   "outputs": [],
   "source": [
    "# 느낀점: 풀면서도 아직도 서로 다른 부분문자열에대해 이해를 잘못하겠음 aaab일경우 연속된 문자열이 aa,aaa,이니까 이건 연속된 부분문자열 아닌가... 그냥 정말로 짜른 슬라이싱을 말하는건가..?\n",
    "# 지금 머리가 굳었는지 이해가안감..내일 이해 다시 해야할듯.?"
   ]
  },
  {
   "cell_type": "code",
   "execution_count": null,
   "metadata": {},
   "outputs": [],
   "source": []
  }
 ],
 "metadata": {
  "kernelspec": {
   "display_name": "Python 3",
   "language": "python",
   "name": "python3"
  },
  "language_info": {
   "codemirror_mode": {
    "name": "ipython",
    "version": 3
   },
   "file_extension": ".py",
   "mimetype": "text/x-python",
   "name": "python",
   "nbconvert_exporter": "python",
   "pygments_lexer": "ipython3",
   "version": "3.12.0"
  }
 },
 "nbformat": 4,
 "nbformat_minor": 2
}
