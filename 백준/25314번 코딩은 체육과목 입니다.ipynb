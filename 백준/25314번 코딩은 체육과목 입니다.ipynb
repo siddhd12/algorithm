{
 "cells": [
  {
   "cell_type": "code",
   "execution_count": null,
   "metadata": {},
   "outputs": [],
   "source": [
    "ins = int(input()) # 비트 값을 넣음\n",
    "num=ins//4 # 반복횟수를 계산 \n",
    "print(\"long \"*num+\"int\")\n"
   ]
  }
 ],
 "metadata": {
  "language_info": {
   "name": "python"
  }
 },
 "nbformat": 4,
 "nbformat_minor": 2
}
