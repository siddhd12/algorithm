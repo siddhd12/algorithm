{
 "cells": [
  {
   "cell_type": "markdown",
   "metadata": {},
   "source": [
    "수현이는 4차 산업혁명 시대에 살고 있는 중학생이다. 코로나 19로 인해, 수현이는 버추얼 학교로 버추얼 출석해 버추얼 강의를 듣고 있다. 수현이의 버추얼 선생님은 문자가 2개인 연립방정식을 해결하는 방법에 대해 강의하고, 다음과 같은 문제를 숙제로 냈다.\n",
    "\n",
    "다음 연립방정식에서 \n",
    "$x$와 \n",
    "$y$의 값을 계산하시오.\n",
    " \n",
    "\\[\\begin{cases}ax+by=c\\\\dx+ey=f\\end{cases}\\] \n",
    "4차 산업혁명 시대에 숙제나 하고 앉아있는 것보다 버추얼 친구들을 만나러 가는 게 더 가치있는 일이라고 생각했던 수현이는 이런 연립방정식을 풀 시간이 없었다. 다행히도, 버추얼 강의의 숙제 제출은 인터넷 창의 빈 칸에 수들을 입력하는 식이다. 각 칸에는 \n",
    "$-999$ 이상 \n",
    "$999$ 이하의 정수만 입력할 수 있다. 수현이가 버추얼 친구들을 만나러 버추얼 세계로 떠날 수 있게 도와주자."
   ]
  },
  {
   "cell_type": "code",
   "execution_count": 1,
   "metadata": {},
   "outputs": [],
   "source": [
    "a,b,c,d,e,f=map(int,input().split(' '))"
   ]
  },
  {
   "cell_type": "code",
   "execution_count": 27,
   "metadata": {},
   "outputs": [
    {
     "data": {
      "text/plain": [
       "(1, 4, -1, 3, 1, 7)"
      ]
     },
     "execution_count": 27,
     "metadata": {},
     "output_type": "execute_result"
    }
   ],
   "source": []
  },
  {
   "cell_type": "code",
   "execution_count": null,
   "metadata": {},
   "outputs": [
    {
     "name": "stdout",
     "output_type": "stream",
     "text": [
      "0 2\n"
     ]
    }
   ],
   "source": [
    "a,b,c,d,e,f=map(int,input().split(' '))\n",
    "if b==0 or e==0: # x가 0인경우\n",
    "    if b==0:\n",
    "        ta=a*d\n",
    "        tc=c*d\n",
    "        td=d*a\n",
    "        te=e*a\n",
    "        tf=f*a\n",
    "        \n",
    "\n",
    "    \n",
    "if a==d: # x를 같게 함\n",
    "    y=b-e\n",
    "    q=c-f\n",
    "    y=q//y\n",
    "    x=(c-b*y)//a\n",
    "elif a+d==0:# 부호 다르면\n",
    "    y=b+e\n",
    "    q=c+f\n",
    "    y=q//y\n",
    "    x=(c-b*y)//a\n",
    "else:\n",
    "    # a,d의 값 맞쳐주기\n",
    "    ta=a*d\n",
    "    tb=b*d\n",
    "    tc=c*d\n",
    "    td=d*a\n",
    "    te=e*a\n",
    "    tf=f*a\n",
    "    y=tb-te # y값 \n",
    "    q=tc-tf # 상수\n",
    "    y=q//y\n",
    "    x=(c-b*y)//a\n",
    "\n",
    "print(x,y)"
   ]
  },
  {
   "cell_type": "code",
   "execution_count": 9,
   "metadata": {},
   "outputs": [
    {
     "name": "stdout",
     "output_type": "stream",
     "text": [
      "-1 2\n"
     ]
    }
   ],
   "source": [
    "a,b,c,d,e,f=map(int,input().split(' '))\n",
    "for x in range(-999,1000):\n",
    "    for y in range(-999,1000):\n",
    "        if (a*x+b*y==c) and (d*x+e*y==f):\n",
    "            print(x,y)\n",
    "            break"
   ]
  },
  {
   "cell_type": "code",
   "execution_count": 10,
   "metadata": {},
   "outputs": [],
   "source": [
    "#느낀점: 브루트포스 생각하는게 너무 어렵다.. 사람들 코드를 봐야할거같다...앞으론 좀더 생각하고 못하면 문제 푸는것을 보고 내재화시키는것도 필요할거같다."
   ]
  }
 ],
 "metadata": {
  "kernelspec": {
   "display_name": "Python 3",
   "language": "python",
   "name": "python3"
  },
  "language_info": {
   "codemirror_mode": {
    "name": "ipython",
    "version": 3
   },
   "file_extension": ".py",
   "mimetype": "text/x-python",
   "name": "python",
   "nbconvert_exporter": "python",
   "pygments_lexer": "ipython3",
   "version": "3.12.0"
  }
 },
 "nbformat": 4,
 "nbformat_minor": 2
}
