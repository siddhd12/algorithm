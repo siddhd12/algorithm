{
 "cells": [
  {
   "cell_type": "markdown",
   "metadata": {},
   "source": [
    "오늘도 서준이는 알고리즘의 수행시간 수업 조교를 하고 있다. 아빠가 수업한 내용을 학생들이 잘 이해했는지 문제를 통해서 확인해보자.\n",
    "\n",
    "입력의 크기 n이 주어지면 MenOfPassion 알고리즘 수행 시간을 예제 출력과 같은 방식으로 출력해보자.\n",
    "\n",
    "MenOfPassion 알고리즘은 다음과 같다.\n",
    "\n"
   ]
  },
  {
   "cell_type": "code",
   "execution_count": 2,
   "metadata": {},
   "outputs": [],
   "source": [
    "# MenOfPassion(A[], n) {\n",
    "    # i = ⌊n / 2⌋;\n",
    "    # return A[i]; # 코드1\n",
    "# }"
   ]
  },
  {
   "cell_type": "code",
   "execution_count": null,
   "metadata": {},
   "outputs": [],
   "source": [
    "#### 예상코딩\n",
    "# 전혀 감이 잡히질 않는다..\n",
    "# 일단 해봐야 알듯?"
   ]
  },
  {
   "cell_type": "code",
   "execution_count": null,
   "metadata": {},
   "outputs": [],
   "source": [
    "def menofpassion(a):\n",
    "    i = [n/2]\n",
    "    retun a[i] "
   ]
  },
  {
   "cell_type": "code",
   "execution_count": 3,
   "metadata": {},
   "outputs": [
    {
     "name": "stdout",
     "output_type": "stream",
     "text": [
      "test\n",
      "test\n",
      "test\n",
      "test\n",
      "test\n"
     ]
    }
   ],
   "source": [
    "# 배운것\n",
    "#  코드의 수행 회수: 해당 코드가 몇번 수행됐는지에 대한 횟수\n",
    "# 예로 아래와 같이 아래 코드의 횟수는 5회\n",
    "for _ in range(5):\n",
    "    print('test') # code1"
   ]
  },
  {
   "cell_type": "code",
   "execution_count": null,
   "metadata": {},
   "outputs": [],
   "source": [
    "for _ in range(n):\n",
    "    print(n) # code2\n",
    "# code2의 수행 은 n만큼 n의크기에 비례해 수행함\n",
    "    "
   ]
  },
  {
   "cell_type": "code",
   "execution_count": null,
   "metadata": {},
   "outputs": [],
   "source": [
    "for i in range(n):\n",
    "    for j in range(n):\n",
    "        print(list[i][j]) # CODE 3\n",
    "#code3은 n*n이다 n^2임"
   ]
  },
  {
   "cell_type": "markdown",
   "metadata": {},
   "source": [
    "빅오 표기법_시간 복잡도\n",
    "\n",
    "O(1) – 상수 시간 : 문제를 해결하는데 오직 한 단계만 처리함.\n",
    "\n",
    "*O(log n)** – 로그 시간 : 문제를 해결하는데 필요한 단계들이 연산마다 특정 요인에 의해 줄어듬.\n",
    "\n",
    "O(n) – 직선적 시간 : 문제를 해결하기 위한 단계의 수와 입력값 n이 1:1 관계를 가짐.\n",
    "\n",
    "O(n log n) : 문제를 해결하기 위한 단계의 수가 N*(log2N) 번만큼의 수행시간을 가진다. (선형로그형)\n",
    "\n",
    "O(n^2) – 2차 시간 : 문제를 해결하기 위한 단계의 수는 입력값 n의 제곱.\n",
    "\n",
    "O(C^n) – 지수 시간 : 문제를 해결하기 위한 단계의 수는 주어진 상수값 C 의 n 제곱"
   ]
  },
  {
   "cell_type": "markdown",
   "metadata": {},
   "source": []
  },
  {
   "cell_type": "code",
   "execution_count": null,
   "metadata": {},
   "outputs": [],
   "source": [
    "# 최고차항의 차수를 입력하라는 말은 생각보다 쉽다.\n",
    "# 여기서 햇갈린게 n은 x라고 할경우 n^1인줄알고 난 차수가 1인줄알았다..\n",
    "# 하지만 n만큼의 시간이 걸리기에, 입력은 입력크기 n에 비례하여 작업량이 증가, 상수 시간은 입력 크기와 무관하게 일정한 시간이 소요된다는것을 의미함.."
   ]
  },
  {
   "cell_type": "code",
   "execution_count": null,
   "metadata": {},
   "outputs": [],
   "source": [
    " #좀더 자세히 나아가자\n",
    "# 시간복잡도를 고려한다는 것 입력값의 변화에 따라 연산을 실행할때, 연산횟수에 비해 시간이 얼만큼 걸리는가 라는 말\n",
    "# 효율적인 알고리즘을 구현한다는 것은 입력값이 커짐에 따라 증가하는 시간의 비율을 최소화하는 알고리즘을 구성한 것\n",
    "#공간 복잡도: 알고리즘 수행에 필요한 메모리 양을 평가"
   ]
  },
  {
   "cell_type": "code",
   "execution_count": null,
   "metadata": {},
   "outputs": [],
   "source": [
    "# 다음 알고리즘을 가지고 시간 복잡도를 구해보겠습니다.\n",
    "\n",
    "# int func (int n) {\n",
    "#   int sum = 0;     // 대입연산 1회\n",
    "#   int i = 0;       // 대입연산 1회\n",
    "   \n",
    "#   for(i=0; i < n; i++) {  // 반복문 n+1회\n",
    "#     sum += i;             // 덧셈 연산 n회\n",
    "#   }\n",
    "#   for(i=0; i < n; i++) {  // 반복문 n+1회\n",
    "#     sum += i;             // 덧셈 연산 n회   \n",
    "#   }\n",
    "#   return sum;       // 리턴 1회\n",
    "# }"
   ]
  },
  {
   "cell_type": "code",
   "execution_count": 4,
   "metadata": {},
   "outputs": [
    {
     "name": "stdout",
     "output_type": "stream",
     "text": [
      "1\n",
      "0\n"
     ]
    }
   ],
   "source": [
    "# MenOfPassion(A[], n) {\n",
    "    # i = ⌊n / 2⌋;\n",
    "    # return A[i]; # 코드1 리턴 1회\n",
    "# } 라는 의미는 결국 어떠한 입력값이 들어와도 한번 실행되고 똑같은 시간이 흐른다 그말은 \n",
    "# 시간복잡도는 O(1) 라는 의미... 그리고 최고차항은1이니 상수이므로 두번째 출력은 0이나온다...\n",
    "print('1')\n",
    "print('0')"
   ]
  },
  {
   "cell_type": "code",
   "execution_count": null,
   "metadata": {},
   "outputs": [],
   "source": []
  }
 ],
 "metadata": {
  "kernelspec": {
   "display_name": "Python 3",
   "language": "python",
   "name": "python3"
  },
  "language_info": {
   "codemirror_mode": {
    "name": "ipython",
    "version": 3
   },
   "file_extension": ".py",
   "mimetype": "text/x-python",
   "name": "python",
   "nbconvert_exporter": "python",
   "pygments_lexer": "ipython3",
   "version": "3.12.0"
  }
 },
 "nbformat": 4,
 "nbformat_minor": 2
}
