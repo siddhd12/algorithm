{
 "cells": [
  {
   "cell_type": "markdown",
   "metadata": {},
   "source": [
    "문제\n",
    "그룹 단어란 단어에 존재하는 모든 문자에 대해서, 각 문자가 연속해서 나타나는 경우만을 말한다. 예를 들면, ccazzzzbb는 c, a, z, b가 모두 연속해서 나타나고, kin도 k, i, n이 연속해서 나타나기 때문에 그룹 단어이지만, aabbbccb는 b가 떨어져서 나타나기 때문에 그룹 단어가 아니다.\n",
    "\n",
    "단어 N개를 입력으로 받아 그룹 단어의 개수를 출력하는 프로그램을 작성하시오"
   ]
  },
  {
   "cell_type": "code",
   "execution_count": null,
   "metadata": {},
   "outputs": [],
   "source": [
    "## 문제 해석\n",
    "# 각 문자가 한번씩 나오는건 되지만 똑같은 문자가 나오면 안된다.\n",
    "# 그렇다면 만약에 같은 문자가 또 나오면 틀리게 해야함 \n",
    "# 하지만 연속적으로 나온 문자는 가능함\n",
    "# 입력을 받을때 알파벳을 받고 판별하자\n",
    "\n"
   ]
  },
  {
   "cell_type": "code",
   "execution_count": 59,
   "metadata": {},
   "outputs": [
    {
     "name": "stdout",
     "output_type": "stream",
     "text": [
      "['0', '2']\n",
      "c문제있음\n",
      "['1']\n",
      "a문제없음\n",
      "['0', '2']\n",
      "c문제있음\n",
      "['3']\n",
      "b문제없음\n",
      "['4']\n",
      "d문제없음\n",
      "1\n"
     ]
    }
   ],
   "source": [
    "# 인덱스 찾기\n",
    "# aaba\n",
    "# a의 인덱스는 뭔가요\n",
    "a=[]\n",
    "text='cacbd'\n",
    "for num,word in enumerate(text):\n",
    "    for innum,inword in enumerate(text):\n",
    "        if word==inword:\n",
    "            a.append(str(innum))\n",
    "    # for 문다 돈거\n",
    "    print(a)\n",
    "    if len(a)==1:\n",
    "        result=1 # 1은 참 \n",
    "        print(word+'문제없음')\n",
    "        a=[] # 초기화\n",
    "    elif len(set(text))==1:\n",
    "        result=1\n",
    "        print('문제없음')\n",
    "        a=[]\n",
    "        break\n",
    "    else:\n",
    "        for num,numword in enumerate(a,len(a)):\n",
    "            if num==int(numword):\n",
    "                    # 같을 거임\n",
    "                result=1\n",
    "                print(word+'문제없음')\n",
    "                a=[]\n",
    "            else:\n",
    "                result=0 \n",
    "                print(word+'문제있음')\n",
    "                a=[]\n",
    "                break           \n",
    "\n",
    "\n",
    "            # 0,1,2 이렇게 있으면 연속적 \n",
    "            # 0,1,3 이면 잘못된거 \n",
    "            # 만약에 없으면 끝 \n",
    "            # 이제 이걸 맞추면 끝~\n",
    "    # print(i,word)\n",
    "    # if word ==text[i]:\n",
    "    #     a.append(i)\n",
    "print(result)\n"
   ]
  },
  {
   "cell_type": "code",
   "execution_count": null,
   "metadata": {},
   "outputs": [],
   "source": [
    "number=input()\n",
    "result_num=0\n",
    "for i in range(int(number)):\n",
    "    a=[]\n",
    "    text=input()\n",
    "    for num,word in enumerate(text):\n",
    "        for innum,inword in enumerate(text):\n",
    "            if word==inword:\n",
    "                a.append(str(innum))\n",
    "        # for 문다 돈거\n",
    "        # print(a)\n",
    "        if len(a)==1:\n",
    "            result=1 # 1은 참 \n",
    "            # print(word+'문제없음')\n",
    "            a=[] # 초기화\n",
    "        elif len(set(text))==1:\n",
    "            result=1\n",
    "            # print('문제없음')\n",
    "            a=[] # 초기화\n",
    "            break\n",
    "        else:\n",
    "            for num,numword in enumerate(a,len(a)):\n",
    "                if num==int(numword):\n",
    "                        # 같을 거임\n",
    "                    result=1\n",
    "                    # print(word+'문제없음')\n",
    "                    a=[]\n",
    "                else:\n",
    "                    result=0 \n",
    "                    # print(word+'문제있음')\n",
    "                    a=[]\n",
    "                    break\n",
    "    if result==1:\n",
    "        result_num+=1\n",
    "print(result_num)\n",
    "              \n",
    "\n",
    "        \n",
    "\n",
    "    "
   ]
  },
  {
   "cell_type": "markdown",
   "metadata": {},
   "source": [
    "# 실패 후, 좀더 단순하게 생각하게 작성!\n",
    "위에것을 좀더 다듬으면 더 좋을거같지만...아래가 좀더 단순하고 쉽다는게 느껴짐..\n",
    "왜 위에 것 처럼 작성하고 다시 작성하면 줄어들지 고민해봐야할 문제 \n",
    "def 함수로 표현하는게 좋을거 같음"
   ]
  },
  {
   "cell_type": "code",
   "execution_count": 96,
   "metadata": {},
   "outputs": [
    {
     "name": "stdout",
     "output_type": "stream",
     "text": [
      "2\n"
     ]
    }
   ],
   "source": [
    "# text='abbcb'\n",
    "result_num=0\n",
    "number=input()\n",
    "for i in range(int(number)):\n",
    "    text=input()\n",
    "    for num,word in enumerate(text):\n",
    "        # print(word)\n",
    "        \n",
    "        if word in text[num+1:]:\n",
    "            # print('또있음')\n",
    "            result=1\n",
    "            if text[num]==text[num+1]:\n",
    "                # print('연속적임')\n",
    "                result=1\n",
    "            else:\n",
    "                # print('다름')\n",
    "                result=0\n",
    "                break\n",
    "        else:\n",
    "            # print('없음')\n",
    "            result=1\n",
    "    if result==1:\n",
    "        result_num+=1\n",
    "            \n",
    "print(result_num)\n"
   ]
  },
  {
   "cell_type": "markdown",
   "metadata": {},
   "source": [
    "# 함수로 변경시, \n",
    "함수 변경은 사실 생각보다 매우 쉽다.."
   ]
  },
  {
   "cell_type": "code",
   "execution_count": 98,
   "metadata": {},
   "outputs": [
    {
     "data": {
      "text/plain": [
       "3"
      ]
     },
     "execution_count": 98,
     "metadata": {},
     "output_type": "execute_result"
    }
   ],
   "source": [
    "# text='abbcb'\n",
    "number=input()\n",
    "def group_check(number):\n",
    "    result_num=0\n",
    "    for i in range(int(number)):\n",
    "        text=input()\n",
    "        for num,word in enumerate(text):\n",
    "            # print(word)\n",
    "            \n",
    "            if word in text[num+1:]:\n",
    "                # print('또있음')\n",
    "                result=1\n",
    "                if text[num]==text[num+1]:\n",
    "                    # print('연속적임')\n",
    "                    result=1\n",
    "                else:\n",
    "                    # print('다름')\n",
    "                    result=0\n",
    "                    break\n",
    "            else:\n",
    "                # print('없음')\n",
    "                result=1\n",
    "        if result==1:\n",
    "            result_num+=1\n",
    "    return result_num\n",
    "group_check(number)"
   ]
  },
  {
   "cell_type": "code",
   "execution_count": null,
   "metadata": {},
   "outputs": [],
   "source": []
  }
 ],
 "metadata": {
  "kernelspec": {
   "display_name": "Python 3",
   "language": "python",
   "name": "python3"
  },
  "language_info": {
   "codemirror_mode": {
    "name": "ipython",
    "version": 3
   },
   "file_extension": ".py",
   "mimetype": "text/x-python",
   "name": "python",
   "nbconvert_exporter": "python",
   "pygments_lexer": "ipython3",
   "version": "3.12.0"
  }
 },
 "nbformat": 4,
 "nbformat_minor": 2
}
