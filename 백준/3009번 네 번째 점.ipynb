{
 "cells": [
  {
   "cell_type": "markdown",
   "metadata": {},
   "source": [
    "세 점이 주어졌을 때, 축에 평행한 직사각형을 만들기 위해서 필요한 네 번째 점을 찾는 프로그램을 작성하시오."
   ]
  },
  {
   "cell_type": "code",
   "execution_count": null,
   "metadata": {},
   "outputs": [],
   "source": [
    "#### 예상 코딩\n",
    "# 5,5 x1, y1\n",
    "# 5,7 x2, y2\n",
    "# 7,5 x3, y3\n",
    "\n",
    "# 보면 짝이하나씩 꼭 맞아야한다.."
   ]
  },
  {
   "cell_type": "code",
   "execution_count": 30,
   "metadata": {},
   "outputs": [
    {
     "name": "stdout",
     "output_type": "stream",
     "text": [
      "30 10\n"
     ]
    }
   ],
   "source": [
    "x_tic=[]\n",
    "y_tic=[]\n",
    "for i in range(3):\n",
    "    x,y=map(int,input().split(\" \"))\n",
    "    x_tic.append(x)\n",
    "    y_tic.append(y)\n",
    "unique_x=[x for x in x_tic if x_tic.count(x)==1]\n",
    "unique_y=[y for y in y_tic if y_tic.count(y)==1]\n",
    "print(unique_x[0],unique_y[0])\n",
    "    "
   ]
  },
  {
   "cell_type": "code",
   "execution_count": 25,
   "metadata": {},
   "outputs": [],
   "source": [
    "# 느낀점: 중복제거 관련된게 엄청 많을거같다.. 남들 코드 보면서 남들이 어떻게 했는지 보면 좋을거같음"
   ]
  },
  {
   "cell_type": "code",
   "execution_count": null,
   "metadata": {},
   "outputs": [],
   "source": []
  }
 ],
 "metadata": {
  "kernelspec": {
   "display_name": "Python 3",
   "language": "python",
   "name": "python3"
  },
  "language_info": {
   "codemirror_mode": {
    "name": "ipython",
    "version": 3
   },
   "file_extension": ".py",
   "mimetype": "text/x-python",
   "name": "python",
   "nbconvert_exporter": "python",
   "pygments_lexer": "ipython3",
   "version": "3.12.0"
  }
 },
 "nbformat": 4,
 "nbformat_minor": 2
}
