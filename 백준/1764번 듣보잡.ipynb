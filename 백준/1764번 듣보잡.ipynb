{
 "cells": [
  {
   "cell_type": "markdown",
   "metadata": {},
   "source": [
    "김진영이 듣도 못한 사람의 명단과, 보도 못한 사람의 명단이 주어질 때, 듣도 보도 못한 사람의 명단을 구하는 프로그램을 작성하시오."
   ]
  },
  {
   "cell_type": "code",
   "execution_count": null,
   "metadata": {},
   "outputs": [],
   "source": [
    "#### 예상코드\n",
    "#듣보 명단 \n",
    "# 보못 명단 \n",
    "# 딕셔너리로 뽑고 append 한다음 리스트로 출력 끝내기!"
   ]
  },
  {
   "cell_type": "code",
   "execution_count": 2,
   "metadata": {},
   "outputs": [],
   "source": [
    "n,m=map(int,input().split(' '))"
   ]
  },
  {
   "cell_type": "code",
   "execution_count": 4,
   "metadata": {},
   "outputs": [],
   "source": [
    "n,m=map(int,input().split(' '))\n",
    "listen_dic={}\n",
    "for i in range(n):\n",
    "    name=input()\n",
    "    if name in listen_dic:\n",
    "        listen_dic[name] += 1\n",
    "    else:\n",
    "        # 키가 존재하지 않으면 새로운 키를 추가하고 값은 1로 초기화\n",
    "        listen_dic[name] = 1\n",
    "for i in range(m):\n",
    "    name=input()\n",
    "    if name in listen_dic:\n",
    "        listen_dic[name] += 1\n",
    "    else:\n",
    "        # 키가 존재하지 않으면 새로운 키를 추가하고 값은 1로 초기화\n",
    "        listen_dic[name] = 1\n",
    "le_see_list=[]\n",
    "for i in listen_dic.items():\n",
    "    # print(i[1])\n",
    "    if i[1]==2:\n",
    "        le_see_list.append(i[0])\n",
    "print(len(le_see_list))\n",
    "for i in sorted(le_see_list):\n",
    "    print(i)"
   ]
  },
  {
   "cell_type": "code",
   "execution_count": 9,
   "metadata": {},
   "outputs": [
    {
     "name": "stdout",
     "output_type": "stream",
     "text": [
      "2\n",
      "1\n",
      "2\n",
      "1\n",
      "1\n"
     ]
    }
   ],
   "source": []
  },
  {
   "cell_type": "code",
   "execution_count": 13,
   "metadata": {},
   "outputs": [
    {
     "name": "stdout",
     "output_type": "stream",
     "text": [
      "2\n",
      "baesangwook\n",
      "ohhenrie\n"
     ]
    }
   ],
   "source": [
    "le_see_list\n",
    "print(len(le_see_list))\n",
    "for i in sorted(le_see_list):\n",
    "    print(i)"
   ]
  },
  {
   "cell_type": "code",
   "execution_count": null,
   "metadata": {},
   "outputs": [],
   "source": []
  }
 ],
 "metadata": {
  "kernelspec": {
   "display_name": "Python 3",
   "language": "python",
   "name": "python3"
  },
  "language_info": {
   "codemirror_mode": {
    "name": "ipython",
    "version": 3
   },
   "file_extension": ".py",
   "mimetype": "text/x-python",
   "name": "python",
   "nbconvert_exporter": "python",
   "pygments_lexer": "ipython3",
   "version": "3.12.0"
  }
 },
 "nbformat": 4,
 "nbformat_minor": 2
}
