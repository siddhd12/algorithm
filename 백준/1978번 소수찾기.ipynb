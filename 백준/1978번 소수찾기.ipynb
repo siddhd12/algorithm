{
 "cells": [
  {
   "cell_type": "markdown",
   "metadata": {},
   "source": [
    "주어진 수 N개 중에서 소수가 몇 개인지 찾아서 출력하는 프로그램을 작성하시오.\n",
    "\n",
    "입력\n",
    "첫 줄에 수의 개수 N이 주어진다. N은 100이하이다. 다음으로 N개의 수가 주어지는데 수는 1,000 이하의 자연수이다."
   ]
  },
  {
   "cell_type": "code",
   "execution_count": null,
   "metadata": {},
   "outputs": [],
   "source": [
    "#### 예상코드 \n",
    "# 소수는 1 또는 자기 자신으로만 나누어지는 소수\n",
    "# 즉 1 이랑 자기 자신으로만 나눠어져야함\n",
    "# 그렇지만 1 또는 자기 자신으로 만 나누는 법을 쉽게 찾는법을 찾아야할듯\n",
    "\n",
    "# 시간복잡도에 대해 알아야함...\n",
    "# 2부터 n-1까지 수로 나누어떨어지는지 확인하고 나누어 떨어지면 소수가 아니라고 판단하는 방식은 너무 오래걸림\n",
    "# 찾아보니 에스토스테네스의 체라는 방식이 존재..\n",
    "\n",
    "#소수를 빠르게 판정하는 방법에는 여러 가지가 있지만, 그 중 가장 간단하면서도 시간 복잡도를 크게 개선시킬 수 있는 것은 그 수의 제곱근까지만 나누어보는 것입니다\n",
    "\n",
    "# 여러가지 방식이 존재할거 같다..\n",
    "# 위에 방식처럼 미리 소수를 구하는 방식,또는 제곱근으로 나누어떨어지는거까지 구하는거...기타등등이 존재할듯"
   ]
  },
  {
   "cell_type": "code",
   "execution_count": 2,
   "metadata": {},
   "outputs": [
    {
     "name": "stdout",
     "output_type": "stream",
     "text": [
      "0\n"
     ]
    }
   ],
   "source": [
    "import math\n",
    "def prime_check(value):\n",
    "    prime_number=False\n",
    "    if value==1: # 1인경우\n",
    "        prime_number=False\n",
    "        return prime_number\n",
    "    prime_check_num=int(math.sqrt(value))\n",
    "    if prime_check_num==1: # 제곱근이 1인경우 반복문이 돌아가지 않으니 넣음\n",
    "        prime_number=True\n",
    "        return prime_number\n",
    "    for i in range(2,prime_check_num+1):\n",
    "        if value % i==0: # 나누어지면 약수가 있으니 소수가 아니다\n",
    "            prime_number=False\n",
    "            break\n",
    "        else:\n",
    "            prime_number=True\n",
    "    return prime_number\n",
    "        \n",
    "    # True면 소수 \n",
    "    # False면 소수가아님\n",
    "\n",
    "num=int(input())\n",
    "check_num=0\n",
    "prime_num=list(map(int,input().split(\" \")))\n",
    "if num==len(prime_num): # num ==prime_num이 같으면 진행하게 \n",
    "    for i in prime_num:\n",
    "        if prime_check(i)==True:\n",
    "            check_num+=1\n",
    "print(check_num)\n"
   ]
  },
  {
   "cell_type": "code",
   "execution_count": 167,
   "metadata": {},
   "outputs": [],
   "source": [
    "# 느낀점: 알고리즘은 수없이 많다... 그렇지만 뭔가를 채택할까??그게 중요 그리고 def로 바꾸면서 return을 어디다 둬야하는지 헷갈렸다... 없이하면 바로 맞췄는데 사용자 정의함수로 \n",
    "# 깔끔하게 하려니까 거기서 값이 꼬였다.."
   ]
  }
 ],
 "metadata": {
  "kernelspec": {
   "display_name": "Python 3",
   "language": "python",
   "name": "python3"
  },
  "language_info": {
   "codemirror_mode": {
    "name": "ipython",
    "version": 3
   },
   "file_extension": ".py",
   "mimetype": "text/x-python",
   "name": "python",
   "nbconvert_exporter": "python",
   "pygments_lexer": "ipython3",
   "version": "3.12.0"
  }
 },
 "nbformat": 4,
 "nbformat_minor": 2
}
