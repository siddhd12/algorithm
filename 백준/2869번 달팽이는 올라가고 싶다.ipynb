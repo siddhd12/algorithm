{
 "cells": [
  {
   "cell_type": "markdown",
   "metadata": {},
   "source": [
    "땅 위에 달팽이가 있다. 이 달팽이는 높이가 V미터인 나무 막대를 올라갈 것이다.\n",
    "\n",
    "달팽이는 낮에 A미터 올라갈 수 있다. 하지만, 밤에 잠을 자는 동안 B미터 미끄러진다. 또, 정상에 올라간 후에는 미끄러지지 않는다.\n",
    "\n",
    "달팽이가 나무 막대를 모두 올라가려면, 며칠이 걸리는지 구하는 프로그램을 작성하시오."
   ]
  },
  {
   "cell_type": "code",
   "execution_count": null,
   "metadata": {},
   "outputs": [],
   "source": [
    "### 예상코딩\n",
    "# A B V가 주어지고 V 미터 나무막대\n",
    "# 낮에 A 만큼 밤엔 B만큼 떨어짐\n",
    "# 그러면 2 1 5 면 \n",
    "# 2 -1 1일  1\n",
    "# 2 -1 2일  2\n",
    "# 2 -1 3일  3\n",
    "# 3+2 4일 정상\n",
    "# 이런느낌 으로 while문 돌리면 될듯\n"
   ]
  },
  {
   "cell_type": "code",
   "execution_count": 6,
   "metadata": {},
   "outputs": [],
   "source": []
  },
  {
   "cell_type": "code",
   "execution_count": 42,
   "metadata": {},
   "outputs": [
    {
     "name": "stdout",
     "output_type": "stream",
     "text": [
      "6\n"
     ]
    }
   ],
   "source": [
    "# 초기 코딩\n",
    "a, b, v=map(int,input().split(\" \"))\n",
    "day=1\n",
    "time=True\n",
    "result=0\n",
    "while time==True:\n",
    "    if result<v:\n",
    "        result+=a\n",
    "        if result>=v:\n",
    "            break\n",
    "        else:\n",
    "            day+=1\n",
    "            result-=b\n",
    "print(day)\n",
    "\n",
    "\n",
    "# 반복문 쓰면안됌"
   ]
  },
  {
   "cell_type": "code",
   "execution_count": 57,
   "metadata": {},
   "outputs": [
    {
     "name": "stdout",
     "output_type": "stream",
     "text": [
      "999999901\n"
     ]
    }
   ],
   "source": [
    "# 제출용 코딩\n",
    "a, b, v=map(int,input().split(\" \"))\n",
    "result=(v-b)//(a-b)\n",
    "if (v-b) % (a-b)!=0:\n",
    "    result=result+1\n",
    "print(result)\n",
    "    "
   ]
  },
  {
   "cell_type": "code",
   "execution_count": null,
   "metadata": {},
   "outputs": [],
   "source": [
    "# 느낀점: 나는 수학에 매우 약하다 지금 너무 어려워서 2일을 헤맸다. 결국 남의 힌트를 보고 그 힌트에 맞게 코딩을 했다.\n",
    "# 남의 코드는 보지않았지만 어떻게 푸는지 식만보면 코드를 짜는건 쉽다.. 다음엔 더 수학적인 머리가 되도록 노력한다.\n"
   ]
  }
 ],
 "metadata": {
  "kernelspec": {
   "display_name": "Python 3",
   "language": "python",
   "name": "python3"
  },
  "language_info": {
   "codemirror_mode": {
    "name": "ipython",
    "version": 3
   },
   "file_extension": ".py",
   "mimetype": "text/x-python",
   "name": "python",
   "nbconvert_exporter": "python",
   "pygments_lexer": "ipython3",
   "version": "3.12.0"
  }
 },
 "nbformat": 4,
 "nbformat_minor": 2
}
