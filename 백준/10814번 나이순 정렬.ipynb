{
 "cells": [
  {
   "cell_type": "markdown",
   "metadata": {},
   "source": [
    "온라인 저지에 가입한 사람들의 나이와 이름이 가입한 순서대로 주어진다. 이때, 회원들을 나이가 증가하는 순으로, 나이가 같으면 먼저 가입한 사람이 앞에 오는 순서로 정렬하는 프로그램을 작성하시오."
   ]
  },
  {
   "cell_type": "code",
   "execution_count": null,
   "metadata": {},
   "outputs": [],
   "source": [
    "####예상코드\n",
    "# 정렬이 잘되는지 확인  안정정렬인지 되는지 보고 안되면 순서에 맞게 정렬되게끔 코딩"
   ]
  },
  {
   "cell_type": "code",
   "execution_count": 32,
   "metadata": {},
   "outputs": [
    {
     "name": "stdout",
     "output_type": "stream",
     "text": [
      "20 Sunyoung\n",
      "21 Junkyu\n",
      "21 Dohyun\n"
     ]
    }
   ],
   "source": [
    "num=int(input())\n",
    "name_list=[]\n",
    "for i in range(num):\n",
    "    age,name=input().split(' ')\n",
    "    name_list.append([int(age),name]) # 자꾸 여기서 틀림 age를 int로 바꿔서 나이를 숫자로 인식하게 해줘야함\n",
    "name_list=sorted(name_list, key= lambda x:(x[0]))\n",
    "for i in range(len(name_list)):\n",
    "    print(name_list[i][0],name_list[i][1])"
   ]
  },
  {
   "cell_type": "code",
   "execution_count": 24,
   "metadata": {},
   "outputs": [
    {
     "data": {
      "text/plain": [
       "[['20', 'Sunyoung'], ['21', 'Junkyu'], ['21', 'Dohyun']]"
      ]
     },
     "execution_count": 24,
     "metadata": {},
     "output_type": "execute_result"
    }
   ],
   "source": [
    "# 느낀점: sorted(name_list, key= lambda x:(x[0])) # sorted() 함수는 애초에 내장된 안정정렬이라 ..쉽게 가능 했다.."
   ]
  }
 ],
 "metadata": {
  "kernelspec": {
   "display_name": "Python 3",
   "language": "python",
   "name": "python3"
  },
  "language_info": {
   "codemirror_mode": {
    "name": "ipython",
    "version": 3
   },
   "file_extension": ".py",
   "mimetype": "text/x-python",
   "name": "python",
   "nbconvert_exporter": "python",
   "pygments_lexer": "ipython3",
   "version": "3.12.0"
  }
 },
 "nbformat": 4,
 "nbformat_minor": 2
}
