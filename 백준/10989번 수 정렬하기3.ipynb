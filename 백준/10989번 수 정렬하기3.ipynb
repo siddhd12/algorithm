{
 "cells": [
  {
   "cell_type": "markdown",
   "metadata": {},
   "source": [
    "N개의 수가 주어졌을 때, 이를 오름차순으로 정렬하는 프로그램을 작성하시오."
   ]
  },
  {
   "cell_type": "code",
   "execution_count": null,
   "metadata": {},
   "outputs": [],
   "source": [
    "#### 예상코드\n",
    "# 똑같다..마찬가지로 걍 수 정렬하면됨 중복값 제거 없이 정렬\n"
   ]
  },
  {
   "cell_type": "code",
   "execution_count": 49,
   "metadata": {},
   "outputs": [],
   "source": [
    "import sys\n",
    "va_list=[0]*10001 # 계수정렬을 위한 미리 n개의 사이즈를 만듬\n",
    "num=int(sys.stdin.readline())\n",
    "for i in range(num): # 데이터 값과 동일한 인덱스 데이터를 1씩 증가\n",
    "    va=int(sys.stdin.readline())\n",
    "    va_list[va]+=1\n",
    "for i in range(len(va_list)):\n",
    "    if va_list[i]!=0: # 0인 값을 제외하고 \n",
    "        for va in range(va_list[i]): # 인덱스 데이터의 값의 길이만큼 i를 출력 i는 해당번째 순서이기에 맞게 출력\n",
    "            print(i)"
   ]
  },
  {
   "cell_type": "code",
   "execution_count": 47,
   "metadata": {},
   "outputs": [],
   "source": [
    "# 느낀점: 이것은 브론즈 1문제가 아닌거같다. 계수정렬에 대해 알게되었고 계수정렬 배웠었나..싶다 내가 너무 옛날에 배워서 기억이안나나 싶을정도로 몰랐던 알고리즘!"
   ]
  }
 ],
 "metadata": {
  "kernelspec": {
   "display_name": "Python 3",
   "language": "python",
   "name": "python3"
  },
  "language_info": {
   "codemirror_mode": {
    "name": "ipython",
    "version": 3
   },
   "file_extension": ".py",
   "mimetype": "text/x-python",
   "name": "python",
   "nbconvert_exporter": "python",
   "pygments_lexer": "ipython3",
   "version": "3.12.0"
  }
 },
 "nbformat": 4,
 "nbformat_minor": 2
}
