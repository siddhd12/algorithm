{
 "cells": [
  {
   "cell_type": "markdown",
   "metadata": {},
   "source": [
    "지민이는 자신의 저택에서 MN개의 단위 정사각형으로 나누어져 있는 M×N 크기의 보드를 찾았다. 어떤 정사각형은 검은색으로 칠해져 있고, 나머지는 흰색으로 칠해져 있다. 지민이는 이 보드를 잘라서 8×8 크기의 체스판으로 만들려고 한다.\n",
    "\n",
    "체스판은 검은색과 흰색이 번갈아서 칠해져 있어야 한다. 구체적으로, 각 칸이 검은색과 흰색 중 하나로 색칠되어 있고, 변을 공유하는 두 개의 사각형은 다른 색으로 칠해져 있어야 한다. 따라서 이 정의를 따르면 체스판을 색칠하는 경우는 두 가지뿐이다. 하나는 맨 왼쪽 위 칸이 흰색인 경우, 하나는 검은색인 경우이다.\n",
    "\n",
    "보드가 체스판처럼 칠해져 있다는 보장이 없어서, 지민이는 8×8 크기의 체스판으로 잘라낸 후에 몇 개의 정사각형을 다시 칠해야겠다고 생각했다. 당연히 8*8 크기는 아무데서나 골라도 된다. 지민이가 다시 칠해야 하는 정사각형의 최소 개수를 구하는 프로그램을 작성하시오."
   ]
  },
  {
   "cell_type": "code",
   "execution_count": null,
   "metadata": {},
   "outputs": [],
   "source": [
    "#### 예상코드\n",
    "# 입력값 받고 2차행렬로 길이 판단후 \n",
    "# 각 정렬마다 값을 비교 해서 만약에  반복되는게 오면 -해결\n",
    "# 검흰 , 흰검으로 해야함\n"
   ]
  },
  {
   "cell_type": "code",
   "execution_count": 13,
   "metadata": {},
   "outputs": [],
   "source": [
    "n,m=map(int,input().split(' '))\n",
    "place=[]\n",
    "sq=input().split(' ')\n",
    "for string in sq:\n",
    "    place.append(list(string))"
   ]
  },
  {
   "cell_type": "code",
   "execution_count": 53,
   "metadata": {},
   "outputs": [
    {
     "data": {
      "text/plain": [
       "(8, 9)"
      ]
     },
     "execution_count": 53,
     "metadata": {},
     "output_type": "execute_result"
    }
   ],
   "source": [
    "n,m"
   ]
  },
  {
   "cell_type": "code",
   "execution_count": 31,
   "metadata": {},
   "outputs": [
    {
     "data": {
      "text/plain": [
       "[['W', 'B', 'W', 'B', 'W', 'B', 'W', 'B'],\n",
       " ['B', 'W', 'B', 'W', 'B', 'W', 'B', 'W'],\n",
       " ['W', 'B', 'W', 'B', 'W', 'B', 'W', 'B'],\n",
       " ['B', 'W', 'B', 'B', 'B', 'W', 'B', 'W'],\n",
       " ['W', 'B', 'W', 'B', 'W', 'B', 'W', 'B'],\n",
       " ['B', 'W', 'B', 'W', 'B', 'W', 'B', 'W'],\n",
       " ['W', 'B', 'W', 'B', 'W', 'B', 'W', 'B'],\n",
       " ['B', 'W', 'B', 'W', 'B', 'W', 'B', 'W'],\n",
       " ['B', 'W', 'B', 'W', 'B', 'W', 'B', 'W']]"
      ]
     },
     "execution_count": 31,
     "metadata": {},
     "output_type": "execute_result"
    }
   ],
   "source": [
    "place"
   ]
  },
  {
   "cell_type": "code",
   "execution_count": 28,
   "metadata": {},
   "outputs": [
    {
     "name": "stdout",
     "output_type": "stream",
     "text": [
      "0 0 8\n",
      "['W', 'B', 'W', 'B', 'W', 'B', 'W', 'B']\n",
      "1 0 8\n",
      "['B', 'W', 'B', 'W', 'B', 'W', 'B', 'W']\n",
      "2 0 8\n",
      "['W', 'B', 'W', 'B', 'W', 'B', 'W', 'B']\n",
      "3 0 8\n",
      "['B', 'W', 'B', 'B', 'B', 'W', 'B', 'W']\n",
      "4 0 8\n",
      "['W', 'B', 'W', 'B', 'W', 'B', 'W', 'B']\n",
      "5 0 8\n",
      "['B', 'W', 'B', 'W', 'B', 'W', 'B', 'W']\n",
      "6 0 8\n",
      "['W', 'B', 'W', 'B', 'W', 'B', 'W', 'B']\n",
      "7 0 8\n",
      "['B', 'W', 'B', 'W', 'B', 'W', 'B', 'W']\n",
      "ㅡㅡㅡ\n",
      "1 1 9\n",
      "['W', 'B', 'W', 'B', 'W', 'B', 'W']\n",
      "2 1 9\n",
      "['B', 'W', 'B', 'W', 'B', 'W', 'B']\n",
      "3 1 9\n",
      "['W', 'B', 'B', 'B', 'W', 'B', 'W']\n",
      "4 1 9\n",
      "['B', 'W', 'B', 'W', 'B', 'W', 'B']\n",
      "5 1 9\n",
      "['W', 'B', 'W', 'B', 'W', 'B', 'W']\n",
      "6 1 9\n",
      "['B', 'W', 'B', 'W', 'B', 'W', 'B']\n",
      "7 1 9\n",
      "['W', 'B', 'W', 'B', 'W', 'B', 'W']\n",
      "8 1 9\n",
      "['W', 'B', 'W', 'B', 'W', 'B', 'W']\n",
      "ㅡㅡㅡ\n"
     ]
    }
   ],
   "source": [
    "for m_row in range(m-7):\n",
    "    for n_row in range(8):\n",
    "        print(n_row+m_row,m_row,m_row+8)\n",
    "        print(place[n_row+m_row][m_row:m_row+8])\n",
    "    print('ㅡㅡㅡ')"
   ]
  },
  {
   "cell_type": "code",
   "execution_count": 47,
   "metadata": {},
   "outputs": [
    {
     "data": {
      "text/plain": [
       "[['W', 'B', 'W', 'B', 'W', 'B', 'W', 'B'],\n",
       " ['B', 'W', 'B', 'W', 'B', 'W', 'B', 'W'],\n",
       " ['W', 'B', 'W', 'B', 'W', 'B', 'W', 'B'],\n",
       " ['B', 'W', 'B', 'B', 'B', 'W', 'B', 'W'],\n",
       " ['W', 'B', 'W', 'B', 'W', 'B', 'W', 'B'],\n",
       " ['B', 'W', 'B', 'W', 'B', 'W', 'B', 'W'],\n",
       " ['W', 'B', 'W', 'B', 'W', 'B', 'W', 'B'],\n",
       " ['B', 'W', 'B', 'W', 'B', 'W', 'B', 'W'],\n",
       " ['B', 'W', 'B', 'W', 'B', 'W', 'B', 'W']]"
      ]
     },
     "execution_count": 47,
     "metadata": {},
     "output_type": "execute_result"
    }
   ],
   "source": [
    "place"
   ]
  },
  {
   "cell_type": "code",
   "execution_count": 66,
   "metadata": {},
   "outputs": [
    {
     "name": "stdout",
     "output_type": "stream",
     "text": [
      "0\n",
      "1\n"
     ]
    }
   ],
   "source": [
    "n,m=9,8\n",
    "for n_row in range(n-7):\n",
    "    print(n_row)"
   ]
  },
  {
   "cell_type": "code",
   "execution_count": 93,
   "metadata": {},
   "outputs": [
    {
     "name": "stdout",
     "output_type": "stream",
     "text": [
      "W B W B W B W B \n",
      "0 8\n",
      "B W B W B W B W \n",
      "0 16\n",
      "W B W B W B W B \n",
      "0 24\n",
      "B W B B B W B W \n",
      "1 31\n",
      "W B W B W B W B \n",
      "1 39\n",
      "B W B W B W B W \n",
      "1 47\n",
      "W B W B W B W B \n",
      "1 55\n",
      "B W B W B W B W \n",
      "1 63\n",
      "B W B W B W B W \n",
      "0 8\n",
      "W B W B W B W B \n",
      "0 16\n",
      "B W B B B W B W \n",
      "1 23\n",
      "W B W B W B W B \n",
      "1 31\n",
      "B W B W B W B W \n",
      "1 39\n",
      "W B W B W B W B \n",
      "1 47\n",
      "B W B W B W B W \n",
      "1 55\n",
      "B W B W B W B W \n",
      "9 55\n"
     ]
    }
   ],
   "source": [
    "result=[]\n",
    "for n_row in range(n-7):\n",
    "    for m_row in range(m-7):\n",
    "        cnt1=0\n",
    "        cnt2=0\n",
    "        for i in range(n_row,n_row+8):\n",
    "            for j in range(m_row,m_row+8):\n",
    "                if (i+j)%2==0: \n",
    "                    if place[i][j]!='W':\n",
    "                        cnt1+=1 #첫번째가 W기준으로 \n",
    "                    if place[i][j]!='B':\n",
    "                        cnt2+=1 # 첫번째가 B 기준으로\n",
    "                else: \n",
    "                    if place[i][j]!='B':\n",
    "                        cnt1+=1 # 첫번째가 W기준\n",
    "                    if place[i][j]!='W':\n",
    "                        cnt2+=1 # 첫번째가 B기준\n",
    "                print(place[i][j],end=\" \")\n",
    "                # print(cnt1,cnt2)\n",
    "            print('')\n",
    "            print(cnt1,cnt2)\n",
    "        # print(cnt1,cnt2)\n",
    "        # print('bbb')"
   ]
  },
  {
   "cell_type": "code",
   "execution_count": 44,
   "metadata": {},
   "outputs": [],
   "source": [
    "test=[['W','W', 'W', 'W', 'B', 'W', 'B', 'B', 'B','B']] # 첫번째 라인이면 2개 b로하면 1개이걸 찾아야함\n"
   ]
  },
  {
   "cell_type": "code",
   "execution_count": 38,
   "metadata": {},
   "outputs": [
    {
     "data": {
      "text/plain": [
       "9"
      ]
     },
     "execution_count": 38,
     "metadata": {},
     "output_type": "execute_result"
    }
   ],
   "source": [
    "len(test[0])"
   ]
  },
  {
   "cell_type": "code",
   "execution_count": 52,
   "metadata": {},
   "outputs": [
    {
     "data": {
      "text/plain": [
       "5"
      ]
     },
     "execution_count": 52,
     "metadata": {},
     "output_type": "execute_result"
    }
   ],
   "source": [
    "test[1][].count('W')"
   ]
  },
  {
   "cell_type": "code",
   "execution_count": 42,
   "metadata": {},
   "outputs": [],
   "source": [
    "# num=9\n",
    "# 뽑아야 하는건 0~7 1~8, 2~9,\n",
    "num=10\n",
    "# 뽑아야 하는건 0~7 1~8, 2~9"
   ]
  },
  {
   "cell_type": "code",
   "execution_count": 63,
   "metadata": {},
   "outputs": [
    {
     "data": {
      "text/plain": [
       "8"
      ]
     },
     "execution_count": 63,
     "metadata": {},
     "output_type": "execute_result"
    }
   ],
   "source": [
    "len(place)"
   ]
  },
  {
   "cell_type": "code",
   "execution_count": 2,
   "metadata": {},
   "outputs": [
    {
     "ename": "NameError",
     "evalue": "name 'n' is not defined",
     "output_type": "error",
     "traceback": [
      "\u001b[1;31m---------------------------------------------------------------------------\u001b[0m",
      "\u001b[1;31mNameError\u001b[0m                                 Traceback (most recent call last)",
      "Cell \u001b[1;32mIn[2], line 1\u001b[0m\n\u001b[1;32m----> 1\u001b[0m \u001b[43mn\u001b[49m,m\n",
      "\u001b[1;31mNameError\u001b[0m: name 'n' is not defined"
     ]
    }
   ],
   "source": [
    "n,m"
   ]
  },
  {
   "cell_type": "code",
   "execution_count": 115,
   "metadata": {},
   "outputs": [
    {
     "data": {
      "text/plain": [
       "[['B', 'B', 'B', 'B', 'B', 'B', 'B', 'B', 'W', 'B', 'W', 'B', 'W'],\n",
       " ['B', 'B', 'B', 'B', 'B', 'B', 'B', 'B', 'B', 'W', 'B', 'W', 'B'],\n",
       " ['B', 'B', 'B', 'B', 'B', 'B', 'B', 'B', 'W', 'B', 'W', 'B', 'W'],\n",
       " ['B', 'B', 'B', 'B', 'B', 'B', 'B', 'B', 'B', 'W', 'B', 'W', 'B'],\n",
       " ['B', 'B', 'B', 'B', 'B', 'B', 'B', 'B', 'W', 'B', 'W', 'B', 'W'],\n",
       " ['B', 'B', 'B', 'B', 'B', 'B', 'B', 'B', 'B', 'W', 'B', 'W', 'B'],\n",
       " ['B', 'B', 'B', 'B', 'B', 'B', 'B', 'B', 'W', 'B', 'W', 'B', 'W'],\n",
       " ['B', 'B', 'B', 'B', 'B', 'B', 'B', 'B', 'B', 'W', 'B', 'W', 'B']]"
      ]
     },
     "execution_count": 115,
     "metadata": {},
     "output_type": "execute_result"
    }
   ],
   "source": [
    "place[0:8] # 0~8,1~9,2~10\n"
   ]
  },
  {
   "cell_type": "code",
   "execution_count": null,
   "metadata": {},
   "outputs": [],
   "source": []
  },
  {
   "cell_type": "code",
   "execution_count": 6,
   "metadata": {},
   "outputs": [
    {
     "name": "stdout",
     "output_type": "stream",
     "text": [
      "0 8\n",
      "ㅡㅡㅡㅡㅡㅡㅡㅡㅡㅡㅡㅡㅡㅡㅡ\n",
      "['B', 'B', 'B', 'B', 'B', 'B', 'B', 'B', 'W', 'B', 'W', 'B', 'W']\n",
      "0\n",
      "1\n",
      "2\n",
      "3\n",
      "4\n",
      "5\n",
      ",,,,,,,,,,,,,,,,,,,,,,,,,\n",
      "['B', 'B', 'B', 'B', 'B', 'B', 'B', 'B', 'B', 'W', 'B', 'W', 'B']\n",
      "0\n",
      "1\n",
      "2\n",
      "3\n",
      "4\n",
      "5\n",
      ",,,,,,,,,,,,,,,,,,,,,,,,,\n",
      "['B', 'B', 'B', 'B', 'B', 'B', 'B', 'B', 'W', 'B', 'W', 'B', 'W']\n",
      "0\n",
      "1\n",
      "2\n",
      "3\n",
      "4\n",
      "5\n",
      ",,,,,,,,,,,,,,,,,,,,,,,,,\n",
      "['B', 'B', 'B', 'B', 'B', 'B', 'B', 'B', 'B', 'W', 'B', 'W', 'B']\n",
      "0\n",
      "1\n",
      "2\n",
      "3\n",
      "4\n",
      "5\n",
      ",,,,,,,,,,,,,,,,,,,,,,,,,\n",
      "['B', 'B', 'B', 'B', 'B', 'B', 'B', 'B', 'W', 'B', 'W', 'B', 'W']\n",
      "0\n",
      "1\n",
      "2\n",
      "3\n",
      "4\n",
      "5\n",
      ",,,,,,,,,,,,,,,,,,,,,,,,,\n",
      "['B', 'B', 'B', 'B', 'B', 'B', 'B', 'B', 'B', 'W', 'B', 'W', 'B']\n",
      "0\n",
      "1\n",
      "2\n",
      "3\n",
      "4\n",
      "5\n",
      ",,,,,,,,,,,,,,,,,,,,,,,,,\n",
      "['B', 'B', 'B', 'B', 'B', 'B', 'B', 'B', 'W', 'B', 'W', 'B', 'W']\n",
      "0\n",
      "1\n",
      "2\n",
      "3\n",
      "4\n",
      "5\n",
      ",,,,,,,,,,,,,,,,,,,,,,,,,\n",
      "['B', 'B', 'B', 'B', 'B', 'B', 'B', 'B', 'B', 'W', 'B', 'W', 'B']\n",
      "0\n",
      "1\n",
      "2\n",
      "3\n",
      "4\n",
      "5\n",
      ",,,,,,,,,,,,,,,,,,,,,,,,,\n",
      "1 9\n",
      "ㅡㅡㅡㅡㅡㅡㅡㅡㅡㅡㅡㅡㅡㅡㅡ\n",
      "['B', 'B', 'B', 'B', 'B', 'B', 'B', 'B', 'B', 'W', 'B', 'W', 'B']\n",
      "0\n",
      "1\n",
      "2\n",
      "3\n",
      "4\n",
      "5\n",
      ",,,,,,,,,,,,,,,,,,,,,,,,,\n",
      "['B', 'B', 'B', 'B', 'B', 'B', 'B', 'B', 'W', 'B', 'W', 'B', 'W']\n",
      "0\n",
      "1\n",
      "2\n",
      "3\n",
      "4\n",
      "5\n",
      ",,,,,,,,,,,,,,,,,,,,,,,,,\n",
      "['B', 'B', 'B', 'B', 'B', 'B', 'B', 'B', 'B', 'W', 'B', 'W', 'B']\n",
      "0\n",
      "1\n",
      "2\n",
      "3\n",
      "4\n",
      "5\n",
      ",,,,,,,,,,,,,,,,,,,,,,,,,\n",
      "['B', 'B', 'B', 'B', 'B', 'B', 'B', 'B', 'W', 'B', 'W', 'B', 'W']\n",
      "0\n",
      "1\n",
      "2\n",
      "3\n",
      "4\n",
      "5\n",
      ",,,,,,,,,,,,,,,,,,,,,,,,,\n",
      "['B', 'B', 'B', 'B', 'B', 'B', 'B', 'B', 'B', 'W', 'B', 'W', 'B']\n",
      "0\n",
      "1\n",
      "2\n",
      "3\n",
      "4\n",
      "5\n",
      ",,,,,,,,,,,,,,,,,,,,,,,,,\n",
      "['B', 'B', 'B', 'B', 'B', 'B', 'B', 'B', 'W', 'B', 'W', 'B', 'W']\n",
      "0\n",
      "1\n",
      "2\n",
      "3\n",
      "4\n",
      "5\n",
      ",,,,,,,,,,,,,,,,,,,,,,,,,\n",
      "['B', 'B', 'B', 'B', 'B', 'B', 'B', 'B', 'B', 'W', 'B', 'W', 'B']\n",
      "0\n",
      "1\n",
      "2\n",
      "3\n",
      "4\n",
      "5\n",
      ",,,,,,,,,,,,,,,,,,,,,,,,,\n",
      "['W', 'W', 'W', 'W', 'W', 'W', 'W', 'W', 'W', 'W', 'B', 'W', 'B']\n",
      "0\n",
      "1\n",
      "2\n",
      "3\n",
      "4\n",
      "5\n",
      ",,,,,,,,,,,,,,,,,,,,,,,,,\n",
      "2 10\n",
      "ㅡㅡㅡㅡㅡㅡㅡㅡㅡㅡㅡㅡㅡㅡㅡ\n",
      "['B', 'B', 'B', 'B', 'B', 'B', 'B', 'B', 'W', 'B', 'W', 'B', 'W']\n",
      "0\n",
      "1\n",
      "2\n",
      "3\n",
      "4\n",
      "5\n",
      ",,,,,,,,,,,,,,,,,,,,,,,,,\n",
      "['B', 'B', 'B', 'B', 'B', 'B', 'B', 'B', 'B', 'W', 'B', 'W', 'B']\n",
      "0\n",
      "1\n",
      "2\n",
      "3\n",
      "4\n",
      "5\n",
      ",,,,,,,,,,,,,,,,,,,,,,,,,\n",
      "['B', 'B', 'B', 'B', 'B', 'B', 'B', 'B', 'W', 'B', 'W', 'B', 'W']\n",
      "0\n",
      "1\n",
      "2\n",
      "3\n",
      "4\n",
      "5\n",
      ",,,,,,,,,,,,,,,,,,,,,,,,,\n",
      "['B', 'B', 'B', 'B', 'B', 'B', 'B', 'B', 'B', 'W', 'B', 'W', 'B']\n",
      "0\n",
      "1\n",
      "2\n",
      "3\n",
      "4\n",
      "5\n",
      ",,,,,,,,,,,,,,,,,,,,,,,,,\n",
      "['B', 'B', 'B', 'B', 'B', 'B', 'B', 'B', 'W', 'B', 'W', 'B', 'W']\n",
      "0\n",
      "1\n",
      "2\n",
      "3\n",
      "4\n",
      "5\n",
      ",,,,,,,,,,,,,,,,,,,,,,,,,\n",
      "['B', 'B', 'B', 'B', 'B', 'B', 'B', 'B', 'B', 'W', 'B', 'W', 'B']\n",
      "0\n",
      "1\n",
      "2\n",
      "3\n",
      "4\n",
      "5\n",
      ",,,,,,,,,,,,,,,,,,,,,,,,,\n",
      "['W', 'W', 'W', 'W', 'W', 'W', 'W', 'W', 'W', 'W', 'B', 'W', 'B']\n",
      "0\n",
      "1\n",
      "2\n",
      "3\n",
      "4\n",
      "5\n",
      ",,,,,,,,,,,,,,,,,,,,,,,,,\n",
      "['W', 'W', 'W', 'W', 'W', 'W', 'W', 'W', 'W', 'W', 'B', 'W', 'B']\n",
      "0\n",
      "1\n",
      "2\n",
      "3\n",
      "4\n",
      "5\n",
      ",,,,,,,,,,,,,,,,,,,,,,,,,\n"
     ]
    }
   ],
   "source": [
    "for i in range(n-7):\n",
    "    # print(i)\n",
    "    # end=n-7\n",
    "    print(i,i+8)\n",
    "    print('ㅡㅡㅡㅡㅡㅡㅡㅡㅡㅡㅡㅡㅡㅡㅡ')\n",
    "    for row in range(i,i+8):\n",
    "        print(place[row])\n",
    "        for m_row in range(m-7):\n",
    "            print(m_row) 0~8\n",
    "            # print(place[row][m_row:8])\n",
    "        # for \n",
    "        print(',,,,,,,,,,,,,,,,,,,,,,,,,')\n",
    "    # for n_row in range(m):\n",
    "    #     print(n_row)\n",
    "    #     # print(place[i][n_row:n_row+8])\n",
    "    #     print('ㅡㅡㅡㅡㅡㅡㅡㅡㅡㅡㅡ')\n",
    "# for n_row in range(len(place)-7):\n",
    "    # print(n-n_row)\n",
    "    # print(place[n_row:n_row+8],end='\\n')\n",
    "    # print('ㅡㅡㅡㅡㅡㅡㅡㅡㅡㅡㅡㅡㅡㅡㅡㅡㅡㅡㅡㅡ')\n",
    "    # for m_row in range(len(place[0])-7):\n",
    "    #                    print(place[n_row:])\n",
    "    # print(place[n_row])\n",
    "    # print(place[n_n:n-n_n])\n",
    "    # for m in range(m):\n",
    "        # print(place[n:n-8])\n",
    "    # print(place[n:n+7])\n",
    "    # for m in range(len(place[0])-7):\n",
    "    #     print('첫번쨰 박스',n)\n",
    "    #     print('첫번쨰 박스에서 짜르는 순서',m,m+7)\n",
    "    #     print(place[n][m:m+7])\n",
    "        \n",
    "    "
   ]
  },
  {
   "cell_type": "code",
   "execution_count": 47,
   "metadata": {},
   "outputs": [
    {
     "name": "stdout",
     "output_type": "stream",
     "text": [
      "0\n",
      "['W', 'W', 'W', 'W', 'B', 'W', 'B', 'B']\n",
      "W\n",
      "W\n",
      "W\n",
      "W\n",
      "B\n",
      "W\n",
      "B\n",
      "B\n",
      "1\n",
      "['W', 'W', 'W', 'B', 'W', 'B', 'B', 'B']\n",
      "W\n",
      "W\n",
      "W\n",
      "B\n",
      "W\n",
      "B\n",
      "B\n",
      "B\n",
      "2\n",
      "['W', 'W', 'B', 'W', 'B', 'B', 'B', 'B']\n",
      "W\n",
      "W\n",
      "B\n",
      "W\n",
      "B\n",
      "B\n",
      "B\n",
      "B\n"
     ]
    }
   ],
   "source": [
    "for i in range(num-7):\n",
    "    print(i)\n",
    "    print(test[0][i:i+7])\n",
    "    for i in \n",
    "    for i in test[n][i:i+7]:\n",
    "        if test[n][0]=='W' and test[n][i:i+8]%2==0:\n",
    "            print('W가오는게좋아')\n",
    "        else test[n][0]=='W'\n",
    "        # w가 홀수면 B가 첫번째로 오는게 좋음 \n",
    "        # w가 짝수면 W가 첫번째로 오는게 좋음\n",
    "        \n",
    "    \n",
    "    "
   ]
  },
  {
   "cell_type": "code",
   "execution_count": 70,
   "metadata": {},
   "outputs": [
    {
     "name": "stdout",
     "output_type": "stream",
     "text": [
      "정사각형\n",
      "정사각형\n",
      "정사각형\n",
      "ㅂ\n",
      "정사각형\n",
      "정사각형\n",
      "정사각형\n",
      "정사각형\n"
     ]
    }
   ],
   "source": [
    "\n",
    "for string in place:\n",
    "    result=0\n",
    "    for i in string:\n",
    "        if i =='W':\n",
    "            result+=1\n",
    "        elif i=='B':\n",
    "            result-=1\n",
    "    if result==0:\n",
    "        print('정사각형')\n",
    "    else:\n",
    "        print('ㅂ')"
   ]
  },
  {
   "cell_type": "code",
   "execution_count": 68,
   "metadata": {},
   "outputs": [
    {
     "data": {
      "text/plain": [
       "[['W', 'B', 'W', 'B', 'W', 'B', 'W', 'B'],\n",
       " ['B', 'W', 'B', 'W', 'B', 'W', 'B', 'W'],\n",
       " ['W', 'B', 'W', 'B', 'W', 'B', 'W', 'B'],\n",
       " ['B', 'W', 'B', 'B', 'B', 'W', 'B', 'W'],\n",
       " ['W', 'B', 'W', 'B', 'W', 'B', 'W', 'B'],\n",
       " ['B', 'W', 'B', 'W', 'B', 'W', 'B', 'W'],\n",
       " ['W', 'B', 'W', 'B', 'W', 'B', 'W', 'B'],\n",
       " ['B', 'W', 'B', 'W', 'B', 'W', 'B', 'W']]"
      ]
     },
     "execution_count": 68,
     "metadata": {},
     "output_type": "execute_result"
    }
   ],
   "source": [
    "place"
   ]
  },
  {
   "cell_type": "code",
   "execution_count": null,
   "metadata": {},
   "outputs": [],
   "source": []
  }
 ],
 "metadata": {
  "kernelspec": {
   "display_name": "Python 3",
   "language": "python",
   "name": "python3"
  },
  "language_info": {
   "codemirror_mode": {
    "name": "ipython",
    "version": 3
   },
   "file_extension": ".py",
   "mimetype": "text/x-python",
   "name": "python",
   "nbconvert_exporter": "python",
   "pygments_lexer": "ipython3",
   "version": "3.12.0"
  }
 },
 "nbformat": 4,
 "nbformat_minor": 2
}
