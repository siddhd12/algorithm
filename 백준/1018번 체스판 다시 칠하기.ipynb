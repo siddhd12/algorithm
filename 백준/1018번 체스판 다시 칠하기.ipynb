{
 "cells": [
  {
   "cell_type": "markdown",
   "metadata": {},
   "source": [
    "지민이는 자신의 저택에서 MN개의 단위 정사각형으로 나누어져 있는 M×N 크기의 보드를 찾았다. 어떤 정사각형은 검은색으로 칠해져 있고, 나머지는 흰색으로 칠해져 있다. 지민이는 이 보드를 잘라서 8×8 크기의 체스판으로 만들려고 한다.\n",
    "\n",
    "체스판은 검은색과 흰색이 번갈아서 칠해져 있어야 한다. 구체적으로, 각 칸이 검은색과 흰색 중 하나로 색칠되어 있고, 변을 공유하는 두 개의 사각형은 다른 색으로 칠해져 있어야 한다. 따라서 이 정의를 따르면 체스판을 색칠하는 경우는 두 가지뿐이다. 하나는 맨 왼쪽 위 칸이 흰색인 경우, 하나는 검은색인 경우이다.\n",
    "\n",
    "보드가 체스판처럼 칠해져 있다는 보장이 없어서, 지민이는 8×8 크기의 체스판으로 잘라낸 후에 몇 개의 정사각형을 다시 칠해야겠다고 생각했다. 당연히 8*8 크기는 아무데서나 골라도 된다. 지민이가 다시 칠해야 하는 정사각형의 최소 개수를 구하는 프로그램을 작성하시오."
   ]
  },
  {
   "cell_type": "code",
   "execution_count": null,
   "metadata": {},
   "outputs": [],
   "source": [
    "#### 예상코드\n",
    "# 입력값 받고 2차행렬로 길이 판단후 \n",
    "# 각 정렬마다 값을 비교 해서 만약에  반복되는게 오면 -해결\n",
    "# 검흰 , 흰검으로 해야함\n"
   ]
  },
  {
   "cell_type": "code",
   "execution_count": 13,
   "metadata": {},
   "outputs": [],
   "source": [
    "n,m=map(int,input().split(' '))\n",
    "place=[]\n",
    "sq=input().split(' ')\n",
    "for string in sq:\n",
    "    place.append(list(string))"
   ]
  },
  {
   "cell_type": "code",
   "execution_count": 53,
   "metadata": {},
   "outputs": [
    {
     "data": {
      "text/plain": [
       "(8, 9)"
      ]
     },
     "execution_count": 53,
     "metadata": {},
     "output_type": "execute_result"
    }
   ],
   "source": [
    "n,m"
   ]
  },
  {
   "cell_type": "code",
   "execution_count": 31,
   "metadata": {},
   "outputs": [
    {
     "data": {
      "text/plain": [
       "[['W', 'B', 'W', 'B', 'W', 'B', 'W', 'B'],\n",
       " ['B', 'W', 'B', 'W', 'B', 'W', 'B', 'W'],\n",
       " ['W', 'B', 'W', 'B', 'W', 'B', 'W', 'B'],\n",
       " ['B', 'W', 'B', 'B', 'B', 'W', 'B', 'W'],\n",
       " ['W', 'B', 'W', 'B', 'W', 'B', 'W', 'B'],\n",
       " ['B', 'W', 'B', 'W', 'B', 'W', 'B', 'W'],\n",
       " ['W', 'B', 'W', 'B', 'W', 'B', 'W', 'B'],\n",
       " ['B', 'W', 'B', 'W', 'B', 'W', 'B', 'W'],\n",
       " ['B', 'W', 'B', 'W', 'B', 'W', 'B', 'W']]"
      ]
     },
     "execution_count": 31,
     "metadata": {},
     "output_type": "execute_result"
    }
   ],
   "source": [
    "place"
   ]
  },
  {
   "cell_type": "code",
   "execution_count": 28,
   "metadata": {},
   "outputs": [
    {
     "name": "stdout",
     "output_type": "stream",
     "text": [
      "0 0 8\n",
      "['W', 'B', 'W', 'B', 'W', 'B', 'W', 'B']\n",
      "1 0 8\n",
      "['B', 'W', 'B', 'W', 'B', 'W', 'B', 'W']\n",
      "2 0 8\n",
      "['W', 'B', 'W', 'B', 'W', 'B', 'W', 'B']\n",
      "3 0 8\n",
      "['B', 'W', 'B', 'B', 'B', 'W', 'B', 'W']\n",
      "4 0 8\n",
      "['W', 'B', 'W', 'B', 'W', 'B', 'W', 'B']\n",
      "5 0 8\n",
      "['B', 'W', 'B', 'W', 'B', 'W', 'B', 'W']\n",
      "6 0 8\n",
      "['W', 'B', 'W', 'B', 'W', 'B', 'W', 'B']\n",
      "7 0 8\n",
      "['B', 'W', 'B', 'W', 'B', 'W', 'B', 'W']\n",
      "ㅡㅡㅡ\n",
      "1 1 9\n",
      "['W', 'B', 'W', 'B', 'W', 'B', 'W']\n",
      "2 1 9\n",
      "['B', 'W', 'B', 'W', 'B', 'W', 'B']\n",
      "3 1 9\n",
      "['W', 'B', 'B', 'B', 'W', 'B', 'W']\n",
      "4 1 9\n",
      "['B', 'W', 'B', 'W', 'B', 'W', 'B']\n",
      "5 1 9\n",
      "['W', 'B', 'W', 'B', 'W', 'B', 'W']\n",
      "6 1 9\n",
      "['B', 'W', 'B', 'W', 'B', 'W', 'B']\n",
      "7 1 9\n",
      "['W', 'B', 'W', 'B', 'W', 'B', 'W']\n",
      "8 1 9\n",
      "['W', 'B', 'W', 'B', 'W', 'B', 'W']\n",
      "ㅡㅡㅡ\n"
     ]
    }
   ],
   "source": [
    "for m_row in range(m-7):\n",
    "    for n_row in range(8):\n",
    "        print(n_row+m_row,m_row,m_row+8)\n",
    "        print(place[n_row+m_row][m_row:m_row+8])\n",
    "    print('ㅡㅡㅡ')"
   ]
  },
  {
   "cell_type": "code",
   "execution_count": 127,
   "metadata": {},
   "outputs": [
    {
     "data": {
      "text/plain": [
       "[['W', 'B', 'W', 'B', 'W', 'B', 'W', 'B'],\n",
       " ['B', 'W', 'B', 'W', 'B', 'W', 'B', 'W'],\n",
       " ['W', 'B', 'W', 'B', 'W', 'B', 'W', 'B'],\n",
       " ['B', 'W', 'B', 'B', 'B', 'W', 'B', 'W'],\n",
       " ['W', 'B', 'W', 'B', 'W', 'B', 'W', 'B'],\n",
       " ['B', 'W', 'B', 'W', 'B', 'W', 'B', 'W'],\n",
       " ['W', 'B', 'W', 'B', 'W', 'B', 'W', 'B'],\n",
       " ['B', 'W', 'B', 'W', 'B', 'W', 'B', 'W'],\n",
       " ['B', 'W', 'B', 'W', 'B', 'W', 'B', 'W']]"
      ]
     },
     "execution_count": 127,
     "metadata": {},
     "output_type": "execute_result"
    }
   ],
   "source": [
    "place"
   ]
  },
  {
   "cell_type": "code",
   "execution_count": 109,
   "metadata": {},
   "outputs": [
    {
     "name": "stdout",
     "output_type": "stream",
     "text": [
      "0\n",
      "1\n"
     ]
    }
   ],
   "source": [
    "n,m=9,8\n",
    "for n_row in range(n-7):\n",
    "    print(n_row)"
   ]
  },
  {
   "cell_type": "code",
   "execution_count": 134,
   "metadata": {},
   "outputs": [
    {
     "name": "stdout",
     "output_type": "stream",
     "text": [
      "1\n"
     ]
    }
   ],
   "source": [
    "n,m=map(int,input().split(' '))\n",
    "place=[]\n",
    "for string in range(n):\n",
    "    sq=input()\n",
    "    place.append(list(sq))\n",
    "result=[]\n",
    "for n_row in range(n-7):\n",
    "    for m_row in range(m-7):\n",
    "        cnt1=0\n",
    "        cnt2=0\n",
    "        for i in range(n_row,n_row+8):\n",
    "            for j in range(m_row,m_row+8):\n",
    "                if (i+j)%2==0: \n",
    "                    if place[i][j]!='W':\n",
    "                        cnt1+=1 #첫번째가 W기준으로 \n",
    "                    if place[i][j]!='B':\n",
    "                        cnt2+=1 # 첫번째가 B 기준으로\n",
    "                else: \n",
    "                    if place[i][j]!='B':\n",
    "                        cnt1+=1 # 첫번째가 W기준\n",
    "                    if place[i][j]!='W':\n",
    "                        cnt2+=1 # 첫번째가 B기준\n",
    "                # print(place[i][j],end=\" \")\n",
    "            # print(' ')\n",
    "            # print(cnt1,cnt2)\n",
    "        result.append(cnt1)\n",
    "        result.append(cnt2)\n",
    "        # print('\\n')\n",
    "print(min(result))"
   ]
  },
  {
   "cell_type": "code",
   "execution_count": 136,
   "metadata": {},
   "outputs": [],
   "source": [
    "# 느낀점: 이게 실버 4라고? 실버4면 다신안한다 개어려웠다, 4중포문도 처음으로 써봤고 포문으로 시작과끝을 나누는 부분이 너무 힘들었다. 남의 코드를 보면서 이해하려고 했던건 이번게 처음인거같다..."
   ]
  },
  {
   "cell_type": "code",
   "execution_count": null,
   "metadata": {},
   "outputs": [],
   "source": []
  }
 ],
 "metadata": {
  "kernelspec": {
   "display_name": "Python 3",
   "language": "python",
   "name": "python3"
  },
  "language_info": {
   "codemirror_mode": {
    "name": "ipython",
    "version": 3
   },
   "file_extension": ".py",
   "mimetype": "text/x-python",
   "name": "python",
   "nbconvert_exporter": "python",
   "pygments_lexer": "ipython3",
   "version": "3.12.0"
  }
 },
 "nbformat": 4,
 "nbformat_minor": 2
}
