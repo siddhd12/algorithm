{
 "cells": [
  {
   "cell_type": "markdown",
   "metadata": {},
   "source": [
    "카지노에서 제일 인기 있는 게임 블랙잭의 규칙은 상당히 쉽다. 카드의 합이 21을 넘지 않는 한도 내에서, 카드의 합을 최대한 크게 만드는 게임이다. 블랙잭은 카지노마다 다양한 규정이 있다.\n",
    "\n",
    "한국 최고의 블랙잭 고수 김정인은 새로운 블랙잭 규칙을 만들어 상근, 창영이와 게임하려고 한다.\n",
    "\n",
    "김정인 버전의 블랙잭에서 각 카드에는 양의 정수가 쓰여 있다. 그 다음, 딜러는 N장의 카드를 모두 숫자가 보이도록 바닥에 놓는다. 그런 후에 딜러는 숫자 M을 크게 외친다.\n",
    "\n",
    "이제 플레이어는 제한된 시간 안에 N장의 카드 중에서 3장의 카드를 골라야 한다. 블랙잭 변형 게임이기 때문에, 플레이어가 고른 카드의 합은 M을 넘지 않으면서 M과 최대한 가깝게 만들어야 한다.\n",
    "\n",
    "N장의 카드에 써져 있는 숫자가 주어졌을 때, M을 넘지 않으면서 M에 최대한 가까운 카드 3장의 합을 구해 출력하시오.\n"
   ]
  },
  {
   "cell_type": "code",
   "execution_count": null,
   "metadata": {},
   "outputs": [],
   "source": [
    "#### 예상 코드 \n",
    "# 카드 갯수 최대 합의 수\n",
    "# 카드 입력 받고 \n",
    "# 여러가지 연산 필요\n",
    "####\n",
    "# 브루트 포스(brute force):완전탐색 알고리즘. 즉, 가능한 모든 경우의 수를 모두 탐색하면서 요구조건에 충족되는 결과만을 가져온다.\n",
    "# 이 알고리즘의 강력한 점은 예외 없이 100%의 확률로 정답만을 출력한다\n",
    "# 흔히 단순하지만 무식하게 수학 문제를 푸는 방법인 '계산 노가다'의 학술적 개념이다\n",
    "# 브루트 포스의 특징은 거의 완벽하게 병렬 작업이 가능하다"
   ]
  },
  {
   "cell_type": "markdown",
   "metadata": {},
   "source": [
    "브루트포스란?\n",
    "\n",
    "재귀 함수를 익히면 브루트포스를 짜기 수월합니다.-> 현업에선 자제 함 왜냐 다른사람이 보면 이해 못하는 경우가 존재\n",
    "\n",
    "생각에 따라 '완전' 탐색의 범위는 달라질 수 있습니다.\n",
    "\n",
    "복잡한 알고리즘을 굳이 생각하지않고, 컴퓨터의 빠른 연산력을 이용해 모든 경우를 다 살펴보는 것을 의미합니다. brute force, BF, 완전탐색(exhaustive search), 완탐 정도로 불립니다."
   ]
  },
  {
   "cell_type": "code",
   "execution_count": 33,
   "metadata": {},
   "outputs": [],
   "source": [
    "num, sum = map(int,input().split(' '))\n",
    "card = list(map(int,input().split(' ')))\n",
    "\n"
   ]
  },
  {
   "cell_type": "code",
   "execution_count": 42,
   "metadata": {},
   "outputs": [
    {
     "data": {
      "text/plain": [
       "[93, 181, 245, 214, 315, 36, 185, 138, 216, 295]"
      ]
     },
     "execution_count": 42,
     "metadata": {},
     "output_type": "execute_result"
    }
   ],
   "source": [
    "card"
   ]
  },
  {
   "cell_type": "code",
   "execution_count": 49,
   "metadata": {},
   "outputs": [
    {
     "name": "stdout",
     "output_type": "stream",
     "text": [
      "계산시작\n",
      "93 181 214 488\n",
      "93 181 216 490\n",
      "93 214 185 492\n",
      "93 185 214 492\n",
      "93 185 216 494\n",
      "93 216 185 494\n",
      "245 214 36 495\n",
      "245 36 214 495\n",
      "245 36 216 497\n",
      "245 216 36 497\n",
      "36 245 216 497\n",
      "36 216 245 497\n",
      "216 245 36 497\n",
      "216 36 245 497\n",
      "497\n"
     ]
    }
   ],
   "source": [
    "result_sum=0\n",
    "if num==len(card):\n",
    "    print(\"계산시작\")\n",
    "    for i in range(len(card)):\n",
    "        # print('card,i',card[i])\n",
    "        for j in range(len(card)):\n",
    "            # print('card,j',card[j])\n",
    "            for z in range(len(card)):\n",
    "                if card[i]==card[j] or card[j]==card[z] or card[i]==card[z]:\n",
    "                    pass\n",
    "                else:\n",
    "                    value=card[i]+card[j]+card[z]\n",
    "                    if value<=sum:\n",
    "                        if result_sum<=value:\n",
    "                            # print(card[i],card[j],card[z],value)\n",
    "                            result_sum=value    \n",
    "\n",
    "\n",
    "else:\n",
    "    print('다시해야지뭐..')\n",
    "print(result_sum)\n"
   ]
  },
  {
   "cell_type": "code",
   "execution_count": 51,
   "metadata": {},
   "outputs": [],
   "source": [
    "# 느낀점: 문제 쉽게 풀었는데...제출할때 확인차 적엇던 print() 가 많아서 2번틀렸다.. 힘들었다..."
   ]
  },
  {
   "cell_type": "markdown",
   "metadata": {},
   "source": []
  }
 ],
 "metadata": {
  "kernelspec": {
   "display_name": "Python 3",
   "language": "python",
   "name": "python3"
  },
  "language_info": {
   "codemirror_mode": {
    "name": "ipython",
    "version": 3
   },
   "file_extension": ".py",
   "mimetype": "text/x-python",
   "name": "python",
   "nbconvert_exporter": "python",
   "pygments_lexer": "ipython3",
   "version": "3.12.0"
  }
 },
 "nbformat": 4,
 "nbformat_minor": 2
}
