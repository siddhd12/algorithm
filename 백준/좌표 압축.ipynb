{
 "cells": [
  {
   "cell_type": "markdown",
   "metadata": {},
   "source": [
    "수직선 위에 N개의 좌표 X1, X2, ..., XN이 있다. 이 좌표에 좌표 압축을 적용하려고 한다.\n",
    "\n",
    "Xi를 좌표 압축한 결과 X'i의 값은 Xi > Xj를 만족하는 서로 다른 좌표 Xj의 개수와 같아야 한다.\n",
    "\n",
    "X1, X2, ..., XN에 좌표 압축을 적용한 결과 X'1, X'2, ..., X'N를 출력해보자."
   ]
  },
  {
   "cell_type": "code",
   "execution_count": null,
   "metadata": {},
   "outputs": [],
   "source": [
    "#### 예상코드\n",
    "# 좌표 압축에 대해 공부함..좌표 배열을 정렬하고 그 정렬에 맞게 중복을 제거 인덱스로 저장한다음 그값이 맞으면 해당 인덱스를 뽑아내는게 좌표 압축..\n",
    "# 숫자를 입력받고 길이 확인 그리고 길이가 맞다면 압축한다음 출력\n"
   ]
  },
  {
   "cell_type": "code",
   "execution_count": 13,
   "metadata": {},
   "outputs": [
    {
     "name": "stdout",
     "output_type": "stream",
     "text": [
      "1 0 1 0 1 0 "
     ]
    }
   ],
   "source": [
    "\n",
    "num= int(input())\n",
    "va_list=list(map(int,input().split(' ')))\n",
    "if len(va_list)==num:\n",
    "    # zip_list=sorted(set(va_list))  # 요방식은 \n",
    "    # zip_list\n",
    "    # for i in va_list:\n",
    "    #     if i in zip_list: # 이쪽부분에서 너무 오래걸림 \n",
    "    #         print(zip_list.index(i), end=' ')\n",
    "    va_index_list={value:index for index, value in enumerate(sorted(set(va_list)))} # 애초에 딕셔너리로 만들어서 빠르게 갖고오는게 더 편함..\n",
    "    for i in va_list:\n",
    "        print(va_index_list[i], end=' ')"
   ]
  },
  {
   "cell_type": "code",
   "execution_count": 19,
   "metadata": {},
   "outputs": [],
   "source": [
    "#느낀점:  풀긴했으나 너무 gpt에게 근원을 물어봄..."
   ]
  },
  {
   "cell_type": "code",
   "execution_count": 18,
   "metadata": {},
   "outputs": [
    {
     "name": "stdout",
     "output_type": "stream",
     "text": [
      "1 0 1 0 1 0 "
     ]
    }
   ],
   "source": []
  },
  {
   "cell_type": "code",
   "execution_count": null,
   "metadata": {},
   "outputs": [],
   "source": []
  }
 ],
 "metadata": {
  "kernelspec": {
   "display_name": "Python 3",
   "language": "python",
   "name": "python3"
  },
  "language_info": {
   "codemirror_mode": {
    "name": "ipython",
    "version": 3
   },
   "file_extension": ".py",
   "mimetype": "text/x-python",
   "name": "python",
   "nbconvert_exporter": "python",
   "pygments_lexer": "ipython3",
   "version": "3.12.0"
  }
 },
 "nbformat": 4,
 "nbformat_minor": 2
}
