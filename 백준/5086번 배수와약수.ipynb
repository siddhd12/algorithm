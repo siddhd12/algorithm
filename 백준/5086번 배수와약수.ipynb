{
 "cells": [
  {
   "cell_type": "markdown",
   "metadata": {},
   "source": [
    "문제\n",
    "4 × 3 = 12이다.\n",
    "\n",
    "이 식을 통해 다음과 같은 사실을 알 수 있다.\n",
    "\n",
    "3은 12의 약수이고, 12는 3의 배수이다.\n",
    "\n",
    "4도 12의 약수이고, 12는 4의 배수이다.\n",
    "\n",
    "두 수가 주어졌을 때, 다음 3가지 중 어떤 관계인지 구하는 프로그램을 작성하시오.\n",
    "\n",
    "첫 번째 숫자가 두 번째 숫자의 약수이다.\n",
    "\n",
    "첫 번째 숫자가 두 번째 숫자의 배수이다.\n",
    "\n",
    "첫 번째 숫자가 두 번째 숫자의 약수와 배수 모두 아니다."
   ]
  },
  {
   "cell_type": "markdown",
   "metadata": {},
   "source": []
  },
  {
   "cell_type": "code",
   "execution_count": null,
   "metadata": {},
   "outputs": [],
   "source": [
    "#### 예상 코딩\n",
    "# 대충 조건문 3개달고 하면될듯"
   ]
  },
  {
   "cell_type": "code",
   "execution_count": 41,
   "metadata": {},
   "outputs": [
    {
     "name": "stdout",
     "output_type": "stream",
     "text": [
      "factor\n",
      "multiple\n",
      "neither\n"
     ]
    }
   ],
   "source": [
    "a=1 # 초기 값\n",
    "b=1 # 초기 값\n",
    "while (a!=0) & (b!=0):\n",
    "    a,b=map(int,input().split(\" \"))\n",
    "    try:\n",
    "        if (a < b) & (b % a==0): # 약수\n",
    "            print(\"factor\")\n",
    "        elif (a > b) & (a % b==0): # 배수\n",
    "            print(\"multiple\")\n",
    "        else:\n",
    "            print(\"neither\")\n",
    "    except:\n",
    "        break"
   ]
  },
  {
   "cell_type": "code",
   "execution_count": 42,
   "metadata": {},
   "outputs": [],
   "source": [
    "# 느낀점: 수학공식 안쓰고 그냥 막함.. 사실 이렇게하는건 아닌거같다.. 뭐 도로가도 맞으면 그만 아닌가? 싶다.."
   ]
  }
 ],
 "metadata": {
  "kernelspec": {
   "display_name": "Python 3",
   "language": "python",
   "name": "python3"
  },
  "language_info": {
   "codemirror_mode": {
    "name": "ipython",
    "version": 3
   },
   "file_extension": ".py",
   "mimetype": "text/x-python",
   "name": "python",
   "nbconvert_exporter": "python",
   "pygments_lexer": "ipython3",
   "version": "3.12.0"
  }
 },
 "nbformat": 4,
 "nbformat_minor": 2
}
