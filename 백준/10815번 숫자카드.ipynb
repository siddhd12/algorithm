{
 "cells": [
  {
   "cell_type": "markdown",
   "metadata": {},
   "source": [
    "숫자 카드는 정수 하나가 적혀져 있는 카드이다. 상근이는 숫자 카드 N개를 가지고 있다. 정수 M개가 주어졌을 때, 이 수가 적혀있는 숫자 카드를 상근이가 가지고 있는지 아닌지를 구하는 프로그램을 작성하시오.\n"
   ]
  },
  {
   "cell_type": "code",
   "execution_count": null,
   "metadata": {},
   "outputs": [],
   "source": [
    "#### 예상코드\n",
    "# 아까 풀었던..? 아니 좌표 압축문제와 너무 유사한 경향이있음.. 순서가 빠르게 출력해야한다면 list보단 딕셔너리를 이용해야함..\n",
    "# 그렇다면 한개의 리스트와 한개의 딕셔너리로 교차 검색! try except부분을 넣음...\n"
   ]
  },
  {
   "cell_type": "code",
   "execution_count": 32,
   "metadata": {},
   "outputs": [
    {
     "name": "stdout",
     "output_type": "stream",
     "text": [
      "1 0 0 1 1 0 0 1 "
     ]
    }
   ],
   "source": [
    "# 제출코드\n",
    "num=int(input())\n",
    "va_list=list(map(int,input().split(' ')))\n",
    "if num==len(va_list):\n",
    "    va_index_list={value:index for index,value in enumerate(sorted(set(va_list)))}\n",
    "q=int(input())\n",
    "qa_list=list(map(int,input().split(' ')))\n",
    "if q==len(qa_list):\n",
    "    for i in qa_list:\n",
    "        try:\n",
    "            if va_index_list[i] is not None:\n",
    "                print('1', end=' ')\n",
    "        except:\n",
    "            print('0', end=' ')\n"
   ]
  },
  {
   "cell_type": "code",
   "execution_count": 29,
   "metadata": {},
   "outputs": [
    {
     "name": "stdout",
     "output_type": "stream",
     "text": [
      "1 0 0 1 1 0 0 1 "
     ]
    }
   ],
   "source": [
    "# 느낀점: 아래 코드에서 try 와 except 위치에따라 실행이 한번실행하고 말기도함, 코드의 주요 차이는 예외가 발생했을 때 예외 처리의 영향 범위에 있습니다. 첫 번째 코드는 예외가 발생하더라도 루프가 계속 진행되며, 두 번째 코드는 예외가 발생하면 전체 루프가 중단\n",
    "for i in qa_list:\n",
    "    try:\n",
    "        if va_index_list[i] is not None:\n",
    "            print('1', end=' ')\n",
    "    except:\n",
    "        print('0', end=' ')\n",
    "#  try 블록이 for 루프 안에 있어서, try 블록 내에서 발생하는 모든 예외에 대해 예외 처리를 수행합니다. 즉, va_index_list[i] is not None에서 예외가 발생하면 except 블록이 실행되고, 그 후에 다음 i로 넘어감"
   ]
  },
  {
   "cell_type": "code",
   "execution_count": 34,
   "metadata": {},
   "outputs": [
    {
     "name": "stdout",
     "output_type": "stream",
     "text": [
      "1 0 "
     ]
    }
   ],
   "source": [
    "try:\n",
    "    for i in qa_list:\n",
    "        if va_index_list[i] is not None:\n",
    "            print('1', end=' ')\n",
    "except:\n",
    "    print('0', end=' ')\n",
    "# 이 코드는 try 블록이 for 루프 바깥에 있어서, try 블록 내에서 발생한 예외가 전체 루프에 영향을 미치게 됩니다. 예외가 발생하면 for 루프 전체가 중단되고 except 블록이 실행\n",
    "    "
   ]
  },
  {
   "cell_type": "code",
   "execution_count": null,
   "metadata": {},
   "outputs": [],
   "source": []
  }
 ],
 "metadata": {
  "kernelspec": {
   "display_name": "Python 3",
   "language": "python",
   "name": "python3"
  },
  "language_info": {
   "codemirror_mode": {
    "name": "ipython",
    "version": 3
   },
   "file_extension": ".py",
   "mimetype": "text/x-python",
   "name": "python",
   "nbconvert_exporter": "python",
   "pygments_lexer": "ipython3",
   "version": "3.12.0"
  }
 },
 "nbformat": 4,
 "nbformat_minor": 2
}
