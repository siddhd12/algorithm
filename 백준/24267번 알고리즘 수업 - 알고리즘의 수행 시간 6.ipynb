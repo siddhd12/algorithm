{
 "cells": [
  {
   "cell_type": "markdown",
   "metadata": {},
   "source": [
    "오늘도 서준이는 알고리즘의 수행시간 수업 조교를 하고 있다. 아빠가 수업한 내용을 학생들이 잘 이해했는지 문제를 통해서 확인해보자.\n",
    "\n",
    "입력의 크기 n이 주어지면 MenOfPassion 알고리즘 수행 시간을 예제 출력과 같은 방식으로 출력해보자.\n",
    "\n",
    "MenOfPassion 알고리즘은 다음과 같다."
   ]
  },
  {
   "cell_type": "code",
   "execution_count": null,
   "metadata": {},
   "outputs": [],
   "source": [
    "#### 예상 코딩\n",
    "# MenOfPassion(A[], n) {\n",
    "#     sum <- 0;\n",
    "#     for i <- 1 to n - 2  # n-2번 반복\n",
    "#         for j <- i + 1 to n - 1 n-1이지만 점점 줄어들면서 반복 \n",
    "#             for k <- j + 1 to n  그리고 n번 반복 \n",
    "#                 sum <- sum + A[i] × A[j] × A[k]; # 코드1\n",
    "#     return sum;\n",
    "# }\n",
    "# 최고차항은 n^3 이니 3이고  시간복잡도는 해봐야 함 \n",
    "# 이제부터 조금 복잡함 한번 확인해봐야함.."
   ]
  },
  {
   "cell_type": "code",
   "execution_count": 18,
   "metadata": {},
   "outputs": [
    {
     "name": "stdout",
     "output_type": "stream",
     "text": [
      "i 0\n",
      "j 1\n",
      "k 2\n",
      "n 1\n",
      "k 3\n",
      "n 2\n",
      "k 4\n",
      "n 3\n",
      "k 5\n",
      "n 4\n",
      "k 6\n",
      "n 5\n",
      "ㅡㅡㅡ\n",
      "j 2\n",
      "k 3\n",
      "n 6\n",
      "k 4\n",
      "n 7\n",
      "k 5\n",
      "n 8\n",
      "k 6\n",
      "n 9\n",
      "ㅡㅡㅡ\n",
      "j 3\n",
      "k 4\n",
      "n 10\n",
      "k 5\n",
      "n 11\n",
      "k 6\n",
      "n 12\n",
      "ㅡㅡㅡ\n",
      "j 4\n",
      "k 5\n",
      "n 13\n",
      "k 6\n",
      "n 14\n",
      "ㅡㅡㅡ\n",
      "j 5\n",
      "k 6\n",
      "n 15\n",
      "ㅡㅡㅡ\n",
      "i 1\n",
      "j 2\n",
      "k 3\n",
      "n 16\n",
      "k 4\n",
      "n 17\n",
      "k 5\n",
      "n 18\n",
      "k 6\n",
      "n 19\n",
      "ㅡㅡㅡ\n",
      "j 3\n",
      "k 4\n",
      "n 20\n",
      "k 5\n",
      "n 21\n",
      "k 6\n",
      "n 22\n",
      "ㅡㅡㅡ\n",
      "j 4\n",
      "k 5\n",
      "n 23\n",
      "k 6\n",
      "n 24\n",
      "ㅡㅡㅡ\n",
      "j 5\n",
      "k 6\n",
      "n 25\n",
      "ㅡㅡㅡ\n",
      "i 2\n",
      "j 3\n",
      "k 4\n",
      "n 26\n",
      "k 5\n",
      "n 27\n",
      "k 6\n",
      "n 28\n",
      "ㅡㅡㅡ\n",
      "j 4\n",
      "k 5\n",
      "n 29\n",
      "k 6\n",
      "n 30\n",
      "ㅡㅡㅡ\n",
      "j 5\n",
      "k 6\n",
      "n 31\n",
      "ㅡㅡㅡ\n",
      "i 3\n",
      "j 4\n",
      "k 5\n",
      "n 32\n",
      "k 6\n",
      "n 33\n",
      "ㅡㅡㅡ\n",
      "j 5\n",
      "k 6\n",
      "n 34\n",
      "ㅡㅡㅡ\n",
      "i 4\n",
      "j 5\n",
      "k 6\n",
      "n 35\n",
      "ㅡㅡㅡ\n"
     ]
    }
   ],
   "source": [
    "n=0\n",
    "for i in range(7-2): # 5번 반복 \n",
    "    print('i',i)\n",
    "    for j in range(i+1,7-1): # 1부터 시작 해서 (n-1)!번 반복 5,4,3,2,1 \n",
    "        print('j',j)\n",
    "        for k in range(j+1,7): # 마찬가지로 2부터 시작 7까지 반복 \n",
    "            print('k',k)\n",
    "            n+=1\n",
    "            print('n',n)\n",
    "        print('ㅡㅡㅡ')\n",
    "        # print(j)\n",
    "# 해보니 (n-2)!로 돌아가는중..이유는 좀더 알아봐야 할거같다..?\n",
    "# 알아보니 그런 이유가 있다.. 뭐 더 쉽게하는 방법을 알아야할듯 일단 n-2)1로 돌아감..."
   ]
  },
  {
   "cell_type": "code",
   "execution_count": 51,
   "metadata": {},
   "outputs": [
    {
     "name": "stdout",
     "output_type": "stream",
     "text": [
      "35\n",
      "3\n"
     ]
    }
   ],
   "source": [
    "n=int(input())\n",
    "n_fec=n-2\n",
    "\n",
    "def nfec(n_fec):\n",
    "    if n_fec ==1:\n",
    "        return 1\n",
    "    else:\n",
    "        sum_fec=sum(list(range(1,n_fec+1)))\n",
    "        return sum_fec+nfec(n_fec-1)\n",
    "    \n",
    "print(nfec(n_fec))\n",
    "print('3')"
   ]
  },
  {
   "cell_type": "code",
   "execution_count": 46,
   "metadata": {},
   "outputs": [
    {
     "data": {
      "text/plain": [
       "15"
      ]
     },
     "execution_count": 46,
     "metadata": {},
     "output_type": "execute_result"
    }
   ],
   "source": [
    "# 느낀점: 재귀 함수를 이용해서 해봤는데 헷갈린다..많은 노력이 필요할듯..->는 시간 초과"
   ]
  },
  {
   "cell_type": "code",
   "execution_count": 151,
   "metadata": {},
   "outputs": [
    {
     "name": "stdout",
     "output_type": "stream",
     "text": [
      "35\n",
      "3\n"
     ]
    }
   ],
   "source": [
    "n=int(input())\n",
    "num=0\n",
    "for i in range(1, n - 1):\n",
    "    num += (i * (1 + i)) // 2\n",
    "print(num)\n",
    "print('3')\n",
    "# 등차 수열의 합으로 계산 하면된다\n",
    "# 등차수열의 합은 첫 항과 마지막 항을 더한 뒤 항의 개수를 곱하고 2로 나눈 값"
   ]
  },
  {
   "cell_type": "code",
   "execution_count": 152,
   "metadata": {},
   "outputs": [],
   "source": [
    "#느낀점: 생각보다 빡셌다.. 왜그렇게 나온진 알았는데 빨리 하려고 하니까 등차수열의 공식을 이용해서 더 빠르게 풀어야하는 방법이였다..\n",
    "# 수학공부가 많이 필요한 시점 고딩으로 돌아가고싶다.. 이젠 다까묶다.. 그렇다고 안보고 하는법을 하고싶지만 고딩 수학의 공식이 피타고라스 방식말곤 생각나는게 없다.."
   ]
  },
  {
   "cell_type": "code",
   "execution_count": null,
   "metadata": {},
   "outputs": [],
   "source": []
  }
 ],
 "metadata": {
  "kernelspec": {
   "display_name": "Python 3",
   "language": "python",
   "name": "python3"
  },
  "language_info": {
   "codemirror_mode": {
    "name": "ipython",
    "version": 3
   },
   "file_extension": ".py",
   "mimetype": "text/x-python",
   "name": "python",
   "nbconvert_exporter": "python",
   "pygments_lexer": "ipython3",
   "version": "3.12.0"
  }
 },
 "nbformat": 4,
 "nbformat_minor": 2
}
