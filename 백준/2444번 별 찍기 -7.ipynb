{
 "cells": [
  {
   "cell_type": "code",
   "execution_count": null,
   "metadata": {},
   "outputs": [],
   "source": [
    "row=int(input()) # 3,5,7,9 뭐가 들어와도 다이아몬드를 만들어준다..\n",
    "bin=\" \"\n",
    "star=\"*\"\n",
    "for num,i in enumerate(range(1,row*2,2),1):\n",
    "    # print(bin*(row-num)+star*i+bin*(row-num))\n",
    "    print(bin*(row-num)+star*i)\n",
    "for num,i in enumerate(range(row*2-1,0,-2),0):\n",
    "    if i ==row*2-1:\n",
    "        continue\n",
    "    # print(bin*num+star*i+bin*num)\n",
    "    print(bin*num+star*i)\n",
    "#     rev.append(bin*(5-num)+star*i+bin*(5-num))\n",
    "# 소감 출력만 맞추면되는줄알고 이쁘게 데칼코마니 맞추면서 했는데 공백이 추가되면 안되는거였다아\n",
    "\n",
    "        \n",
    "    #   print(bin*2+star*i+bin*2)\n",
    "    #   print(bin*1+star*i+bin*1)\n",
    "\n",
    "# rev.reverse()\n",
    "# for i in rev:\n",
    "#     print(i)\n",
    "    # print(bin*3+star*i+bin*3)\n",
    "    # print(bin*2+star*i+bin*2)\n",
    "    # print(bin*1+star*i+bin*1)\n",
    "    # print(bin*0+star*i+bin*0)\n",
    "# for num,i in enumerate(range(1,10,2)):\n",
    "#     print(bin*(5-num)+star*i+bin*(5-num))\n",
    "    \n",
    "    # print(bin*(5-num)+star*i+bin*(5-num))\n"
   ]
  }
 ],
 "metadata": {
  "language_info": {
   "name": "python"
  },
  "orig_nbformat": 4
 },
 "nbformat": 4,
 "nbformat_minor": 2
}
