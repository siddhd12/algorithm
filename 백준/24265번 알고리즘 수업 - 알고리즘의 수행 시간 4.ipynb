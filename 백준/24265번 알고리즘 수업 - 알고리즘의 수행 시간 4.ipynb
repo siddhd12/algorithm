{
 "cells": [
  {
   "cell_type": "markdown",
   "metadata": {},
   "source": [
    "오늘도 서준이는 알고리즘의 수행시간 수업 조교를 하고 있다. 아빠가 수업한 내용을 학생들이 잘 이해했는지 문제를 통해서 확인해보자.\n",
    "\n",
    "입력의 크기 n이 주어지면 MenOfPassion 알고리즘 수행 시간을 예제 출력과 같은 방식으로 출력해보자.\n",
    "\n",
    "MenOfPassion 알고리즘은 다음과 같다."
   ]
  },
  {
   "cell_type": "code",
   "execution_count": 8,
   "metadata": {},
   "outputs": [],
   "source": [
    "#### 예상코드\n",
    "# MenOfPassion(A[], n) {\n",
    "#     sum <- 0;\n",
    "#     for i <- 1 to n - 1  n-1번 실행\n",
    "#         for j <- i + 1 to n 1 +1부터 n번 실행..\n",
    "#             sum <- sum + A[i] × A[j]; # 코드1\n",
    "#     return sum; 리턴은 1회\n",
    "# }\n",
    "\n",
    "# 7 6 5 4 3 2 1 이런식으로 실행되는거 같음\n",
    "# O(n-1)! 이런느낌\n",
    "# 일단 for문이 2개 n^2이라 차수는 2, 하지만 for문에서 -1만큼\n",
    "# 2중 포문에서 i+1씩 또 줄어든다...\n"
   ]
  },
  {
   "cell_type": "code",
   "execution_count": 7,
   "metadata": {},
   "outputs": [
    {
     "data": {
      "text/plain": [
       "21"
      ]
     },
     "execution_count": 7,
     "metadata": {},
     "output_type": "execute_result"
    }
   ],
   "source": [
    "n=int(input())\n",
    "mop=list(range(1,n))\n",
    "print(sum(mop))\n",
    "print(2)"
   ]
  },
  {
   "cell_type": "code",
   "execution_count": null,
   "metadata": {},
   "outputs": [],
   "source": [
    "# 느낀점: 생각보다 쉬운거같다..?"
   ]
  }
 ],
 "metadata": {
  "kernelspec": {
   "display_name": "Python 3",
   "language": "python",
   "name": "python3"
  },
  "language_info": {
   "codemirror_mode": {
    "name": "ipython",
    "version": 3
   },
   "file_extension": ".py",
   "mimetype": "text/x-python",
   "name": "python",
   "nbconvert_exporter": "python",
   "pygments_lexer": "ipython3",
   "version": "3.12.0"
  }
 },
 "nbformat": 4,
 "nbformat_minor": 2
}
