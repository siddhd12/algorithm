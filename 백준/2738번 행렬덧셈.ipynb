{
 "cells": [
  {
   "cell_type": "markdown",
   "metadata": {},
   "source": [
    "N*M크기의 두 행렬 A와 B가 주어졌을 때, 두 행렬을 더하는 프로그램을 작성하시오."
   ]
  },
  {
   "cell_type": "code",
   "execution_count": 1,
   "metadata": {},
   "outputs": [
    {
     "ename": "SyntaxError",
     "evalue": "invalid syntax (3638144011.py, line 2)",
     "output_type": "error",
     "traceback": [
      "\u001b[1;36m  Cell \u001b[1;32mIn[1], line 2\u001b[1;36m\u001b[0m\n\u001b[1;33m    첫번째에 몇 * 몇 행렬 할건지 쓰고 그이후에 각 행렬에 맞게 작성하면되는거같다.\u001b[0m\n\u001b[1;37m         ^\u001b[0m\n\u001b[1;31mSyntaxError\u001b[0m\u001b[1;31m:\u001b[0m invalid syntax\n"
     ]
    }
   ],
   "source": [
    "# 문제 해석\n",
    "# 첫번째에 몇 * 몇 행렬 할건지 쓰고 그이후에 각 행렬에 맞게 작성하면되는거같다.\n",
    "# 무조건 두 행렬\n",
    "##############\n",
    "# 예상 코딩\n",
    "# 쉽게 하는방법을 정해보자~"
   ]
  },
  {
   "cell_type": "code",
   "execution_count": 177,
   "metadata": {},
   "outputs": [],
   "source": [
    "n,m=map(int, input().split(' ')) # 행렬 입력"
   ]
  },
  {
   "cell_type": "code",
   "execution_count": 178,
   "metadata": {},
   "outputs": [
    {
     "data": {
      "text/plain": [
       "3"
      ]
     },
     "execution_count": 178,
     "metadata": {},
     "output_type": "execute_result"
    }
   ],
   "source": [
    "n"
   ]
  },
  {
   "cell_type": "code",
   "execution_count": 175,
   "metadata": {},
   "outputs": [
    {
     "name": "stdout",
     "output_type": "stream",
     "text": [
      "4 4 4\n",
      "6 6 6\n",
      "5 6 100\n"
     ]
    }
   ],
   "source": [
    "import numpy as np\n",
    "n,m=map(int, input().split(' ')) # 행렬 입력\n",
    "def make_array(n,m):\n",
    "  arr=np.zeros((n,m),dtype=int)\n",
    "  return arr\n",
    "a=make_array(n,m)\n",
    "b=make_array(n,m)\n",
    "for i in range(int(n)*2): # 2개 한번에 입력받기\n",
    "    x=list(map(int, input().split(' ')))\n",
    "    \n",
    "    for j,num in enumerate(x):\n",
    "        if i>=n:\n",
    "            b[i-n][j]=num\n",
    "        else:\n",
    "            a[i][j]=num\n",
    "c=a+b\n",
    "for row in c:\n",
    "    print(' '.join(map(str,row)))\n"
   ]
  },
  {
   "cell_type": "code",
   "execution_count": 176,
   "metadata": {},
   "outputs": [
    {
     "name": "stdout",
     "output_type": "stream",
     "text": [
      "14 16 18 20\n",
      "22 24 26 28\n",
      "30 32 34 36\n"
     ]
    }
   ],
   "source": [
    "런타임 에러 (NameError)\n",
    "찾아보니 백준은 numpy를 지원안함..다시 해야함\n"
   ]
  },
  {
   "cell_type": "code",
   "execution_count": 239,
   "metadata": {},
   "outputs": [
    {
     "name": "stdout",
     "output_type": "stream",
     "text": [
      "0\n",
      "[1, 1, 1]\n",
      "1\n",
      "[2, 2, 2]\n",
      "2\n",
      "[0, 1, 0]\n",
      "3\n",
      "[3, 3, 3]\n",
      "4\n",
      "[4, 4, 4]\n",
      "5\n",
      "[5, 5, 100]\n",
      "4 4 4\n",
      "6 6 6\n",
      "5 6 100\n"
     ]
    }
   ],
   "source": [
    "n,m=map(int, input().split(' ')) # 행렬 입력\n",
    "a=[]\n",
    "b=[] \n",
    "c=[] # 더할 행렬\n",
    "for i in range(n*2): # 2개 한번에 입력받기\n",
    "    x=list(map(int, input().split(' ')))\n",
    "    if i>=n:\n",
    "        b.append(x)\n",
    "    else:\n",
    "        a.append(x)\n",
    "for i in range(n):\n",
    "    row=[]\n",
    "    for j in range(m):\n",
    "        row.append(a[i][j]+b[i][j])\n",
    "    c.append(row)\n",
    "for row in c:\n",
    "    print(' '.join(map(str,row)))"
   ]
  },
  {
   "cell_type": "code",
   "execution_count": null,
   "metadata": {},
   "outputs": [],
   "source": [
    "# 느낀점..\n",
    "# join() 함수와 map() 함수 리스트안에 리스트 넣는거 잘 알아둬야함!\n"
   ]
  }
 ],
 "metadata": {
  "kernelspec": {
   "display_name": "Python 3",
   "language": "python",
   "name": "python3"
  },
  "language_info": {
   "codemirror_mode": {
    "name": "ipython",
    "version": 3
   },
   "file_extension": ".py",
   "mimetype": "text/x-python",
   "name": "python",
   "nbconvert_exporter": "python",
   "pygments_lexer": "ipython3",
   "version": "3.12.0"
  }
 },
 "nbformat": 4,
 "nbformat_minor": 2
}
