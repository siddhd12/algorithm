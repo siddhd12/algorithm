{
 "cells": [
  {
   "cell_type": "markdown",
   "metadata": {},
   "source": [
    "영선이는 길이가 a, b, c인 세 막대를 가지고 있고, 각 막대의 길이를 마음대로 줄일 수 있다.\n",
    "\n",
    "영선이는 세 막대를 이용해서 아래 조건을 만족하는 삼각형을 만들려고 한다.\n",
    "\n",
    "각 막대의 길이는 양의 정수이다\n",
    "세 막대를 이용해서 넓이가 양수인 삼각형을 만들 수 있어야 한다.\n",
    "삼각형의 둘레를 최대로 해야 한다.\n",
    "a, b, c가 주어졌을 때, 만들 수 있는 가장 큰 둘레를 구하는 프로그램을 작성하시오"
   ]
  },
  {
   "cell_type": "code",
   "execution_count": 11,
   "metadata": {},
   "outputs": [
    {
     "name": "stdout",
     "output_type": "stream",
     "text": [
      "6\n"
     ]
    }
   ],
   "source": [
    "tri=list(map(int,input().split(\" \")))\n",
    "max_tri=max(tri)\n",
    "stand=sum(tri)-max(tri)\n",
    "if max_tri<stand:\n",
    "    print(sum(tri))\n",
    "else:\n",
    "    print(sum(tri)-max(tri)+(stand-1))"
   ]
  },
  {
   "cell_type": "code",
   "execution_count": 12,
   "metadata": {},
   "outputs": [],
   "source": [
    "# 느낀점: 생각보다 매우쉬움"
   ]
  }
 ],
 "metadata": {
  "kernelspec": {
   "display_name": "Python 3",
   "language": "python",
   "name": "python3"
  },
  "language_info": {
   "codemirror_mode": {
    "name": "ipython",
    "version": 3
   },
   "file_extension": ".py",
   "mimetype": "text/x-python",
   "name": "python",
   "nbconvert_exporter": "python",
   "pygments_lexer": "ipython3",
   "version": "3.12.0"
  }
 },
 "nbformat": 4,
 "nbformat_minor": 2
}
