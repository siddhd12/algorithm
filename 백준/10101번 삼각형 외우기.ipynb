{
 "cells": [
  {
   "cell_type": "markdown",
   "metadata": {},
   "source": [
    "창영이는 삼각형의 종류를 잘 구분하지 못한다. 따라서 프로그램을 이용해 이를 외우려고 한다.\n",
    "\n",
    "삼각형의 세 각을 입력받은 다음, \n",
    "\n",
    "세 각의 크기가 모두 60이면, Equilateral\n",
    "세 각의 합이 180이고, 두 각이 같은 경우에는 Isosceles\n",
    "세 각의 합이 180이고, 같은 각이 없는 경우에는 Scalene\n",
    "세 각의 합이 180이 아닌 경우에는 Error\n",
    "를 출력하는 프로그램을 작성하시오"
   ]
  },
  {
   "cell_type": "code",
   "execution_count": 4,
   "metadata": {},
   "outputs": [
    {
     "name": "stdout",
     "output_type": "stream",
     "text": [
      "Error\n"
     ]
    }
   ],
   "source": [
    "tri=[]\n",
    "for i in range(3):\n",
    "    angle=int(input())\n",
    "    tri.append(angle)\n",
    "if tri.count(60)==3:\n",
    "    print('Equilateral')\n",
    "elif sum(tri)==180:\n",
    "    if any(tri.count(i)==2 for i in tri):\n",
    "       print('Isosceles')\n",
    "    elif len(set(tri))==3:\n",
    "        print('Scalene')\n",
    "else:\n",
    "    print('Error')\n",
    "\n",
    "       "
   ]
  },
  {
   "cell_type": "code",
   "execution_count": 5,
   "metadata": {},
   "outputs": [],
   "source": [
    "# 느낀점: any()를처음써음 any all 등 여러가지가 있을거같은디 많이써야겠다..."
   ]
  },
  {
   "cell_type": "code",
   "execution_count": null,
   "metadata": {},
   "outputs": [],
   "source": []
  }
 ],
 "metadata": {
  "kernelspec": {
   "display_name": "Python 3",
   "language": "python",
   "name": "python3"
  },
  "language_info": {
   "codemirror_mode": {
    "name": "ipython",
    "version": 3
   },
   "file_extension": ".py",
   "mimetype": "text/x-python",
   "name": "python",
   "nbconvert_exporter": "python",
   "pygments_lexer": "ipython3",
   "version": "3.12.0"
  }
 },
 "nbformat": 4,
 "nbformat_minor": 2
}
