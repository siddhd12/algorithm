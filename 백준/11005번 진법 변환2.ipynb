{
 "cells": [
  {
   "cell_type": "markdown",
   "metadata": {},
   "source": [
    "10진법 수 N이 주어진다. 이 수를 B진법으로 바꿔 출력하는 프로그램을 작성하시오.\n",
    "\n",
    "10진법을 넘어가는 진법은 숫자로 표시할 수 없는 자리가 있다. 이런 경우에는 다음과 같이 알파벳 대문자를 사용한다.\n",
    "\n",
    "A: 10, B: 11, ..., F: 15, ..., Y: 34, Z: 35"
   ]
  },
  {
   "cell_type": "code",
   "execution_count": null,
   "metadata": {},
   "outputs": [],
   "source": [
    "### 예상 코딩 A B 가 주어지면 A 를 B 로 나누고 10승으로 바꾼다음에 그거에 맞게 따다닥 하면 되지 않을까.\n",
    "# for 문으로 나누기\n",
    "# 나온 값 확인 해서 진법 확인 하기\n"
   ]
  },
  {
   "cell_type": "code",
   "execution_count": 27,
   "metadata": {},
   "outputs": [
    {
     "name": "stdout",
     "output_type": "stream",
     "text": [
      "120"
     ]
    }
   ],
   "source": [
    "formation='0123456789ABCDEFGHIJKLMNOPQRSTUVWXYZ'\n",
    "val, jin = input().split(\" \")\n",
    "div=[] #나눈거\n",
    "remain=[] # 남은거\n",
    "# 계산\n",
    "val=int(val)\n",
    "jin= int(jin)\n",
    "while val >0:\n",
    "    div_num=val//jin\n",
    "    remain_num=val%jin\n",
    "    div.append(div_num)\n",
    "    remain.append(remain_num)\n",
    "    val=div_num\n",
    "remain.reverse()\n",
    "for i in remain:\n",
    "    print(formation[i] ,end='')"
   ]
  },
  {
   "cell_type": "code",
   "execution_count": null,
   "metadata": {},
   "outputs": [],
   "source": [
    "# 갑자기 깨달음에 얻었고 마지막 reverse부분에서 막혔다...\n",
    "# 혹시나 해서 바꿨더니 잘 마무리됐다!"
   ]
  }
 ],
 "metadata": {
  "kernelspec": {
   "display_name": "Python 3",
   "language": "python",
   "name": "python3"
  },
  "language_info": {
   "codemirror_mode": {
    "name": "ipython",
    "version": 3
   },
   "file_extension": ".py",
   "mimetype": "text/x-python",
   "name": "python",
   "nbconvert_exporter": "python",
   "pygments_lexer": "ipython3",
   "version": "3.12.0"
  }
 },
 "nbformat": 4,
 "nbformat_minor": 2
}
