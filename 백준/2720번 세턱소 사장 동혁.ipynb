{
 "cells": [
  {
   "cell_type": "markdown",
   "metadata": {},
   "source": [
    "미국으로 유학간 동혁이는 세탁소를 운영하고 있다. 동혁이는 최근에 아르바이트로 고등학생 리암을 채용했다.\n",
    "\n",
    "동혁이는 리암에게 실망했다.\n",
    "\n",
    "리암은 거스름돈을 주는 것을 자꾸 실수한다.\n",
    "\n",
    "심지어 $0.5달러를 줘야하는 경우에 거스름돈으로 $5달러를 주는것이다!\n",
    "\n",
    "어쩔수 없이 뛰어난 코딩 실력을 발휘해 리암을 도와주는 프로그램을 작성하려고 하지만, 디아블로를 하느라 코딩할 시간이 없어서 이 문제를 읽고 있는 여러분이 대신 해주어야 한다.\n",
    "\n",
    "거스름돈의 액수가 주어지면 리암이 줘야할 쿼터(Quarter, $0.25)의 개수, 다임(Dime, $0.10)의 개수, 니켈(Nickel, $0.05)의 개수, 페니(Penny, $0.01)의 개수를 구하는 프로그램을 작성하시오. 거스름돈은 항상 $5.00 이하이고, 손님이 받는 동전의 개수를 최소로 하려고 한다. 예를 들어, $1.24를 거슬러 주어야 한다면, 손님은 4쿼터, 2다임, 0니켈, 4페니를 받게 된다."
   ]
  },
  {
   "cell_type": "code",
   "execution_count": null,
   "metadata": {},
   "outputs": [],
   "source": [
    "######\n",
    "# 문제 입력 받고 거스름돈 입력 한다음\n",
    "# quater별로 0으로 나눠떨어지는것만큼 주고 다임별 -> 니켈별-> 페니 별로 계산하면 될거같음``"
   ]
  },
  {
   "cell_type": "code",
   "execution_count": 82,
   "metadata": {},
   "outputs": [
    {
     "name": "stdout",
     "output_type": "stream",
     "text": [
      "4 2 0 4 \n",
      "1 0 0 0 \n",
      "7 1 1 4 \n"
     ]
    }
   ],
   "source": [
    "### 제출용 ###\n",
    "# Quarter=25\n",
    "# Dime=10\n",
    "# Nikel=5\n",
    "# Penny=1\n",
    "return_money=[25,10,5,1]\n",
    "num = int(input())\n",
    "for i in range(num):\n",
    "    remind_cash=int(input())\n",
    "    # print(remind_cash)\n",
    "    change_money=[]\n",
    "    for cash in return_money:\n",
    "        if remind_cash%cash!=0: # 25로 나눠지면 거스름돈은 알아서 querter로 \n",
    "            # print(test//cash,\"<-딱 떨어지는 돈, 자른돈->\",cash)\n",
    "            change_money.append(remind_cash//cash)\n",
    "            remind_cash= remind_cash%cash\n",
    "            # print(test,\"남은돈\")\n",
    "        elif remind_cash%cash==0:\n",
    "            change_money.append(remind_cash//cash)\n",
    "            remind_cash=0\n",
    "        elif remind_cash==0:\n",
    "            change_money.append(0)\n",
    "        # else:\n",
    "        #     change_money.append(test//cash)\n",
    "        #     test=0\n",
    "            # print( test//cash)\n",
    "    # 1원 남은 경우 \n",
    "    # return_money.append(test)\n",
    "    for money in change_money:\n",
    "        print(money, end=\" \")\n",
    "    print(\"\")\n",
    "\n",
    "    # 계산 필요"
   ]
  },
  {
   "cell_type": "code",
   "execution_count": 83,
   "metadata": {},
   "outputs": [
    {
     "name": "stdout",
     "output_type": "stream",
     "text": [
      "4 2 0 4 "
     ]
    }
   ],
   "source": [
    "### test용 ####\n",
    "test=124\n",
    "change_money=[]\n",
    "for cash in return_money:\n",
    "    if test%cash!=0: # 25로 나눠지면 거스름돈은 알아서 querter로 \n",
    "        # print(test//cash,\"<-딱 떨어지는 돈, 자른돈->\",cash)\n",
    "        change_money.append(test//cash)\n",
    "        test= test%cash\n",
    "        # print(test,\"남은돈\")\n",
    "    elif test%cash==0:\n",
    "        change_money.append(test//cash)\n",
    "        test=0\n",
    "    elif test==0:\n",
    "        change_money.append(0)\n",
    "    # else:\n",
    "    #     change_money.append(test//cash)\n",
    "    #     test=0\n",
    "        # print( test//cash)\n",
    "# 1원 남은 경우 \n",
    "# return_money.append(test)\n",
    "for money in change_money:\n",
    "    print(money, end=\" \")\n"
   ]
  },
  {
   "cell_type": "code",
   "execution_count": 84,
   "metadata": {},
   "outputs": [],
   "source": [
    "# 느낀점: 안하다가 하면 바로 풀린다. 그리고 항상 한번에 맞는경우가 없는데..이유는 print찍어본걸 안지우거나\n",
    "# 띄어쓰기를 빼먹는경우가 많다.. 실패는 하더라도 항상 맞게끔 나오게 하는걸 목표로 하자!"
   ]
  },
  {
   "cell_type": "code",
   "execution_count": null,
   "metadata": {},
   "outputs": [],
   "source": []
  }
 ],
 "metadata": {
  "kernelspec": {
   "display_name": "Python 3",
   "language": "python",
   "name": "python3"
  },
  "language_info": {
   "codemirror_mode": {
    "name": "ipython",
    "version": 3
   },
   "file_extension": ".py",
   "mimetype": "text/x-python",
   "name": "python",
   "nbconvert_exporter": "python",
   "pygments_lexer": "ipython3",
   "version": "3.12.0"
  }
 },
 "nbformat": 4,
 "nbformat_minor": 2
}
