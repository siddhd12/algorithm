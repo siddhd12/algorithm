{
 "cells": [
  {
   "cell_type": "code",
   "execution_count": 21,
   "metadata": {},
   "outputs": [
    {
     "name": "stdout",
     "output_type": "stream",
     "text": [
      "[[3, 23, 85, 34, 17, 74, 25, 52, 65], [10, 7, 39, 42, 88, 52, 14, 72, 63], [87, 42, 18, 78, 53, 45, 18, 84, 53], [34, 28, 64, 85, 12, 16, 75, 36, 55], [21, 77, 45, 35, 28, 75, 90, 76, 1], [25, 87, 65, 15, 28, 11, 37, 28, 74], [65, 27, 75, 41, 7, 89, 78, 64, 39], [47, 47, 70, 45, 23, 65, 3, 41, 44], [87, 13, 82, 38, 31, 12, 29, 29, 80]]\n"
     ]
    }
   ],
   "source": [
    "a=[]\n",
    "for i in range(9):\n",
    "    row=list(map(int,input().split(' ')))\n",
    "    a.append(row)\n",
    "print(a)\n"
   ]
  },
  {
   "cell_type": "code",
   "execution_count": 74,
   "metadata": {},
   "outputs": [
    {
     "name": "stdout",
     "output_type": "stream",
     "text": [
      "[[10, 2, 2, 2, 2, 2, 2, 2, 2], [2, 2, 2, 2, 2, 2, 2, 2, 2], [2, 2, 2, 2, 2, 2, 2, 2, 2], [2, 2, 2, 2, 2, 2, 2, 2, 2], [2, 2, 2, 2, 2, 2, 2, 2, 2], [2, 2, 2, 2, 2, 2, 2, 2, 2], [2, 2, 2, 2, 2, 2, 2, 2, 2], [2, 2, 2, 2, 2, 2, 2, 2, 2], [2, 2, 2, 2, 2, 2, 2, 2, 2]]\n",
      "[10, 2, 2, 2, 2, 2, 2, 2, 2]\n",
      "10\n",
      "0\n",
      "[2, 2, 2, 2, 2, 2, 2, 2, 2]\n",
      "2\n",
      "0\n",
      "[2, 2, 2, 2, 2, 2, 2, 2, 2]\n",
      "2\n",
      "0\n",
      "[2, 2, 2, 2, 2, 2, 2, 2, 2]\n",
      "2\n",
      "0\n",
      "[2, 2, 2, 2, 2, 2, 2, 2, 2]\n",
      "2\n",
      "0\n",
      "[2, 2, 2, 2, 2, 2, 2, 2, 2]\n",
      "2\n",
      "0\n",
      "[2, 2, 2, 2, 2, 2, 2, 2, 2]\n",
      "2\n",
      "0\n",
      "[2, 2, 2, 2, 2, 2, 2, 2, 2]\n",
      "2\n",
      "0\n",
      "[2, 2, 2, 2, 2, 2, 2, 2, 2]\n",
      "2\n",
      "0\n",
      "2\n",
      "2 1\n"
     ]
    }
   ],
   "source": [
    "a=[]\n",
    "dic={}\n",
    "for i in range(9):\n",
    "    row=list(map(int,input().split(' ')))\n",
    "    a.append(row)\n",
    "print(a)\n",
    "for index,num in enumerate(a):\n",
    "    print(num)\n",
    "    print(max(num))\n",
    "    print(num.index((max(num))))\n",
    "    dic[num.index((max(num)))]=max(num)\n",
    "max_index=max(a)\n",
    "max_value=dic[max(dic)] # 맥스값\n",
    "print(max_value)# row 에서 max_index\n",
    "print(str(ind.index(max_value)+1)+' '+str(max(dic)+1))"
   ]
  },
  {
   "cell_type": "code",
   "execution_count": 84,
   "metadata": {},
   "outputs": [
    {
     "data": {
      "text/plain": [
       "0"
      ]
     },
     "execution_count": 84,
     "metadata": {},
     "output_type": "execute_result"
    }
   ],
   "source": [
    "max_index=max(a)\n",
    "max_index.index(max(max(a)))"
   ]
  },
  {
   "cell_type": "code",
   "execution_count": 86,
   "metadata": {},
   "outputs": [
    {
     "data": {
      "text/plain": [
       "{0: 2}"
      ]
     },
     "execution_count": 86,
     "metadata": {},
     "output_type": "execute_result"
    }
   ],
   "source": [
    "dic"
   ]
  },
  {
   "cell_type": "code",
   "execution_count": 85,
   "metadata": {},
   "outputs": [
    {
     "data": {
      "text/plain": [
       "[10, 2, 2, 2, 2, 2, 2, 2, 2]"
      ]
     },
     "execution_count": 85,
     "metadata": {},
     "output_type": "execute_result"
    }
   ],
   "source": [
    "ind"
   ]
  },
  {
   "cell_type": "code",
   "execution_count": null,
   "metadata": {},
   "outputs": [],
   "source": []
  }
 ],
 "metadata": {
  "kernelspec": {
   "display_name": "Python 3",
   "language": "python",
   "name": "python3"
  },
  "language_info": {
   "codemirror_mode": {
    "name": "ipython",
    "version": 3
   },
   "file_extension": ".py",
   "mimetype": "text/x-python",
   "name": "python",
   "nbconvert_exporter": "python",
   "pygments_lexer": "ipython3",
   "version": "3.12.0"
  }
 },
 "nbformat": 4,
 "nbformat_minor": 2
}
