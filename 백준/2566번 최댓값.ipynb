{
 "cells": [
  {
   "cell_type": "markdown",
   "metadata": {},
   "source": [
    "<그림 1>과 같이 9×9 격자판에 쓰여진 81개의 자연수 또는 0이 주어질 때, 이들 중 최댓값을 찾고 그 최댓값이 몇 행 몇 열에 위치한 수인지 구하는 프로그램을 작성하시오."
   ]
  },
  {
   "cell_type": "code",
   "execution_count": null,
   "metadata": {},
   "outputs": [],
   "source": [
    "# 문제 해석\n",
    "# 9*9 행렬에서 각 리스트로 받은다음에 각 리스트에 멕스값을 넣고 \n",
    "# 그 멕스값에 index값을 저장받으면 될거같은 느낌\n",
    "######\n",
    "#예상 코딩\n",
    "# 위와 마찬가지로 총 3개의 리스트로 해결이 가능할거같다\n",
    "# 9*9 담을 리스트, 맥스 값과 몇번째 행인지 담을 리스트,그 해당 리스트에 몇번째 인덱스인지 담을 리스트\n",
    "# 그리고 출력"
   ]
  },
  {
   "cell_type": "code",
   "execution_count": 2,
   "metadata": {},
   "outputs": [
    {
     "name": "stdout",
     "output_type": "stream",
     "text": [
      "[[3, 23, 85, 34, 17, 74, 25, 52, 65], [10, 7, 39, 42, 88, 52, 14, 72, 63], [87, 42, 18, 78, 53, 45, 18, 84, 53], [34, 28, 64, 85, 12, 16, 75, 36, 55], [21, 77, 45, 35, 28, 75, 90, 76, 1], [25, 87, 65, 15, 28, 11, 37, 28, 74], [65, 27, 75, 41, 7, 89, 78, 64, 39], [47, 47, 70, 45, 23, 65, 3, 41, 44], [87, 13, 82, 38, 31, 12, 29, 29, 80]]\n",
      "[3, 23, 85, 34, 17, 74, 25, 52, 65]\n",
      "85\n",
      "2\n",
      "[10, 7, 39, 42, 88, 52, 14, 72, 63]\n",
      "88\n",
      "4\n",
      "[87, 42, 18, 78, 53, 45, 18, 84, 53]\n",
      "87\n",
      "0\n",
      "[34, 28, 64, 85, 12, 16, 75, 36, 55]\n",
      "85\n",
      "3\n",
      "[21, 77, 45, 35, 28, 75, 90, 76, 1]\n",
      "90\n",
      "6\n",
      "[25, 87, 65, 15, 28, 11, 37, 28, 74]\n",
      "87\n",
      "1\n",
      "[65, 27, 75, 41, 7, 89, 78, 64, 39]\n",
      "89\n",
      "5\n",
      "[47, 47, 70, 45, 23, 65, 3, 41, 44]\n",
      "70\n",
      "2\n",
      "[87, 13, 82, 38, 31, 12, 29, 29, 80]\n",
      "87\n",
      "0\n"
     ]
    },
    {
     "ename": "ValueError",
     "evalue": "max() iterable argument is empty",
     "output_type": "error",
     "traceback": [
      "\u001b[1;31m---------------------------------------------------------------------------\u001b[0m",
      "\u001b[1;31mValueError\u001b[0m                                Traceback (most recent call last)",
      "\u001b[1;32mc:\\developcoding\\beakjoon\\백준\\2566번 최댓값.ipynb Cell 2\u001b[0m line \u001b[0;36m1\n\u001b[0;32m     <a href='vscode-notebook-cell:/c%3A/developcoding/beakjoon/%EB%B0%B1%EC%A4%80/2566%EB%B2%88%20%EC%B5%9C%EB%8C%93%EA%B0%92.ipynb#W1sZmlsZQ%3D%3D?line=9'>10</a>\u001b[0m     \u001b[39mprint\u001b[39m(num\u001b[39m.\u001b[39mindex((\u001b[39mmax\u001b[39m(num))))\n\u001b[0;32m     <a href='vscode-notebook-cell:/c%3A/developcoding/beakjoon/%EB%B0%B1%EC%A4%80/2566%EB%B2%88%20%EC%B5%9C%EB%8C%93%EA%B0%92.ipynb#W1sZmlsZQ%3D%3D?line=10'>11</a>\u001b[0m max_index\u001b[39m=\u001b[39m\u001b[39mmax\u001b[39m(a)\n\u001b[1;32m---> <a href='vscode-notebook-cell:/c%3A/developcoding/beakjoon/%EB%B0%B1%EC%A4%80/2566%EB%B2%88%20%EC%B5%9C%EB%8C%93%EA%B0%92.ipynb#W1sZmlsZQ%3D%3D?line=11'>12</a>\u001b[0m max_value\u001b[39m=\u001b[39mdic[\u001b[39mmax\u001b[39;49m(dic)] \u001b[39m# 맥스값\u001b[39;00m\n\u001b[0;32m     <a href='vscode-notebook-cell:/c%3A/developcoding/beakjoon/%EB%B0%B1%EC%A4%80/2566%EB%B2%88%20%EC%B5%9C%EB%8C%93%EA%B0%92.ipynb#W1sZmlsZQ%3D%3D?line=12'>13</a>\u001b[0m \u001b[39mprint\u001b[39m(max_value)\u001b[39m# row 에서 max_index\u001b[39;00m\n\u001b[0;32m     <a href='vscode-notebook-cell:/c%3A/developcoding/beakjoon/%EB%B0%B1%EC%A4%80/2566%EB%B2%88%20%EC%B5%9C%EB%8C%93%EA%B0%92.ipynb#W1sZmlsZQ%3D%3D?line=13'>14</a>\u001b[0m \u001b[39mprint\u001b[39m(\u001b[39mstr\u001b[39m(ind\u001b[39m.\u001b[39mindex(max_value)\u001b[39m+\u001b[39m\u001b[39m1\u001b[39m)\u001b[39m+\u001b[39m\u001b[39m'\u001b[39m\u001b[39m \u001b[39m\u001b[39m'\u001b[39m\u001b[39m+\u001b[39m\u001b[39mstr\u001b[39m(\u001b[39mmax\u001b[39m(dic)\u001b[39m+\u001b[39m\u001b[39m1\u001b[39m))\n",
      "\u001b[1;31mValueError\u001b[0m: max() iterable argument is empty"
     ]
    }
   ],
   "source": [
    "a=[]\n",
    "dic=[]\n",
    "for i in range(9):\n",
    "    row=list(map(int,input().split(' ')))\n",
    "    a.append(row)\n",
    "# print(a)\n",
    "for index,num in enumerate(a):\n",
    "    print(num)\n",
    "    print(max(num))\n",
    "    print(num.index((max(num))))\n",
    "max_index=max(a)\n",
    "max_value=dic[max(dic)] # 맥스값\n",
    "print(max_value)# row 에서 max_index\n",
    "print(str(ind.index(max_value)+1)+' '+str(max(dic)+1))"
   ]
  },
  {
   "cell_type": "code",
   "execution_count": 24,
   "metadata": {},
   "outputs": [
    {
     "name": "stdout",
     "output_type": "stream",
     "text": [
      "90\n",
      "5 7\n"
     ]
    }
   ],
   "source": [
    "a=[]\n",
    "f_index=[]\n",
    "t_index=[]\n",
    "for i in range(9):\n",
    "    row=list(map(int,input().split(' ')))\n",
    "    a.append(row)\n",
    "for index,num in enumerate(a):\n",
    "    # print(num)\n",
    "    # print(max(num))\n",
    "    # print(num.index(max(num)))\n",
    "    t_index.append(num.index(max(num)))\n",
    "    f_index.append(max(num)) # max.value값과 f_index\n",
    "# max(f_index) # 90\n",
    "first=f_index.index(max(f_index)) # 4\n",
    "two=t_index[first] # 6\n",
    "print(max(f_index))\n",
    "print(first+1,two+1)\n"
   ]
  },
  {
   "cell_type": "code",
   "execution_count": null,
   "metadata": {},
   "outputs": [],
   "source": [
    "# 느낀점 diction이다보니까 키값은 중복을 허용하지 않는걸 알고있었는데 허점이 들켰다..반례의 중요성을 알아냈고..이상하게\n",
    "# 모든 코딩이 보다가 잠깐 냅뒀다가 보면 바로 문제가 풀린다는점... ->명심하자\n"
   ]
  }
 ],
 "metadata": {
  "kernelspec": {
   "display_name": "Python 3",
   "language": "python",
   "name": "python3"
  },
  "language_info": {
   "codemirror_mode": {
    "name": "ipython",
    "version": 3
   },
   "file_extension": ".py",
   "mimetype": "text/x-python",
   "name": "python",
   "nbconvert_exporter": "python",
   "pygments_lexer": "ipython3",
   "version": "3.12.0"
  }
 },
 "nbformat": 4,
 "nbformat_minor": 2
}
