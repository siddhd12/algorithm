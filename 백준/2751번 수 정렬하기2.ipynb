{
 "cells": [
  {
   "cell_type": "markdown",
   "metadata": {},
   "source": [
    "N개의 수가 주어졌을 때, 이를 오름차순으로 정렬하는 프로그램을 작성하시오."
   ]
  },
  {
   "cell_type": "code",
   "execution_count": null,
   "metadata": {},
   "outputs": [],
   "source": [
    "#### 예상코드\n",
    "# sort 쓰면되지않을까?"
   ]
  },
  {
   "cell_type": "code",
   "execution_count": 1,
   "metadata": {},
   "outputs": [
    {
     "name": "stdout",
     "output_type": "stream",
     "text": [
      "1\n",
      "2\n",
      "3\n",
      "4\n",
      "5\n"
     ]
    }
   ],
   "source": [
    "import sys\n",
    "\n",
    "n=int(sys.stdin.readline())\n",
    "sort_n=[]\n",
    "for i in range(n):\n",
    "\n",
    "    num=int(sys.stdin.readline())\n",
    "    sort_n.append(num)\n",
    "sort_n=sorted(sort_n)\n",
    "for i in sort_n:\n",
    "    print(i)"
   ]
  },
  {
   "cell_type": "code",
   "execution_count": null,
   "metadata": {},
   "outputs": [],
   "source": [
    "# 느낀점: input이 길면 sys.stdin.readline() 을 이용함\n",
    "#input()\n",
    "# parameter로 prompt message를 받을 수 있다. 사용자에게 입력받을 때 \"숫자를 입력하세요\" 등의 안내 문구가 prompt message이다. 입력받은 값의 개행 문자를 삭제시킨 뒤 리턴한다. \n",
    "# 즉 입력받은 문자열에 rstrip() 함수를 적용시켜서 리턴하기 때문에 다소 느리다.\n",
    "\n",
    "#sys.stdin.readline()\n",
    "#sys.stdin.readline()은 prompt message를 인수로 받지 않는다.\n",
    "# sys.stdin.readline()은 개행 문자를 포함한 값을 리턴한다. 또한 입력 크기에 제한을 줌으로써 한번에 읽어들일 문자의 수를 정할 수 있다."
   ]
  }
 ],
 "metadata": {
  "kernelspec": {
   "display_name": "Python 3",
   "language": "python",
   "name": "python3"
  },
  "language_info": {
   "codemirror_mode": {
    "name": "ipython",
    "version": 3
   },
   "file_extension": ".py",
   "mimetype": "text/x-python",
   "name": "python",
   "nbconvert_exporter": "python",
   "pygments_lexer": "ipython3",
   "version": "3.12.0"
  }
 },
 "nbformat": 4,
 "nbformat_minor": 2
}
