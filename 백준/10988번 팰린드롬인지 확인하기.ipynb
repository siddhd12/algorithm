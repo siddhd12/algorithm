{
 "cells": [
  {
   "cell_type": "code",
   "execution_count": 29,
   "metadata": {},
   "outputs": [],
   "source": [
    "# 문제 해석 \n",
    "# 팰린드롬은 앞 뒤 가 똑같은 전화번호~\n",
    "# 예시) level이면 앞뒤가 똑같다고 판단 출력 -1\n",
    "# 예시) noon면 앞뒤가 똑같다 판단  출력 -1 \n",
    "# 예시) baekjoon이면 앞뒤가 다름 똑같다 판단 x 출력 =0\n",
    "#######\n",
    "#예상 코딩\n",
    "# input 받고 홀수번따로 짝수따로 계산\n",
    "# 판단 하고 출력하기\n",
    "# 결과 코딩 짝수 따로 필요없이 걍 reversed 함수를 이용해서 같은 순서끼리 비교했을떄 틀리면 가차없이 끝내도록함"
   ]
  },
  {
   "cell_type": "code",
   "execution_count": 5,
   "metadata": {},
   "outputs": [],
   "source": [
    "test='txt'\n",
    "test2='noon'"
   ]
  },
  {
   "cell_type": "code",
   "execution_count": 7,
   "metadata": {},
   "outputs": [
    {
     "data": {
      "text/plain": [
       "'n'"
      ]
     },
     "execution_count": 7,
     "metadata": {},
     "output_type": "execute_result"
    }
   ],
   "source": [
    "test[0] \n",
    "# 0 1 2\n",
    "# -3 -2 -1\n",
    "test[-3]\n",
    "test2[-4]\n",
    "# 0 1 2 3\n",
    "# -4 -3 -2 -1"
   ]
  },
  {
   "cell_type": "code",
   "execution_count": 32,
   "metadata": {},
   "outputs": [
    {
     "name": "stdout",
     "output_type": "stream",
     "text": [
      "0\n"
     ]
    }
   ],
   "source": [
    "text= input()\n",
    "# test2 ='texet' # 테스트용\n",
    "rev= reversed(text)\n",
    "result=0 # 결과 \n",
    "for num,value in enumerate(rev):\n",
    "    # print(test2[num],value)  # 처음 값 확인을 위해 조회용\n",
    "    if text[num]==value: # 값 비교 \n",
    "        result = 1\n",
    "        # print(test2[num],value,result)\n",
    "    else: #  같지 않는순간 바로 탈락 샷~\n",
    "        result = 0\n",
    "        break\n",
    "print(result)\n",
    "\n"
   ]
  },
  {
   "cell_type": "code",
   "execution_count": null,
   "metadata": {},
   "outputs": [],
   "source": []
  }
 ],
 "metadata": {
  "kernelspec": {
   "display_name": "ml",
   "language": "python",
   "name": "python3"
  },
  "language_info": {
   "codemirror_mode": {
    "name": "ipython",
    "version": 3
   },
   "file_extension": ".py",
   "mimetype": "text/x-python",
   "name": "python",
   "nbconvert_exporter": "python",
   "pygments_lexer": "ipython3",
   "version": "3.10.11"
  },
  "orig_nbformat": 4
 },
 "nbformat": 4,
 "nbformat_minor": 2
}
