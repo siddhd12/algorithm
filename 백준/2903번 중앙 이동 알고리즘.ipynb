{
 "cells": [
  {
   "cell_type": "markdown",
   "metadata": {},
   "source": [
    "상근이는 친구들과 함께 SF영화를 찍으려고 한다. 이 영화는 외계 지형이 필요하다. 실제로 우주선을 타고 외계 행성에 가서 촬영을 할 수 없기 때문에, 컴퓨터 그래픽으로 CG처리를 하려고 한다.\n",
    "\n",
    "외계 지형은 중앙 이동 알고리즘을 이용해서 만들려고 한다.\n",
    "\n",
    "알고리즘을 시작하면서 상근이는 정사각형을 이루는 점 4개를 고른다. 그 후에는 다음과 같은 과정을 거쳐서 지형을 만든다.\n",
    "\n",
    "정사각형의 각 변의 중앙에 점을 하나 추가한다.\n",
    "정사각형의 중심에 점을 하나 추가한다.\n",
    "초기 상태에서 위와 같은 과정을 한 번 거치면 총 4개의 정사각형이 새로 생긴다. 이와 같은 과정을 상근이가 만족할 때 까지 계속한다.\n",
    "\n",
    "아래 그림은 과정을 총 2번 거쳤을 때까지의 모습이다"
   ]
  },
  {
   "cell_type": "code",
   "execution_count": null,
   "metadata": {},
   "outputs": [],
   "source": [
    "###예상 코드 \n",
    "# 1번은 4개\n",
    "# 2번은 9개 \n",
    "# 중복되는 부분은 갯수에 제거된다. 수열같은데 등차인지 등비인지는 잘 모르겠다..\n",
    "# 해봐야 알듯"
   ]
  },
  {
   "cell_type": "code",
   "execution_count": 5,
   "metadata": {},
   "outputs": [
    {
     "name": "stdout",
     "output_type": "stream",
     "text": [
      "3 입력값\n"
     ]
    }
   ],
   "source": [
    "num=int(input())\n",
    "print(num,'입력값')\n",
    "# for i in num:\n",
    "    # 계산식 \n",
    "    # pass"
   ]
  },
  {
   "cell_type": "code",
   "execution_count": null,
   "metadata": {},
   "outputs": [],
   "source": []
  }
 ],
 "metadata": {
  "kernelspec": {
   "display_name": "Python 3",
   "language": "python",
   "name": "python3"
  },
  "language_info": {
   "codemirror_mode": {
    "name": "ipython",
    "version": 3
   },
   "file_extension": ".py",
   "mimetype": "text/x-python",
   "name": "python",
   "nbconvert_exporter": "python",
   "pygments_lexer": "ipython3",
   "version": "3.12.0"
  }
 },
 "nbformat": 4,
 "nbformat_minor": 2
}
