{
 "cells": [
  {
   "cell_type": "code",
   "execution_count": 20,
   "metadata": {},
   "outputs": [
    {
     "name": "stdout",
     "output_type": "stream",
     "text": [
      "2\n"
     ]
    }
   ],
   "source": [
    "\n",
    "# č\tc=\n",
    "# ć\tc-\n",
    "# dž\tdz=\n",
    "# đ\td-\n",
    "# lj\tlj\n",
    "# nj\tnj\n",
    "# š\ts=\n",
    "# ž\tz=\n",
    "col_list= ['c=','c-','dz=','d-','lj','nj','s=','z=']\n",
    "text=input()\n",
    "# ch_list=[i for i in col_list if i in text] # text 안에 col_list꺼를 뺌,,,\n",
    "for i in col_list:\n",
    "    text=text.replace(i,'*') # replace로 값을 변경 해줌 \n",
    "print(len(text))"
   ]
  },
  {
   "cell_type": "code",
   "execution_count": 16,
   "metadata": {},
   "outputs": [
    {
     "data": {
      "text/plain": [
       "'*e**ak'"
      ]
     },
     "execution_count": 16,
     "metadata": {},
     "output_type": "execute_result"
    }
   ],
   "source": [
    "text"
   ]
  },
  {
   "cell_type": "code",
   "execution_count": null,
   "metadata": {},
   "outputs": [],
   "source": []
  }
 ],
 "metadata": {
  "kernelspec": {
   "display_name": "ml",
   "language": "python",
   "name": "python3"
  },
  "language_info": {
   "codemirror_mode": {
    "name": "ipython",
    "version": 3
   },
   "file_extension": ".py",
   "mimetype": "text/x-python",
   "name": "python",
   "nbconvert_exporter": "python",
   "pygments_lexer": "ipython3",
   "version": "3.10.11"
  },
  "orig_nbformat": 4
 },
 "nbformat": 4,
 "nbformat_minor": 2
}
