{
 "cells": [
  {
   "cell_type": "markdown",
   "metadata": {},
   "source": [
    "칠판에 붙여진 단어들이 주어질 때, 영석이가 세로로 읽은 순서대로 글자들을 출력하는 프로그램을 작성하시오.\n",
    "\n",
    "총 다섯줄의 입력이 주어진다. 각 줄에는 최소 1개, 최대 15개의 글자들이 빈칸 없이 연속으로 주어진다. 주어지는 글자는 영어 대문자 ‘A’부터 ‘Z’, 영어 소문자 ‘a’부터 ‘z’, 숫자 ‘0’부터 ‘9’ 중 하나이다. 각 줄의 시작과 마지막에 빈칸은 없다."
   ]
  },
  {
   "cell_type": "code",
   "execution_count": null,
   "metadata": {},
   "outputs": [],
   "source": [
    "#문제 해석\n",
    "# 말 그대로 리스트로 받아서 세로로 읽으면 될거같다\n",
    "# 예상 코딩\n",
    "# 다섯줄의 입력 받음 최소 1개 ~15개의 글자로 받고 \n",
    "# 대문자 소문자 상관없이 세로로 글을 읽으면 된다."
   ]
  },
  {
   "cell_type": "markdown",
   "metadata": {},
   "source": [
    "# 초기 작성"
   ]
  },
  {
   "cell_type": "code",
   "execution_count": null,
   "metadata": {},
   "outputs": [],
   "source": [
    "arr = []\n",
    "for i in range(5):\n",
    "    a=list(input())\n",
    "    arr.append(a)\n",
    "print(arr)\n",
    "for index,row in enumerate(arr):\n",
    "    for jndex,rrow in range(15):\n",
    "        # print(jndex,index)# 순서 알기 위한 용\n",
    "        # if arr[jndex][index] =='NULL':\n",
    "            # pass\n",
    "        # print(arr[jndex][index], end=\"\")"
   ]
  },
  {
   "cell_type": "markdown",
   "metadata": {},
   "source": [
    "# 1트 이후, 문제를 다시 읽고 제출 후, 성공"
   ]
  },
  {
   "cell_type": "code",
   "execution_count": 17,
   "metadata": {},
   "outputs": [
    {
     "name": "stdout",
     "output_type": "stream",
     "text": [
      "Aa0aPAf985Bz1EhCz2W3D1gkD6x"
     ]
    }
   ],
   "source": [
    "arr = []\n",
    "max_len=0\n",
    "for i in range(5): # 행 5개 \n",
    "    a=list(input())\n",
    "    temp_max=len(a)\n",
    "    if max_len <=temp_max:\n",
    "        max_len = temp_max # max_len으로 전부확인 할 에정\n",
    "    arr.append(a)\n",
    "for index,row in enumerate(range(max_len)):\n",
    "    for jndex,rrow in enumerate(range(15)): # 인풋의 제한이 1~15라서 15로 제한함...\n",
    "        try:\n",
    "            print(arr[jndex][index], end='')\n",
    "        except:\n",
    "            continue\n"
   ]
  },
  {
   "cell_type": "code",
   "execution_count": 21,
   "metadata": {},
   "outputs": [],
   "source": [
    "# 느낀점 생각보다 쉬웠달까...?"
   ]
  }
 ],
 "metadata": {
  "kernelspec": {
   "display_name": "Python 3",
   "language": "python",
   "name": "python3"
  },
  "language_info": {
   "codemirror_mode": {
    "name": "ipython",
    "version": 3
   },
   "file_extension": ".py",
   "mimetype": "text/x-python",
   "name": "python",
   "nbconvert_exporter": "python",
   "pygments_lexer": "ipython3",
   "version": "3.12.0"
  }
 },
 "nbformat": 4,
 "nbformat_minor": 2
}
