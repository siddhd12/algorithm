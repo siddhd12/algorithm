{
 "cells": [
  {
   "cell_type": "markdown",
   "metadata": {},
   "source": [
    "가로, 세로의 크기가 각각 100인 정사각형 모양의 흰색 도화지가 있다. 이 도화지 위에 가로, 세로의 크기가 각각 10인 정사각형 모양의 검은색 색종이를 색종이의 변과 도화지의 변이 평행하도록 붙인다.\n",
    "\n",
    "이러한 방식으로 색종이를 한 장 또는 여러 장 붙인 후 색종이가 붙은 검은 영역의 넓이를 구하는 프로그램을 작성하시오."
   ]
  },
  {
   "cell_type": "markdown",
   "metadata": {},
   "source": [
    "<!-- ### 문제 해석\n",
    "사각형의 넓이 공식은 밑변 곱하기 높이\n",
    "\n",
    "A 사각형\n",
    "3~13\n",
    "7~17\n",
    "B 안겹침 \n",
    "15~25\n",
    "7~17\n",
    "C\n",
    "5~15\n",
    "2~12\n",
    "\n",
    "\n",
    "왼벽, 밑변\n",
    "\n",
    "case1. 왼벽이 겹치지 않으면 높이가 겹쳐도 서로 다른곳에 있다.\n",
    "case2. 왼벽과 높이가 겹치면 겹쳐진다\n",
    "case3. 높이가 겹치지 않으면 왼벽이 겹쳐도 서로 다른 곳에 있다.\n",
    "\n",
    "총 3개 의 경우 를 계산 해야함\n",
    "\n",
    "일단 A=[3~13],[7~17] # 왼벽,높이\n",
    "   B = [15,25],[7,17] # 왼벽,높이\n",
    "   C = [5,15],[2,12] -->\n",
    "   "
   ]
  },
  {
   "cell_type": "code",
   "execution_count": null,
   "metadata": {},
   "outputs": [],
   "source": [
    "##문제 해석\n",
    "# 사각형의 넓이 공식은 밑변 곱하기 높이\n",
    "\n",
    "# A 사각형\n",
    "# 3~13\n",
    "# 7~17\n",
    "# B 안겹침 \n",
    "# 15~25\n",
    "# 7~17\n",
    "# C\n",
    "# 5~15\n",
    "# 2~12\n",
    "\n",
    "\n",
    "# 왼벽, 밑변\n",
    "\n",
    "# case1. 왼벽이 겹치지 않으면 높이가 겹쳐도 서로 다른곳에 있다.\n",
    "# case2. 왼벽과 높이가 겹치면 겹쳐진다\n",
    "# case3. 높이가 겹치지 않으면 왼벽이 겹쳐도 서로 다른 곳에 있다.\n",
    "\n",
    "# 총 3개 의 경우 를 계산 해야함\n",
    "# 색종이의 수를 넣고 계산\n",
    "# 일단 A=[[3,13],[7,17]] # 왼벽,높이\n",
    "#    B = [[15,25],[7,17]] # 왼벽,높이\n",
    "#    C = [[5,15],[2,12]] # 왼벽, 높이\n",
    "   "
   ]
  },
  {
   "cell_type": "code",
   "execution_count": 12,
   "metadata": {},
   "outputs": [
    {
     "name": "stdout",
     "output_type": "stream",
     "text": [
      "[[3, 7], [4, 7], [5, 7]]\n"
     ]
    }
   ],
   "source": [
    "num = int(input())\n",
    "sq=[ ] # 사각형 넓이 담을거\n",
    "for i in (range(num)):\n",
    "   temp_sq=list(map(int,input().split(\" \")))\n",
    "   sq.append(temp_sq)\n",
    "    # bottom_last=bottom_first+10\n",
    "    \n",
    "    # high_last=high_first+10\n",
    "\n",
    "print(sq)\n",
    "\n"
   ]
  },
  {
   "cell_type": "code",
   "execution_count": 20,
   "metadata": {},
   "outputs": [
    {
     "name": "stdout",
     "output_type": "stream",
     "text": [
      "[3, 7]\n",
      "3\n",
      "7\n",
      "[4, 6]\n",
      "4\n",
      "6\n",
      "[5, 7]\n",
      "5\n",
      "7\n"
     ]
    }
   ],
   "source": [
    "for sm_sq in range(num):\n",
    "    print(sq[sm_sq])\n",
    "    for i in sq[sm_sq]:\n",
    "        print(i)\n",
    "    # print(i) # 계산이 필요 \n",
    "    # 진짜 어렵다\n",
    "    # ....봐버렸다.... 코드를 본건 아니지만 어떤식으로 풀지보게됨...\n",
    "    # 전부 0000으로된 2차원 배열에서 해당되는것들만 1로만 바꾸고 면적을 구하면된다.. 생각보다 진짜 쉽다..\n",
    "    # 작성한 경우의 수가 박살남\n",
    "    \n",
    "    \n"
   ]
  },
  {
   "cell_type": "code",
   "execution_count": 46,
   "metadata": {},
   "outputs": [
    {
     "name": "stdout",
     "output_type": "stream",
     "text": [
      "260\n"
     ]
    }
   ],
   "source": [
    "# 사각형 만들기\n",
    "square=[] # 100*100 사각형\n",
    "static_num=1\n",
    "fix_num=0\n",
    "for i in range(100):\n",
    "    temp_square=[] # 지역변수로 square를 넣을 것\n",
    "    for i in range(100):\n",
    "        temp_square.append(static_num)\n",
    "    square.append(temp_square)\n",
    "##########################################\n",
    "# 사각형 중첩시키기  ###\n",
    "square_num=int(input())\n",
    "for i in (range(square_num)):\n",
    "   first,last=map(int,input().split(\" \"))\n",
    "  #  print(first,last)\n",
    "   for first_num in range(first,first+10):\n",
    "    #   print(first_num)\n",
    "      for last_num in range(last,last+10):\n",
    "        #  print(first_num,last_num)\n",
    "         square[first_num][last_num]=fix_num\n",
    "############################################\n",
    "# 사각형 계산\n",
    "result=0\n",
    "for i in square:\n",
    "  if 0 in i:\n",
    "    sq_num=i.count(0) # 사각형 넓이 하기 왜냐 1cm 높이를 가진 밑변길이로 카운트하면 쉽게 나오지 않을까라는 생각\n",
    "    result+=sq_num\n",
    "    # print(sq_num)\n",
    "print(result)\n",
    "\n",
    "\n"
   ]
  },
  {
   "cell_type": "code",
   "execution_count": null,
   "metadata": {},
   "outputs": [],
   "source": [
    "# 느낀점 어떠한 아이디어만 있다면 알고리즘을 푸는건 쉽다는거\n",
    "# 하지만 그 아이디어를 발견하는것이 개발자의 능력을 가르는 길이 아닌가 싶다"
   ]
  }
 ],
 "metadata": {
  "kernelspec": {
   "display_name": "Python 3",
   "language": "python",
   "name": "python3"
  },
  "language_info": {
   "codemirror_mode": {
    "name": "ipython",
    "version": 3
   },
   "file_extension": ".py",
   "mimetype": "text/x-python",
   "name": "python",
   "nbconvert_exporter": "python",
   "pygments_lexer": "ipython3",
   "version": "3.12.0"
  }
 },
 "nbformat": 4,
 "nbformat_minor": 2
}
