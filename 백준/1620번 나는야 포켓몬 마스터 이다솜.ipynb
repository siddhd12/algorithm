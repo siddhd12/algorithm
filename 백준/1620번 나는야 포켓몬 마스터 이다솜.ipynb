{
 "cells": [
  {
   "cell_type": "markdown",
   "metadata": {},
   "source": [
    "오영식 : 내가 지다니 분하다. ㅜㅜ\n",
    "\n",
    "오박사 : 그럼 다솜아 이제 진정한 포켓몬 마스터가 되기 위해 도감을 완성시키도록 하여라. 일단 네가 현재 가지고 있는 포켓몬 도감에서 포켓몬의 이름을 보면 포켓몬의 번호를 말하거나, 포켓몬의 번호를 보면 포켓몬의 이름을 말하는 연습을 하도록 하여라. 나의 시험을 통과하면, 내가 새로 만든 도감을 주도록 하겠네.\n",
    "\n",
    "입력\n",
    "첫째 줄에는 도감에 수록되어 있는 포켓몬의 개수 N이랑 내가 맞춰야 하는 문제의 개수 M이 주어져. N과 M은 1보다 크거나 같고, 100,000보다 작거나 같은 자연수인데, 자연수가 뭔지는 알지? 모르면 물어봐도 괜찮아. 나는 언제든지 질문에 답해줄 준비가 되어있어.\n",
    "\n",
    "둘째 줄부터 N개의 줄에 포켓몬의 번호가 1번인 포켓몬부터 N번에 해당하는 포켓몬까지 한 줄에 하나씩 입력으로 들어와. 포켓몬의 이름은 모두 영어로만 이루어져있고, 또, 음... 첫 글자만 대문자이고, 나머지 문자는 소문자로만 이루어져 있어. 아참! 일부 포켓몬은 마지막 문자만 대문자일 수도 있어. 포켓몬 이름의 최대 길이는 20, 최소 길이는 2야. 그 다음 줄부터 총 M개의 줄에 내가 맞춰야하는 문제가 입력으로 들어와. 문제가 알파벳으로만 들어오면 포켓몬 번호를 말해야 하고, 숫자로만 들어오면, 포켓몬 번호에 해당하는 문자를 출력해야해. 입력으로 들어오는 숫자는 반드시 1보다 크거나 같고, N보다 작거나 같고, 입력으로 들어오는 문자는 반드시 도감에 있는 포켓몬의 이름만 주어져. 그럼 화이팅!!!"
   ]
  },
  {
   "cell_type": "code",
   "execution_count": null,
   "metadata": {},
   "outputs": [],
   "source": [
    "#### 예상코드\n",
    "# 내용이 상당히길다 .. 해봐야 안다...\n",
    "# n,m을 입력받고 n+m을 입력한다\n",
    "# n번만큼 입력받고 그 길이 만큼 딕셔너리로 만들고 해당 값에 맞게 숫자가 입력되면 해당 인덱스 포켓몬을 말하고 문자열이 입력되면 숫자를 말하면된다.."
   ]
  },
  {
   "cell_type": "code",
   "execution_count": 2,
   "metadata": {},
   "outputs": [],
   "source": [
    "import sys\n",
    "n,m =map(int,(input().split(' ')))\n",
    "va_list=[]\n",
    "ind_va_list={}\n",
    "va_ind_list={}\n",
    "for i in range(n):\n",
    "    v=sys.stdin.readline().strip()\n",
    "    ind_va_list[v]=i\n",
    "    va_ind_list[i]=v\n",
    "for i in range(m):\n",
    "    q=sys.stdin.readline().strip()\n",
    "    if q.isdigit():\n",
    "        print(va_ind_list[int(q)-1])\n",
    "    else:\n",
    "        print(ind_va_list[q]+1)  "
   ]
  },
  {
   "cell_type": "code",
   "execution_count": 4,
   "metadata": {},
   "outputs": [],
   "source": [
    "# 느낀점:문제 푸는건 개빨랐음.. 근데 저 strip이랑 시간 문제 땜에 생각보다 오래걸림...요즘은 시간 문제는 딱히 필요없다는데 잘모르겠네... 계속 해봐야할듯.."
   ]
  },
  {
   "cell_type": "code",
   "execution_count": null,
   "metadata": {},
   "outputs": [],
   "source": []
  }
 ],
 "metadata": {
  "kernelspec": {
   "display_name": "Python 3",
   "language": "python",
   "name": "python3"
  },
  "language_info": {
   "codemirror_mode": {
    "name": "ipython",
    "version": 3
   },
   "file_extension": ".py",
   "mimetype": "text/x-python",
   "name": "python",
   "nbconvert_exporter": "python",
   "pygments_lexer": "ipython3",
   "version": "3.12.0"
  }
 },
 "nbformat": 4,
 "nbformat_minor": 2
}
